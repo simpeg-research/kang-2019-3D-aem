{
 "cells": [
  {
   "cell_type": "code",
   "execution_count": 165,
   "metadata": {},
   "outputs": [],
   "source": [
    "from discretize import TensorMesh, CylMesh\n",
    "from scipy.constants import mu_0\n",
    "import numpy as np\n",
    "import matplotlib.pyplot as plt\n",
    "from simpegaem import SimulationAEM\n",
    "%matplotlib inline"
   ]
  },
  {
   "cell_type": "code",
   "execution_count": 166,
   "metadata": {},
   "outputs": [],
   "source": [
    "# cell size, number of cells in the x-direction, \n",
    "# number of cells in the z-direction and number of padding cells\n",
    "mesh_type = '2d_cyl'\n",
    "\n",
    "if mesh_type== '2d_cyl':\n",
    "    ncx = 10\n",
    "    csx = 10.\n",
    "    npadx = 20.\n",
    "    ncz = 10.\n",
    "    csz = 5.\n",
    "    npadz = 18.\n",
    "    hx = [(csx, ncx), (csx, npadx, 1.3)]\n",
    "    hz = [(csz, npadz, -1.3), (csz, ncx), (csz, npadz, 1.3)]    \n",
    "    mesh = CylMesh([hx, 1, hz], x0='00C')\n",
    "elif mesh_type == '3d_tensor':\n",
    "    cs, ncx, npad = 10., 9, 8    \n",
    "    ncy = 1\n",
    "    ncz = 6\n",
    "    hx = [(cs, npad, -1.3), (cs, ncx), (cs, npad, 1.3)]\n",
    "    hy = [(cs, npad, -1.3), (cs, ncy), (cs, npad, 1.3)]    \n",
    "    hz = [(cs, npad, -1.3), (cs, ncz), (cs, npad, 1.3)]\n",
    "    mesh = TensorMesh([hx, hy, hz], 'CCC')\n",
    "active = mesh.cell_centers[:,2] < 0.\n",
    "sigma_background = 1./1000\n",
    "sigma_layer = 1.\n",
    "sigma = np.ones(mesh.n_cells)*1e-8\n",
    "sigma[active] = sigma_background\n",
    "ind_layer = np.logical_and(mesh.cell_centers[:,2]<-100., mesh.cell_centers[:,2]>-200.)\n",
    "sigma[ind_layer] = sigma_layer\n",
    "rho = 1./sigma"
   ]
  },
  {
   "cell_type": "code",
   "execution_count": 167,
   "metadata": {},
   "outputs": [],
   "source": [
    "from matplotlib.colors import LogNorm"
   ]
  },
  {
   "cell_type": "code",
   "execution_count": 168,
   "metadata": {},
   "outputs": [
    {
     "data": {
      "text/plain": [
       "<matplotlib.colorbar.Colorbar at 0x1f3f973f730>"
      ]
     },
     "execution_count": 168,
     "metadata": {},
     "output_type": "execute_result"
    },
    {
     "data": {
      "image/png": "[encoded data removed]",
      "text/plain": [
       "<Figure size 432x288 with 2 Axes>"
      ]
     },
     "metadata": {
      "needs_background": "light"
     },
     "output_type": "display_data"
    }
   ],
   "source": [
    "out = mesh.plot_image(sigma, pcolor_opts={'norm':LogNorm()})\n",
    "plt.colorbar(out[0])"
   ]
  },
  {
   "cell_type": "code",
   "execution_count": 169,
   "metadata": {},
   "outputs": [],
   "source": [
    "from SimPEG import utils\n",
    "import SimPEG.electromagnetics.time_domain as tdem\n",
    "from SimPEG import maps\n",
    "from pymatsolver import PardisoSolver\n",
    "# from pymatsolver import Solver"
   ]
  },
  {
   "cell_type": "code",
   "execution_count": 170,
   "metadata": {
    "scrolled": false
   },
   "outputs": [
    {
     "name": "stderr",
     "output_type": "stream",
     "text": [
      "C:\\Users\\sgkan\\Projects\\pymatsolver\\pymatsolver\\direct.py:23: PardisoTypeConversionWarning: Converting csc_matrix matrix to CSR format, will slow down.\n",
      "  self.solver = MKLPardisoSolver(\n",
      "C:\\Users\\sgkan\\Projects\\pymatsolver\\pymatsolver\\direct.py:73: PardisoTypeConversionWarning: Converting csc_matrix matrix to CSR format, will slow down.\n",
      "  self.solver.refactor(self.A)\n"
     ]
    }
   ],
   "source": [
    "receiver_orientation = \"z\"                    # \"x\", \"y\" or \"z\"\n",
    "z_src = 30\n",
    "x_rx = 10.\n",
    "z_offset = 0.\n",
    "receiver_location = np.array([x_rx, 0., z_src+z_offset])\n",
    "source_location = np.array([0., 0., z_src])\n",
    "times = np.logspace(np.log10(1e-6), np.log10(1e-2), 31)\n",
    "rx = tdem.receivers.PointMagneticFluxTimeDerivative(\n",
    "    receiver_location, times, orientation=receiver_orientation\n",
    ")\n",
    "receiver_list = [rx]\n",
    "src = tdem.sources.MagDipole(\n",
    "    receiver_list=receiver_list, location=source_location,\n",
    "    waveform=tdem.sources.StepOffWaveform(), orientation='z'\n",
    ")\n",
    "\n",
    "# Survey\n",
    "source_list = [src]\n",
    "survey = tdem.Survey(source_list)\n",
    "dts = np.diff(np.logspace(-7, -1, 60))\n",
    "time_steps = []\n",
    "for dt in dts:\n",
    "    time_steps.append((dt, 1))\n",
    "\n",
    "simulation_3d = SimulationAEM(\n",
    "    mesh=mesh,\n",
    "    survey=survey,\n",
    "    sigmaMap=maps.IdentityMap(mesh),\n",
    "    solver=PardisoSolver,\n",
    "    time_steps=time_steps\n",
    ")    \n",
    "data = simulation_3d.dpred(sigma)"
   ]
  },
  {
   "cell_type": "code",
   "execution_count": 171,
   "metadata": {},
   "outputs": [
    {
     "data": {
      "text/plain": [
       "array([-6.95550670e-08, -4.07848823e-08, -2.35891795e-08, -1.33264007e-08,\n",
       "       -7.10628504e-09, -3.43039903e-09, -1.52894216e-09, -5.79949389e-10,\n",
       "       -1.67282877e-10, -3.64667397e-11, -1.07510133e-11, -8.50307423e-12,\n",
       "       -9.49142032e-12, -9.55665306e-12, -9.15188287e-12, -8.57516850e-12,\n",
       "       -7.85687607e-12, -7.01184967e-12, -6.05515109e-12, -5.01891046e-12,\n",
       "       -3.98006234e-12, -3.01601884e-12, -2.21072627e-12, -1.60602771e-12,\n",
       "       -1.17241407e-12, -8.71935267e-13, -6.56589673e-13, -4.81895567e-13,\n",
       "       -3.36350106e-13, -2.22639913e-13, -1.36363386e-13])"
      ]
     },
     "execution_count": 171,
     "metadata": {},
     "output_type": "execute_result"
    }
   ],
   "source": [
    "data"
   ]
  },
  {
   "cell_type": "code",
   "execution_count": 172,
   "metadata": {},
   "outputs": [],
   "source": [
    "# x = np.linspace(10, 100, 10)\n",
    "# y = np.zeros_like(x)\n",
    "# z = np.ones_like(x) * 30.\n",
    "# Fz = mesh.getInterpolationMat(np.c_[x, y, z], locType='Fz')\n",
    "# b0 = src.bInitial(prb)\n",
    "# bz = Fz*b0\n",
    "# bza = -1./(4*np.pi*x**3) * mu_0\n",
    "# plt.semilogy(x, -bz/(np.pi/2), 'k-', )\n",
    "# plt.semilogy(x, -bz, 'k--', )\n",
    "# plt.semilogy(x, -bza, 'kx')"
   ]
  },
  {
   "cell_type": "code",
   "execution_count": 173,
   "metadata": {},
   "outputs": [
    {
     "data": {
      "text/plain": [
       "array([-6.85002703e-08, -4.05940986e-08, -2.34511233e-08, -1.32274856e-08,\n",
       "       -7.29735146e-09, -3.94484717e-09, -2.09355356e-09, -1.09275855e-09,\n",
       "       -5.61970435e-10, -2.85213092e-10, -1.43072763e-10, -7.10364069e-11,\n",
       "       -3.49536459e-11, -1.70641731e-11, -8.27354822e-12, -3.98756174e-12,\n",
       "       -1.91196906e-12, -9.12608555e-13, -4.33929572e-13, -2.05651318e-13,\n",
       "       -9.71631797e-14, -4.58006175e-14, -2.15480133e-14, -1.01102200e-14,\n",
       "       -4.74042681e-15, -2.22145203e-15, -1.03641068e-15, -4.85378237e-16,\n",
       "       -2.27449495e-16, -1.04700458e-16, -4.96788877e-17])"
      ]
     },
     "execution_count": 173,
     "metadata": {},
     "output_type": "execute_result"
    }
   ],
   "source": [
    "# Define the simulation\n",
    "simulation = tdem.Simulation1DLayered(\n",
    "    survey=survey,\n",
    "    sigmaMap=maps.IdentityMap(nP=1),\n",
    ")\n",
    "\n",
    "# Predict data for a given model\n",
    "sigma_1d =  np.ones(1) * sigma_background\n",
    "data_analytic = simulation.dpred(sigma_1d)\n",
    "data_analytic"
   ]
  },
  {
   "cell_type": "code",
   "execution_count": 174,
   "metadata": {},
   "outputs": [
    {
     "data": {
      "text/plain": [
       "[<matplotlib.lines.Line2D at 0x1f3fbb706a0>]"
      ]
     },
     "execution_count": 174,
     "metadata": {},
     "output_type": "execute_result"
    },
    {
     "data": {
      "image/png": "[encoded data removed]",
      "text/plain": [
       "<Figure size 432x288 with 1 Axes>"
      ]
     },
     "metadata": {
      "needs_background": "light"
     },
     "output_type": "display_data"
    }
   ],
   "source": [
    "plt.loglog(times, -data_analytic)\n",
    "plt.loglog(times, -data, '.')"
   ]
  },
  {
   "cell_type": "code",
   "execution_count": 175,
   "metadata": {},
   "outputs": [],
   "source": [
    "# # %%time\n",
    "# data_analytic, _, _ = aem_simulation(1./sigma_background, 1./sigma_background, 10, 10)"
   ]
  },
  {
   "cell_type": "code",
   "execution_count": 176,
   "metadata": {},
   "outputs": [],
   "source": [
    "# plt.loglog(rx.times, -data/(np.pi/2.), 'kx')\n",
    "# plt.loglog(rx.times, -data_analytic, 'k')\n",
    "# plt.loglog(prb.times, np.ones(prb.times.size)*1e-11, 'k|')"
   ]
  },
  {
   "cell_type": "code",
   "execution_count": 177,
   "metadata": {},
   "outputs": [],
   "source": [
    "b0 = src.bInitial(simulation_3d)"
   ]
  },
  {
   "cell_type": "code",
   "execution_count": 178,
   "metadata": {},
   "outputs": [
    {
     "data": {
      "text/plain": [
       "(2790,)"
      ]
     },
     "execution_count": 178,
     "metadata": {},
     "output_type": "execute_result"
    }
   ],
   "source": [
    "b0.shape"
   ]
  },
  {
   "cell_type": "code",
   "execution_count": 179,
   "metadata": {},
   "outputs": [
    {
     "data": {
      "text/plain": [
       "2790"
      ]
     },
     "execution_count": 179,
     "metadata": {},
     "output_type": "execute_result"
    }
   ],
   "source": [
    "mesh.n_faces"
   ]
  },
  {
   "cell_type": "code",
   "execution_count": 180,
   "metadata": {},
   "outputs": [],
   "source": [
    "from scipy.interpolate import interp1d"
   ]
  },
  {
   "cell_type": "code",
   "execution_count": 181,
   "metadata": {},
   "outputs": [],
   "source": [
    "def bdf1():\n",
    "    # Operators\n",
    "    C = mesh.edgeCurl\n",
    "    Mfmui = mesh.getFaceInnerProduct(1./mu_0)\n",
    "    MeSigma = mesh.getEdgeInnerProduct(sigma)\n",
    "    n_steps = simulation_3d.time_steps.size\n",
    "    Fz = mesh.getInterpolationMat(rx.locations, locType='Fz')\n",
    "    eps = 1e-10\n",
    "    def getA(dt):\n",
    "        return C.T*Mfmui*C + 1./dt * MeSigma\n",
    "    dt_0 = 0.\n",
    "    data_test = np.zeros(simulation_3d.time_steps.size)\n",
    "    sol_n0 = np.zeros(mesh.nE)\n",
    "    sol_n1 = np.zeros(mesh.nE)\n",
    "\n",
    "    for ii in range(n_steps):\n",
    "        dt = simulation_3d.time_steps[ii]\n",
    "        A = getA(dt)\n",
    "        if abs(dt_0-dt) > eps:\n",
    "            Ainv = simulation_3d.solver(A)\n",
    "        if ii==0:        \n",
    "            b0 = src.bInitial(simulation_3d)\n",
    "            s_e = C.T*Mfmui*b0\n",
    "            rhs = s_e/dt\n",
    "        else:\n",
    "            rhs = MeSigma*sol_n0/dt\n",
    "        sol_n1 = Ainv*rhs\n",
    "        data_test[ii] = Fz*(-C*sol_n1)\n",
    "        dt_0 = dt\n",
    "        sol_n0 = sol_n1.copy()    \n",
    "    step_func = interp1d(\n",
    "        np.log10(simulation_3d.time_mesh.gridCC[:]), data_test\n",
    "    )\n",
    "    return step_func(np.log10(rx.times))"
   ]
  },
  {
   "cell_type": "code",
   "execution_count": 182,
   "metadata": {},
   "outputs": [],
   "source": [
    "def bdf2():\n",
    "    # Operators\n",
    "    C = mesh.edgeCurl\n",
    "    Mfmui = mesh.getFaceInnerProduct(1./mu_0)\n",
    "    MeSigma = mesh.getEdgeInnerProduct(sigma)\n",
    "    n_steps = simulation_3d.time_steps.size\n",
    "    Fz = mesh.getInterpolationMat(rx.locations, locType='Fz')\n",
    "    eps = 1e-10\n",
    "    def getA(dt, factor=1.):\n",
    "        return C.T*Mfmui*C + factor/dt * MeSigma\n",
    "    dt_0 = 0.\n",
    "    data_test = np.zeros(simulation_3d.time_steps.size)\n",
    "    sol_n0 = np.zeros(mesh.nE)\n",
    "    sol_n1 = np.zeros(mesh.nE)\n",
    "    sol_n2 = np.zeros(mesh.nE)\n",
    "    for ii in range(n_steps):\n",
    "        dt = simulation_3d.time_steps[ii]\n",
    "        #Factor for BDF2\n",
    "        factor=3/2.            \n",
    "        if abs(dt_0-dt) > eps:\n",
    "            print (ii, factor)\n",
    "            A = getA(dt, factor=factor)            \n",
    "            Ainv = simulation_3d.solver(A)\n",
    "        if ii==0:        \n",
    "            b0 = src.bInitial(simulation_3d)\n",
    "            s_e = C.T*Mfmui*b0\n",
    "            rhs = factor/dt*s_e\n",
    "        elif ii==1:\n",
    "            rhs = -factor/dt*(MeSigma*(-4/3.*sol_n1+1/3.*sol_n0) + 1./3.*s_e)\n",
    "        else:\n",
    "            rhs = -factor/dt*(MeSigma*(-4/3.*sol_n1+1/3.*sol_n0))\n",
    "        sol_n2 = Ainv*rhs\n",
    "        data_test[ii] = Fz*(-C*sol_n2)\n",
    "        dt_0 = dt\n",
    "        sol_n0 = sol_n1.copy()            \n",
    "        sol_n1 = sol_n2.copy()    \n",
    "    step_func = interp1d(\n",
    "        np.log10(simulation_3d.time_mesh.gridCC[:]), data_test\n",
    "    )\n",
    "    return step_func(np.log10(rx.times))"
   ]
  },
  {
   "cell_type": "code",
   "execution_count": 183,
   "metadata": {},
   "outputs": [
    {
     "name": "stderr",
     "output_type": "stream",
     "text": [
      "C:\\Users\\sgkan\\Projects\\pymatsolver\\pymatsolver\\direct.py:23: PardisoTypeConversionWarning: Converting csc_matrix matrix to CSR format, will slow down.\n",
      "  self.solver = MKLPardisoSolver(\n",
      "C:\\Users\\sgkan\\Projects\\pymatsolver\\pymatsolver\\direct.py:73: PardisoTypeConversionWarning: Converting csc_matrix matrix to CSR format, will slow down.\n",
      "  self.solver.refactor(self.A)\n"
     ]
    }
   ],
   "source": [
    "temp1 = bdf1()"
   ]
  },
  {
   "cell_type": "code",
   "execution_count": 184,
   "metadata": {},
   "outputs": [
    {
     "name": "stdout",
     "output_type": "stream",
     "text": [
      "0 1.5\n",
      "1 1.5\n",
      "2 1.5\n",
      "3 1.5\n",
      "4 1.5\n",
      "5 1.5\n",
      "6 1.5\n",
      "7 1.5\n",
      "8 1.5\n",
      "9 1.5\n",
      "10 1.5\n",
      "11 1.5\n",
      "12 1.5\n",
      "13 1.5\n",
      "14 1.5\n",
      "15 1.5\n",
      "16 1.5\n",
      "17 1.5\n",
      "18 1.5\n",
      "19 1.5\n",
      "20 1.5\n",
      "21 1.5\n",
      "22 1.5\n",
      "23 1.5\n",
      "24 1.5\n",
      "25 1.5\n",
      "26 1.5\n",
      "27 1.5\n",
      "28 1.5\n",
      "29 1.5\n",
      "30 1.5\n",
      "31 1.5\n",
      "32 1.5\n",
      "33 1.5\n",
      "34 1.5\n",
      "35 1.5\n",
      "36 1.5\n",
      "37 1.5\n",
      "38 1.5\n",
      "39 1.5\n",
      "40 1.5\n",
      "41 1.5\n",
      "42 1.5\n",
      "43 1.5\n",
      "44 1.5\n",
      "45 1.5\n",
      "46 1.5\n",
      "47 1.5\n",
      "48 1.5\n",
      "49 1.5\n",
      "50 1.5\n",
      "51 1.5\n",
      "52 1.5\n",
      "53 1.5\n",
      "54 1.5\n",
      "55 1.5\n",
      "56 1.5\n",
      "57 1.5\n",
      "58 1.5\n"
     ]
    }
   ],
   "source": [
    "temp2 = bdf2()"
   ]
  },
  {
   "cell_type": "code",
   "execution_count": 185,
   "metadata": {},
   "outputs": [
    {
     "data": {
      "text/plain": [
       "array([-6.85002703e-08, -4.05940986e-08, -2.34511233e-08, -1.32274856e-08,\n",
       "       -7.29735146e-09, -3.94484717e-09, -2.09355356e-09, -1.09275855e-09,\n",
       "       -5.61970435e-10, -2.85213092e-10, -1.43072763e-10, -7.10364069e-11,\n",
       "       -3.49536459e-11, -1.70641731e-11, -8.27354822e-12, -3.98756174e-12,\n",
       "       -1.91196906e-12, -9.12608555e-13, -4.33929572e-13, -2.05651318e-13,\n",
       "       -9.71631797e-14, -4.58006175e-14, -2.15480133e-14, -1.01102200e-14,\n",
       "       -4.74042681e-15, -2.22145203e-15, -1.03641068e-15, -4.85378237e-16,\n",
       "       -2.27449495e-16, -1.04700458e-16, -4.96788877e-17])"
      ]
     },
     "execution_count": 185,
     "metadata": {},
     "output_type": "execute_result"
    }
   ],
   "source": [
    "data_analytic"
   ]
  },
  {
   "cell_type": "code",
   "execution_count": 186,
   "metadata": {},
   "outputs": [
    {
     "data": {
      "text/plain": [
       "<matplotlib.legend.Legend at 0x1f3fd2e7f70>"
      ]
     },
     "execution_count": 186,
     "metadata": {},
     "output_type": "execute_result"
    },
    {
     "data": {
      "image/png": "[encoded data removed]",
      "text/plain": [
       "<Figure size 720x720 with 1 Axes>"
      ]
     },
     "metadata": {
      "needs_background": "light"
     },
     "output_type": "display_data"
    }
   ],
   "source": [
    "plt.figure(figsize = (10, 10))\n",
    "plt.loglog(rx.times, -data_analytic, 'k')\n",
    "plt.loglog(rx.times, -data, 'k.')\n",
    "plt.loglog(rx.times, -temp1, 'b--')\n",
    "plt.loglog(rx.times, -temp2, 'r--')\n",
    "plt.legend((\"Analytic\", \"SimPEG-AEM\", \"BDF1\", \"BDF2\"))"
   ]
  },
  {
   "cell_type": "code",
   "execution_count": 187,
   "metadata": {},
   "outputs": [
    {
     "data": {
      "text/plain": [
       "289.5046344056027"
      ]
     },
     "execution_count": 187,
     "metadata": {},
     "output_type": "execute_result"
    }
   ],
   "source": [
    "np.sqrt(abs((data_analytic-temp1)/data_analytic)**2).mean()"
   ]
  },
  {
   "cell_type": "code",
   "execution_count": 188,
   "metadata": {},
   "outputs": [
    {
     "data": {
      "text/plain": [
       "291.1760061341364"
      ]
     },
     "execution_count": 188,
     "metadata": {},
     "output_type": "execute_result"
    }
   ],
   "source": [
    "np.sqrt(abs((data_analytic-temp2)/data_analytic)**2).mean()"
   ]
  },
  {
   "cell_type": "code",
   "execution_count": 189,
   "metadata": {},
   "outputs": [
    {
     "data": {
      "text/plain": [
       "291.17600613413646"
      ]
     },
     "execution_count": 189,
     "metadata": {},
     "output_type": "execute_result"
    }
   ],
   "source": [
    "np.sqrt(abs((data_analytic-data)/data_analytic)**2).mean()"
   ]
  },
  {
   "cell_type": "code",
   "execution_count": 190,
   "metadata": {},
   "outputs": [
    {
     "name": "stdout",
     "output_type": "stream",
     "text": [
      "0.4.0\n"
     ]
    }
   ],
   "source": [
    "import geoana\n",
    "print (geoana.__version__)"
   ]
  },
  {
   "cell_type": "code",
   "execution_count": 191,
   "metadata": {},
   "outputs": [],
   "source": [
    "import SimPEG"
   ]
  },
  {
   "cell_type": "code",
   "execution_count": 192,
   "metadata": {},
   "outputs": [
    {
     "data": {
      "text/plain": [
       "'0.18.1'"
      ]
     },
     "execution_count": 192,
     "metadata": {},
     "output_type": "execute_result"
    }
   ],
   "source": [
    "SimPEG.__version__"
   ]
  }
 ],
 "metadata": {
  "kernelspec": {
   "display_name": "Python 3",
   "language": "python",
   "name": "python3"
  },
  "language_info": {
   "codemirror_mode": {
    "name": "ipython",
    "version": 3
   },
   "file_extension": ".py",
   "mimetype": "text/x-python",
   "name": "python",
   "nbconvert_exporter": "python",
   "pygments_lexer": "ipython3",
   "version": "3.8.8"
  }
 },
 "nbformat": 4,
 "nbformat_minor": 2
}
