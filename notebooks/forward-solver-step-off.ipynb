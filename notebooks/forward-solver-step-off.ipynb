{
 "cells": [
  {
   "cell_type": "code",
   "execution_count": 1,
   "metadata": {},
   "outputs": [],
   "source": [
    "from discretize import TensorMesh, CylMesh\n",
    "from scipy.constants import mu_0\n",
    "import numpy as np\n",
    "import matplotlib.pyplot as plt\n",
    "from simpegaem import SimulationAEM\n",
    "%matplotlib inline"
   ]
  },
  {
   "cell_type": "code",
   "execution_count": 2,
   "metadata": {},
   "outputs": [
    {
     "name": "stderr",
     "output_type": "stream",
     "text": [
      "/Users/sgkang09/anaconda3/lib/python3.10/site-packages/discretize/utils/code_utils.py:148: FutureWarning: CylMesh has been deprecated, please use CylindricalMesh. It will be removed in version 1.0.0 of discretize.\n",
      "  warnings.warn(message, warn)\n"
     ]
    }
   ],
   "source": [
    "# cell size, number of cells in the x-direction, \n",
    "# number of cells in the z-direction and number of padding cells\n",
    "mesh_type = '2d_cyl'\n",
    "\n",
    "if mesh_type== '2d_cyl':\n",
    "    ncx = 10\n",
    "    csx = 10.\n",
    "    npadx = 20.\n",
    "    ncz = 10.\n",
    "    csz = 5.\n",
    "    npadz = 18.\n",
    "    hx = [(csx, ncx), (csx, npadx, 1.3)]\n",
    "    hz = [(csz, npadz, -1.3), (csz, ncx), (csz, npadz, 1.3)]    \n",
    "    mesh = CylMesh([hx, 1, hz], x0='00C')\n",
    "elif mesh_type == '3d_tensor':\n",
    "    cs, ncx, npad = 10., 9, 8    \n",
    "    ncy = 1\n",
    "    ncz = 6\n",
    "    hx = [(cs, npad, -1.3), (cs, ncx), (cs, npad, 1.3)]\n",
    "    hy = [(cs, npad, -1.3), (cs, ncy), (cs, npad, 1.3)]    \n",
    "    hz = [(cs, npad, -1.3), (cs, ncz), (cs, npad, 1.3)]\n",
    "    mesh = TensorMesh([hx, hy, hz], 'CCC')\n",
    "active = mesh.cell_centers[:,2] < 0.\n",
    "sigma_background = 1./100\n",
    "sigma_layer = 1./100\n",
    "sigma = np.ones(mesh.n_cells)*1e-8\n",
    "sigma[active] = sigma_background\n",
    "ind_layer = np.logical_and(mesh.cell_centers[:,2]<-100., mesh.cell_centers[:,2]>-200.)\n",
    "sigma[ind_layer] = sigma_layer\n",
    "rho = 1./sigma"
   ]
  },
  {
   "cell_type": "code",
   "execution_count": 3,
   "metadata": {},
   "outputs": [],
   "source": [
    "from matplotlib.colors import LogNorm"
   ]
  },
  {
   "cell_type": "code",
   "execution_count": 4,
   "metadata": {},
   "outputs": [
    {
     "data": {
      "text/plain": [
       "<matplotlib.colorbar.Colorbar at 0x7fc1705734f0>"
      ]
     },
     "execution_count": 4,
     "metadata": {},
     "output_type": "execute_result"
    },
    {
     "data": {
      "image/png": "[encoded data removed]",
      "text/plain": [
       "<Figure size 640x480 with 2 Axes>"
      ]
     },
     "metadata": {},
     "output_type": "display_data"
    }
   ],
   "source": [
    "out = mesh.plot_image(sigma, pcolor_opts={'norm':LogNorm()})\n",
    "plt.colorbar(out[0])"
   ]
  },
  {
   "cell_type": "code",
   "execution_count": 5,
   "metadata": {},
   "outputs": [],
   "source": [
    "from SimPEG import utils\n",
    "import SimPEG.electromagnetics.time_domain as tdem\n",
    "from SimPEG import maps\n",
    "from pymatsolver import PardisoSolver\n",
    "# from pymatsolver import Solver"
   ]
  },
  {
   "cell_type": "code",
   "execution_count": 6,
   "metadata": {},
   "outputs": [
    {
     "name": "stdout",
     "output_type": "stream",
     "text": [
      "t_min:1.0e-07, t_max:1.6e-02\n"
     ]
    },
    {
     "name": "stderr",
     "output_type": "stream",
     "text": [
      "/Users/sgkang09/anaconda3/lib/python3.10/site-packages/discretize/utils/code_utils.py:216: FutureWarning: CylMesh.edgeCurl has been deprecated, please use CylMesh.edge_curl. It will be removed in version 1.0.0 of discretize.\n",
      "  warnings.warn(message, warn)\n",
      "/Users/sgkang09/anaconda3/lib/python3.10/site-packages/discretize/utils/code_utils.py:216: FutureWarning: CylMesh.isSymmetric has been deprecated, please use CylMesh.is_symmetric. It will be removed in version 1.0.0 of discretize.\n",
      "  warnings.warn(message, warn)\n",
      "/Users/sgkang09/anaconda3/lib/python3.10/site-packages/discretize/utils/code_utils.py:264: FutureWarning: CylMesh.getInterpolationMat has been deprecated, please use CylMesh.get_interpolation_matrix. It will be removed in version 1.0.0 of discretize.\n",
      "  warnings.warn(\n",
      "/Users/sgkang09/anaconda3/lib/python3.10/site-packages/discretize/cylindrical_mesh.py:1679: FutureWarning: The locType keyword argument has been deprecated, please use location_type. This will be removed in discretize 1.0.0\n",
      "  warnings.warn(\n",
      "/Users/sgkang09/anaconda3/lib/python3.10/site-packages/pymatsolver/direct.py:23: PardisoTypeConversionWarning: Converting csc_matrix matrix to CSR format, will slow down.\n",
      "  self.solver = MKLPardisoSolver(\n",
      "/Users/sgkang09/anaconda3/lib/python3.10/site-packages/pymatsolver/direct.py:73: PardisoTypeConversionWarning: Converting csc_matrix matrix to CSR format, will slow down.\n",
      "  self.solver.refactor(self.A)\n"
     ]
    }
   ],
   "source": [
    "receiver_orientation = \"z\"                    # \"x\", \"y\" or \"z\"\n",
    "z_src = 30\n",
    "x_rx = 10.\n",
    "z_offset = 0.\n",
    "receiver_location = np.array([x_rx, 0., z_src+z_offset])\n",
    "source_location = np.array([0., 0., z_src])\n",
    "times = np.logspace(np.log10(1e-6), np.log10(1e-2), 31)\n",
    "rx = tdem.receivers.PointMagneticFluxTimeDerivative(\n",
    "    receiver_location, times, orientation=receiver_orientation\n",
    ")\n",
    "receiver_list = [rx]\n",
    "src = tdem.sources.MagDipole(\n",
    "    receiver_list=receiver_list, location=source_location,\n",
    "    waveform=tdem.sources.StepOffWaveform(), orientation='z'\n",
    ")\n",
    "\n",
    "# Survey\n",
    "source_list = [src]\n",
    "survey = tdem.Survey(source_list)\n",
    "# dts = np.diff(np.logspace(-7, -1, 60))\n",
    "# time_steps = []\n",
    "# for dt in dts:\n",
    "#     time_steps.append((dt, 1))\n",
    "\n",
    "def generate_time_steps(\n",
    "    n_constant_steps=15, increase_rate=3, start_time_step=5e-7, n_per_step=5\n",
    "):\n",
    "    time_steps = []\n",
    "    for i_step in range(n_constant_steps):\n",
    "        ht = np.ones(n_per_step) * start_time_step*increase_rate**i_step\n",
    "        time_steps.append(ht)\n",
    "    print(\"t_min:{:.1e}, t_max:{:.1e}\".format(start_time_step, np.sum(time_steps)))\n",
    "    return np.hstack(time_steps)\n",
    "# dts = np.diff(np.logspace(-7, -1, 60))\n",
    "# time_steps = []\n",
    "# for dt in dts:\n",
    "#     time_steps.append((dt, 1))\n",
    "\n",
    "time_steps = generate_time_steps(n_constant_steps=15, increase_rate=2, start_time_step=1e-7, n_per_step=5)\n",
    "\n",
    "simulation_3d = SimulationAEM(\n",
    "    mesh=mesh,\n",
    "    survey=survey,\n",
    "    sigmaMap=maps.IdentityMap(mesh),\n",
    "    solver=PardisoSolver,\n",
    "    time_steps=time_steps\n",
    ")    \n",
    "data = simulation_3d.dpred(sigma)"
   ]
  },
  {
   "cell_type": "code",
   "execution_count": 7,
   "metadata": {},
   "outputs": [],
   "source": [
    "# x = np.linspace(10, 100, 10)\n",
    "# y = np.zeros_like(x)\n",
    "# z = np.ones_like(x) * 30.\n",
    "# Fz = mesh.getInterpolationMat(np.c_[x, y, z], locType='Fz')\n",
    "# b0 = src.bInitial(prb)\n",
    "# bz = Fz*b0\n",
    "# bza = -1./(4*np.pi*x**3) * mu_0\n",
    "# plt.semilogy(x, -bz/(np.pi/2), 'k-', )\n",
    "# plt.semilogy(x, -bz, 'k--', )\n",
    "# plt.semilogy(x, -bza, 'kx')"
   ]
  },
  {
   "cell_type": "code",
   "execution_count": 8,
   "metadata": {},
   "outputs": [
    {
     "data": {
      "text/plain": [
       "array([-1.45108456e-07, -1.05172237e-07, -7.44227958e-08, -5.13277922e-08,\n",
       "       -3.44554901e-08, -2.24932385e-08, -1.42755650e-08, -8.80996461e-09,\n",
       "       -5.29053697e-09, -3.09497139e-09, -1.76633327e-09, -9.85087740e-10,\n",
       "       -5.37835799e-10, -2.88010369e-10, -1.51550454e-10, -7.85016885e-11,\n",
       "       -4.00973426e-11, -2.02282050e-11, -1.00934771e-11, -4.98821092e-12,\n",
       "       -2.44448144e-12, -1.18914537e-12, -5.74785469e-13, -2.76280632e-13,\n",
       "       -1.32161906e-13, -6.29601568e-14, -2.98825471e-14, -1.41402940e-14,\n",
       "       -6.67398698e-15, -3.14087231e-15, -1.47632394e-15])"
      ]
     },
     "execution_count": 8,
     "metadata": {},
     "output_type": "execute_result"
    }
   ],
   "source": [
    "# Define the simulation\n",
    "simulation = tdem.Simulation1DLayered(\n",
    "    survey=survey,\n",
    "    sigmaMap=maps.IdentityMap(nP=1),\n",
    ")\n",
    "\n",
    "# Predict data for a given model\n",
    "sigma_1d =  np.ones(1) * sigma_background\n",
    "data_analytic = simulation.dpred(sigma_1d)\n",
    "data_analytic"
   ]
  },
  {
   "cell_type": "code",
   "execution_count": 9,
   "metadata": {},
   "outputs": [
    {
     "data": {
      "text/plain": [
       "[<matplotlib.lines.Line2D at 0x7fc180801c30>]"
      ]
     },
     "execution_count": 9,
     "metadata": {},
     "output_type": "execute_result"
    },
    {
     "data": {
      "image/png": "[encoded data removed]",
      "text/plain": [
       "<Figure size 640x480 with 1 Axes>"
      ]
     },
     "metadata": {},
     "output_type": "display_data"
    }
   ],
   "source": [
    "plt.loglog(times, -data_analytic)\n",
    "plt.loglog(times, -data, '.')"
   ]
  },
  {
   "cell_type": "code",
   "execution_count": 10,
   "metadata": {},
   "outputs": [],
   "source": [
    "# # %%time\n",
    "# data_analytic, _, _ = aem_simulation(1./sigma_background, 1./sigma_background, 10, 10)"
   ]
  },
  {
   "cell_type": "code",
   "execution_count": 11,
   "metadata": {},
   "outputs": [],
   "source": [
    "# plt.loglog(rx.times, -data/(np.pi/2.), 'kx')\n",
    "# plt.loglog(rx.times, -data_analytic, 'k')\n",
    "# plt.loglog(prb.times, np.ones(prb.times.size)*1e-11, 'k|')"
   ]
  },
  {
   "cell_type": "code",
   "execution_count": 12,
   "metadata": {},
   "outputs": [],
   "source": [
    "b0 = src.bInitial(simulation_3d)"
   ]
  },
  {
   "cell_type": "code",
   "execution_count": 13,
   "metadata": {},
   "outputs": [],
   "source": [
    "from scipy.interpolate import interp1d"
   ]
  },
  {
   "cell_type": "code",
   "execution_count": 14,
   "metadata": {},
   "outputs": [],
   "source": [
    "def bdf1():\n",
    "    # Operators\n",
    "    C = mesh.edgeCurl\n",
    "    Mfmui = mesh.getFaceInnerProduct(1./mu_0)\n",
    "    MeSigma = mesh.getEdgeInnerProduct(sigma)\n",
    "    n_steps = simulation_3d.time_steps.size\n",
    "    Fz = mesh.getInterpolationMat(rx.locations, locType='Fz')\n",
    "    eps = 1e-10\n",
    "    def getA(dt):\n",
    "        return C.T*Mfmui*C + 1./dt * MeSigma\n",
    "    dt_0 = 0.\n",
    "    data_test = np.zeros(simulation_3d.time_steps.size)\n",
    "    sol_n0 = np.zeros(mesh.nE)\n",
    "    sol_n1 = np.zeros(mesh.nE)\n",
    "\n",
    "    for ii in range(n_steps):\n",
    "        dt = simulation_3d.time_steps[ii]\n",
    "        A = getA(dt)\n",
    "        if abs(dt_0-dt) > eps:\n",
    "            Ainv = simulation_3d.solver(A)\n",
    "        if ii==0:        \n",
    "            b0 = src.bInitial(simulation_3d)\n",
    "            s_e = C.T*Mfmui*b0\n",
    "            rhs = s_e/dt\n",
    "        else:\n",
    "            rhs = MeSigma*sol_n0/dt\n",
    "        sol_n1 = Ainv*rhs\n",
    "        data_test[ii] = Fz*(-C*sol_n1)\n",
    "        dt_0 = dt\n",
    "        sol_n0 = sol_n1.copy()    \n",
    "    step_func = interp1d(\n",
    "        np.log10(simulation_3d.time_mesh.gridCC[:]), data_test\n",
    "    )\n",
    "    return step_func(np.log10(rx.times))"
   ]
  },
  {
   "cell_type": "code",
   "execution_count": 21,
   "metadata": {},
   "outputs": [],
   "source": [
    "def bdf2():\n",
    "    # Operators\n",
    "    C = mesh.edgeCurl\n",
    "    Mfmui = mesh.getFaceInnerProduct(1./mu_0)\n",
    "    MeSigma = mesh.getEdgeInnerProduct(sigma)\n",
    "    n_steps = simulation_3d.time_steps.size\n",
    "    Fz = mesh.getInterpolationMat(rx.locations, locType='Fz')\n",
    "    eps = 1e-10\n",
    "    def getA(dt, factor=1.):\n",
    "        return C.T*Mfmui*C + factor/dt * MeSigma\n",
    "    dt_0 = 0.\n",
    "    data_test = np.zeros(simulation_3d.time_steps.size)\n",
    "    sol_n0 = np.zeros(mesh.nE)\n",
    "    sol_n1 = np.zeros(mesh.nE)\n",
    "    sol_n2 = np.zeros(mesh.nE)\n",
    "    for ii in range(n_steps):\n",
    "        dt = simulation_3d.time_steps[ii]\n",
    "        #Factor for BDF2\n",
    "        factor=3/2.            \n",
    "        if abs(dt_0-dt) > eps:\n",
    "            # print (ii, factor)\n",
    "            A = getA(dt, factor=factor)            \n",
    "            Ainv = simulation_3d.solver(A)\n",
    "        if ii==0:        \n",
    "            b0 = src.bInitial(simulation_3d)\n",
    "            s_e = C.T*Mfmui*b0\n",
    "            rhs = factor / dt*s_e\n",
    "        elif ii==1:\n",
    "            rhs = -factor/dt*(MeSigma*(-4/3.*sol_n1+1/3.*sol_n0) + 1./3.*s_e)\n",
    "        else:\n",
    "            rhs = -factor/dt*(MeSigma*(-4/3.*sol_n1+1/3.*sol_n0))\n",
    "        sol_n2 = Ainv*rhs\n",
    "        data_test[ii] = Fz*(-C*sol_n2)\n",
    "        dt_0 = dt\n",
    "        sol_n0 = sol_n1.copy()            \n",
    "        sol_n1 = sol_n2.copy()    \n",
    "    step_func = interp1d(\n",
    "        np.log10(simulation_3d.time_mesh.gridCC[:]), data_test\n",
    "    )\n",
    "    return step_func(np.log10(rx.times))"
   ]
  },
  {
   "cell_type": "code",
   "execution_count": 22,
   "metadata": {},
   "outputs": [],
   "source": [
    "temp1 = bdf1()"
   ]
  },
  {
   "cell_type": "code",
   "execution_count": 28,
   "metadata": {},
   "outputs": [],
   "source": [
    "temp2 = bdf2()"
   ]
  },
  {
   "cell_type": "code",
   "execution_count": 29,
   "metadata": {},
   "outputs": [
    {
     "data": {
      "text/plain": [
       "array([-1.45108456e-07, -1.05172237e-07, -7.44227958e-08, -5.13277922e-08,\n",
       "       -3.44554901e-08, -2.24932385e-08, -1.42755650e-08, -8.80996461e-09,\n",
       "       -5.29053697e-09, -3.09497139e-09, -1.76633327e-09, -9.85087740e-10,\n",
       "       -5.37835799e-10, -2.88010369e-10, -1.51550454e-10, -7.85016885e-11,\n",
       "       -4.00973426e-11, -2.02282050e-11, -1.00934771e-11, -4.98821092e-12,\n",
       "       -2.44448144e-12, -1.18914537e-12, -5.74785469e-13, -2.76280632e-13,\n",
       "       -1.32161906e-13, -6.29601568e-14, -2.98825471e-14, -1.41402940e-14,\n",
       "       -6.67398698e-15, -3.14087231e-15, -1.47632394e-15])"
      ]
     },
     "execution_count": 29,
     "metadata": {},
     "output_type": "execute_result"
    }
   ],
   "source": [
    "data_analytic"
   ]
  },
  {
   "cell_type": "code",
   "execution_count": 30,
   "metadata": {},
   "outputs": [
    {
     "data": {
      "text/plain": [
       "<matplotlib.legend.Legend at 0x7fc1792f07f0>"
      ]
     },
     "execution_count": 30,
     "metadata": {},
     "output_type": "execute_result"
    },
    {
     "data": {
      "image/png": "[encoded data removed]",
      "text/plain": [
       "<Figure size 1000x1000 with 1 Axes>"
      ]
     },
     "metadata": {},
     "output_type": "display_data"
    }
   ],
   "source": [
    "plt.figure(figsize = (10, 10))\n",
    "plt.loglog(rx.times, -data_analytic, 'k')\n",
    "plt.loglog(rx.times, -data, 'k.')\n",
    "plt.loglog(rx.times, -temp1, 'b--')\n",
    "plt.loglog(rx.times, -temp2, 'r--')\n",
    "plt.legend((\"Analytic\", \"SimPEG-AEM\", \"BDF1\", \"BDF2\"))"
   ]
  },
  {
   "cell_type": "code",
   "execution_count": 31,
   "metadata": {},
   "outputs": [
    {
     "data": {
      "text/plain": [
       "0.12500526032888726"
      ]
     },
     "execution_count": 31,
     "metadata": {},
     "output_type": "execute_result"
    }
   ],
   "source": [
    "np.sqrt(abs((data_analytic-temp1)/data_analytic)**2).mean()"
   ]
  },
  {
   "cell_type": "code",
   "execution_count": 32,
   "metadata": {},
   "outputs": [
    {
     "data": {
      "text/plain": [
       "0.028071348629203366"
      ]
     },
     "execution_count": 32,
     "metadata": {},
     "output_type": "execute_result"
    }
   ],
   "source": [
    "np.sqrt(abs((data_analytic-temp2)/data_analytic)**2).mean()"
   ]
  },
  {
   "cell_type": "code",
   "execution_count": 33,
   "metadata": {},
   "outputs": [
    {
     "data": {
      "text/plain": [
       "0.028071348629203165"
      ]
     },
     "execution_count": 33,
     "metadata": {},
     "output_type": "execute_result"
    }
   ],
   "source": [
    "np.sqrt(abs((data_analytic-data)/data_analytic)**2).mean()"
   ]
  },
  {
   "cell_type": "code",
   "execution_count": 34,
   "metadata": {},
   "outputs": [
    {
     "name": "stdout",
     "output_type": "stream",
     "text": [
      "0.4.0\n"
     ]
    }
   ],
   "source": [
    "import geoana\n",
    "print (geoana.__version__)"
   ]
  },
  {
   "cell_type": "code",
   "execution_count": 35,
   "metadata": {},
   "outputs": [],
   "source": [
    "import SimPEG"
   ]
  },
  {
   "cell_type": "code",
   "execution_count": 36,
   "metadata": {},
   "outputs": [
    {
     "data": {
      "text/plain": [
       "'0.17.0'"
      ]
     },
     "execution_count": 36,
     "metadata": {},
     "output_type": "execute_result"
    }
   ],
   "source": [
    "SimPEG.__version__"
   ]
  }
 ],
 "metadata": {
  "kernelspec": {
   "display_name": "Python 3 (ipykernel)",
   "language": "python",
   "name": "python3"
  },
  "language_info": {
   "codemirror_mode": {
    "name": "ipython",
    "version": 3
   },
   "file_extension": ".py",
   "mimetype": "text/x-python",
   "name": "python",
   "nbconvert_exporter": "python",
   "pygments_lexer": "ipython3",
   "version": "3.10.9"
  }
 },
 "nbformat": 4,
 "nbformat_minor": 4
}
