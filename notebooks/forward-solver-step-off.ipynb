{
 "cells": [
  {
   "cell_type": "code",
   "execution_count": 2,
   "metadata": {},
   "outputs": [],
   "source": [
    "from discretize import TensorMesh, CylMesh\n",
    "from scipy.constants import mu_0\n",
    "import numpy as np\n",
    "import matplotlib.pyplot as plt\n",
    "from simpegaem import SimulationAEM\n",
    "%matplotlib inline"
   ]
  },
  {
   "cell_type": "code",
   "execution_count": 3,
   "metadata": {},
   "outputs": [],
   "source": [
    "# cell size, number of cells in the x-direction, \n",
    "# number of cells in the z-direction and number of padding cells\n",
    "mesh_type = '2d_cyl'\n",
    "\n",
    "if mesh_type== '2d_cyl':\n",
    "    ncx = 10\n",
    "    csx = 10.\n",
    "    npadx = 15.\n",
    "    ncz = 10.\n",
    "    csz = 5.\n",
    "    npadz = 18.\n",
    "    hx = [(csx, ncx), (csx, npadx, 1.3)]\n",
    "    hz = [(csz, npadz, -1.3), (csz, ncx), (csz, npadz, 1.3)]    \n",
    "    mesh = CylMesh([hx, 1, hz], x0='00C')\n",
    "elif mesh_type == '3d_tensor':\n",
    "    cs, ncx, npad = 10., 9, 8    \n",
    "    ncy = 1\n",
    "    ncz = 6\n",
    "    hx = [(cs, npad, -1.3), (cs, ncx), (cs, npad, 1.3)]\n",
    "    hy = [(cs, npad, -1.3), (cs, ncy), (cs, npad, 1.3)]    \n",
    "    hz = [(cs, npad, -1.3), (cs, ncz), (cs, npad, 1.3)]\n",
    "    mesh = TensorMesh([hx, hy, hz], 'CCC')\n",
    "active = mesh.gridCC[:,2] < 0.\n",
    "sigma_background = 1./100.\n",
    "sigma = np.ones(mesh.nC)*1e-8\n",
    "sigma[active] = sigma_background\n",
    "rho = 1./sigma"
   ]
  },
  {
   "cell_type": "code",
   "execution_count": 5,
   "metadata": {},
   "outputs": [],
   "source": [
    "from SimPEG import utils\n",
    "import SimPEG.electromagnetics.time_domain as tdem\n",
    "from SimPEG import maps\n",
    "from pymatsolver import PardisoSolver"
   ]
  },
  {
   "cell_type": "code",
   "execution_count": 56,
   "metadata": {
    "scrolled": false
   },
   "outputs": [],
   "source": [
    "receiver_orientation = \"z\"                    # \"x\", \"y\" or \"z\"\n",
    "z_src = 30\n",
    "x_rx = 10.\n",
    "z_offset = 0.\n",
    "receiver_location = np.array([x_rx, 0., z_src+z_offset])\n",
    "source_location = np.array([0., 0., z_src])\n",
    "times = np.logspace(np.log10(1e-6), np.log10(1e-2), 31)\n",
    "rx = tdem.receivers.PointMagneticFluxTimeDerivative(\n",
    "    receiver_location, times, orientation=receiver_orientation\n",
    ")\n",
    "receiver_list = [rx]\n",
    "src = tdem.sources.MagDipole(\n",
    "    receiver_list=receiver_list, location=source_location,\n",
    "    waveform=tdem.sources.StepOffWaveform(), orientation='z'\n",
    ")\n",
    "\n",
    "# Survey\n",
    "source_list = [src]\n",
    "survey = tdem.Survey(source_list)\n",
    "dts = np.diff(np.logspace(-6, -1, 50))\n",
    "time_steps = []\n",
    "for dt in dts:\n",
    "    time_steps.append((dt, 1))\n",
    "\n",
    "simulation_3d = SimulationAEM(\n",
    "    mesh=mesh,\n",
    "    survey=survey,\n",
    "    sigmaMap=maps.IdentityMap(mesh),\n",
    "    solver=PardisoSolver,\n",
    "    time_steps=time_steps\n",
    ")    \n",
    "data = simulation_3d.dpred(sigma)"
   ]
  },
  {
   "cell_type": "code",
   "execution_count": 57,
   "metadata": {},
   "outputs": [],
   "source": [
    "# x = np.linspace(10, 100, 10)\n",
    "# y = np.zeros_like(x)\n",
    "# z = np.ones_like(x) * 30.\n",
    "# Fz = mesh.getInterpolationMat(np.c_[x, y, z], locType='Fz')\n",
    "# b0 = src.bInitial(prb)\n",
    "# bz = Fz*b0\n",
    "# bza = -1./(4*np.pi*x**3) * mu_0\n",
    "# plt.semilogy(x, -bz/(np.pi/2), 'k-', )\n",
    "# plt.semilogy(x, -bz, 'k--', )\n",
    "# plt.semilogy(x, -bza, 'kx')"
   ]
  },
  {
   "cell_type": "code",
   "execution_count": 58,
   "metadata": {},
   "outputs": [
    {
     "data": {
      "text/plain": [
       "array([-1.45108456e-07, -1.05172237e-07, -7.44227958e-08, -5.13277922e-08,\n",
       "       -3.44554901e-08, -2.24932385e-08, -1.42755650e-08, -8.80996461e-09,\n",
       "       -5.29053697e-09, -3.09497139e-09, -1.76633327e-09, -9.85087740e-10,\n",
       "       -5.37835799e-10, -2.88010369e-10, -1.51550454e-10, -7.85016885e-11,\n",
       "       -4.00973426e-11, -2.02282050e-11, -1.00934771e-11, -4.98821092e-12,\n",
       "       -2.44448144e-12, -1.18914537e-12, -5.74785469e-13, -2.76280632e-13,\n",
       "       -1.32161906e-13, -6.29601568e-14, -2.98825471e-14, -1.41402940e-14,\n",
       "       -6.67398698e-15, -3.14087231e-15, -1.47632394e-15])"
      ]
     },
     "execution_count": 58,
     "metadata": {},
     "output_type": "execute_result"
    }
   ],
   "source": [
    "# Define the simulation\n",
    "simulation = tdem.Simulation1DLayered(\n",
    "    survey=survey,\n",
    "    sigmaMap=maps.IdentityMap(nP=1),\n",
    ")\n",
    "\n",
    "# Predict data for a given model\n",
    "sigma_1d =  np.ones(1) * 1e-2\n",
    "data_analytic = simulation.dpred(sigma_1d)\n",
    "data_analytic"
   ]
  },
  {
   "cell_type": "code",
   "execution_count": 14,
   "metadata": {},
   "outputs": [],
   "source": [
    "# # %%time\n",
    "# data_analytic, _, _ = aem_simulation(1./sigma_background, 1./sigma_background, 10, 10)"
   ]
  },
  {
   "cell_type": "code",
   "execution_count": 15,
   "metadata": {},
   "outputs": [],
   "source": [
    "# plt.loglog(rx.times, -data/(np.pi/2.), 'kx')\n",
    "# plt.loglog(rx.times, -data_analytic, 'k')\n",
    "# plt.loglog(prb.times, np.ones(prb.times.size)*1e-11, 'k|')"
   ]
  },
  {
   "cell_type": "code",
   "execution_count": 81,
   "metadata": {},
   "outputs": [],
   "source": [
    "from scipy.interpolate import interp1d"
   ]
  },
  {
   "cell_type": "code",
   "execution_count": 86,
   "metadata": {},
   "outputs": [],
   "source": [
    "def bdf1():\n",
    "    # Operators\n",
    "    C = mesh.edgeCurl\n",
    "    Mfmui = mesh.getFaceInnerProduct(1./mu_0)\n",
    "    MeSigma = mesh.getEdgeInnerProduct(sigma)\n",
    "    n_steps = simulation_3d.time_steps.size\n",
    "    Fz = mesh.getInterpolationMat(rx.locations, locType='Fz')\n",
    "    eps = 1e-10\n",
    "    def getA(dt):\n",
    "        return C.T*Mfmui*C + 1./dt * MeSigma\n",
    "    dt_0 = 0.\n",
    "    data_test = np.zeros(simulation_3d.time_steps.size)\n",
    "    sol_n0 = np.zeros(mesh.nE)\n",
    "    sol_n1 = np.zeros(mesh.nE)\n",
    "\n",
    "    for ii in range(n_steps):\n",
    "        dt = simulation_3d.time_steps[ii]\n",
    "        A = getA(dt)\n",
    "        if abs(dt_0-dt) > eps:\n",
    "            Ainv = simulation_3d.solver(A)\n",
    "        if ii==0:        \n",
    "            b0 = src.bInitial(simulation_3d)\n",
    "            s_e = C.T*Mfmui*b0\n",
    "            rhs = s_e/dt\n",
    "        else:\n",
    "            rhs = MeSigma*sol_n0/dt\n",
    "        sol_n1 = Ainv*rhs\n",
    "        data_test[ii] = Fz*(-C*sol_n1)\n",
    "        dt_0 = dt\n",
    "        sol_n0 = sol_n1.copy()    \n",
    "    step_func = interp1d(\n",
    "        np.log10(simulation_3d.time_mesh.gridCC[:]), data_test\n",
    "    )\n",
    "    return step_func(np.log10(rx.times))"
   ]
  },
  {
   "cell_type": "code",
   "execution_count": 87,
   "metadata": {},
   "outputs": [],
   "source": [
    "def bdf2():\n",
    "    # Operators\n",
    "    C = mesh.edgeCurl\n",
    "    Mfmui = mesh.getFaceInnerProduct(1./mu_0)\n",
    "    MeSigma = mesh.getEdgeInnerProduct(sigma)\n",
    "    n_steps = simulation_3d.time_steps.size\n",
    "    Fz = mesh.getInterpolationMat(rx.locations, locType='Fz')\n",
    "    eps = 1e-10\n",
    "    def getA(dt, factor=1.):\n",
    "        return C.T*Mfmui*C + factor/dt * MeSigma\n",
    "    dt_0 = 0.\n",
    "    data_test = np.zeros(simulation_3d.time_steps.size)\n",
    "    sol_n0 = np.zeros(mesh.nE)\n",
    "    sol_n1 = np.zeros(mesh.nE)\n",
    "    sol_n2 = np.zeros(mesh.nE)\n",
    "    for ii in range(n_steps):\n",
    "        dt = simulation_3d.time_steps[ii]\n",
    "        #Factor for BDF2\n",
    "        factor=3/2.            \n",
    "        if abs(dt_0-dt) > eps:\n",
    "            print (ii, factor)\n",
    "            A = getA(dt, factor=factor)            \n",
    "            Ainv = simulation_3d.solver(A)\n",
    "        if ii==0:        \n",
    "            b0 = src.bInitial(simulation_3d)\n",
    "            s_e = C.T*Mfmui*b0\n",
    "            rhs = factor/dt*s_e\n",
    "        elif ii==1:\n",
    "            rhs = -factor/dt*(MeSigma*(-4/3.*sol_n1+1/3.*sol_n0) + 1./3.*s_e)\n",
    "        else:\n",
    "            rhs = -factor/dt*(MeSigma*(-4/3.*sol_n1+1/3.*sol_n0))\n",
    "        sol_n2 = Ainv*rhs\n",
    "        data_test[ii] = Fz*(-C*sol_n2)\n",
    "        dt_0 = dt\n",
    "        sol_n0 = sol_n1.copy()            \n",
    "        sol_n1 = sol_n2.copy()    \n",
    "    step_func = interp1d(\n",
    "        np.log10(simulation_3d.time_mesh.gridCC[:]), data_test\n",
    "    )\n",
    "    return step_func(np.log10(rx.times))"
   ]
  },
  {
   "cell_type": "code",
   "execution_count": 88,
   "metadata": {},
   "outputs": [],
   "source": [
    "temp1 = bdf1()"
   ]
  },
  {
   "cell_type": "code",
   "execution_count": 89,
   "metadata": {},
   "outputs": [
    {
     "name": "stdout",
     "output_type": "stream",
     "text": [
      "0 1.5\n",
      "1 1.5\n",
      "2 1.5\n",
      "3 1.5\n",
      "4 1.5\n",
      "5 1.5\n",
      "6 1.5\n",
      "7 1.5\n",
      "8 1.5\n",
      "9 1.5\n",
      "10 1.5\n",
      "11 1.5\n",
      "12 1.5\n",
      "13 1.5\n",
      "14 1.5\n",
      "15 1.5\n",
      "16 1.5\n",
      "17 1.5\n",
      "18 1.5\n",
      "19 1.5\n",
      "20 1.5\n",
      "21 1.5\n",
      "22 1.5\n",
      "23 1.5\n",
      "24 1.5\n",
      "25 1.5\n",
      "26 1.5\n",
      "27 1.5\n",
      "28 1.5\n",
      "29 1.5\n",
      "30 1.5\n",
      "31 1.5\n",
      "32 1.5\n",
      "33 1.5\n",
      "34 1.5\n",
      "35 1.5\n",
      "36 1.5\n",
      "37 1.5\n",
      "38 1.5\n",
      "39 1.5\n",
      "40 1.5\n",
      "41 1.5\n",
      "42 1.5\n",
      "43 1.5\n",
      "44 1.5\n",
      "45 1.5\n",
      "46 1.5\n",
      "47 1.5\n",
      "48 1.5\n"
     ]
    }
   ],
   "source": [
    "temp2 = bdf2()"
   ]
  },
  {
   "cell_type": "code",
   "execution_count": 90,
   "metadata": {},
   "outputs": [
    {
     "data": {
      "text/plain": [
       "array([-1.45108456e-07, -1.05172237e-07, -7.44227958e-08, -5.13277922e-08,\n",
       "       -3.44554901e-08, -2.24932385e-08, -1.42755650e-08, -8.80996461e-09,\n",
       "       -5.29053697e-09, -3.09497139e-09, -1.76633327e-09, -9.85087740e-10,\n",
       "       -5.37835799e-10, -2.88010369e-10, -1.51550454e-10, -7.85016885e-11,\n",
       "       -4.00973426e-11, -2.02282050e-11, -1.00934771e-11, -4.98821092e-12,\n",
       "       -2.44448144e-12, -1.18914537e-12, -5.74785469e-13, -2.76280632e-13,\n",
       "       -1.32161906e-13, -6.29601568e-14, -2.98825471e-14, -1.41402940e-14,\n",
       "       -6.67398698e-15, -3.14087231e-15, -1.47632394e-15])"
      ]
     },
     "execution_count": 90,
     "metadata": {},
     "output_type": "execute_result"
    }
   ],
   "source": [
    "data_analytic"
   ]
  },
  {
   "cell_type": "code",
   "execution_count": 91,
   "metadata": {},
   "outputs": [
    {
     "data": {
      "text/plain": [
       "<matplotlib.legend.Legend at 0x19beb1eeca0>"
      ]
     },
     "execution_count": 91,
     "metadata": {},
     "output_type": "execute_result"
    },
    {
     "data": {
      "image/png": "[encoded data removed]",
      "text/plain": [
       "<Figure size 720x720 with 1 Axes>"
      ]
     },
     "metadata": {
      "needs_background": "light"
     },
     "output_type": "display_data"
    }
   ],
   "source": [
    "plt.figure(figsize = (10, 10))\n",
    "plt.loglog(rx.times, -data_analytic, 'k')\n",
    "plt.loglog(rx.times, -data, 'k.')\n",
    "plt.loglog(rx.times, -temp1, 'b--')\n",
    "plt.loglog(rx.times, -temp2, 'r--')\n",
    "plt.legend((\"Analytic\", \"SimPEG-AEM\", \"BDF1\", \"BDF2\"))"
   ]
  },
  {
   "cell_type": "code",
   "execution_count": 92,
   "metadata": {},
   "outputs": [
    {
     "data": {
      "text/plain": [
       "0.22307422535873445"
      ]
     },
     "execution_count": 92,
     "metadata": {},
     "output_type": "execute_result"
    }
   ],
   "source": [
    "np.sqrt(abs((data_analytic-temp1)/data_analytic)**2).mean()"
   ]
  },
  {
   "cell_type": "code",
   "execution_count": 93,
   "metadata": {},
   "outputs": [
    {
     "data": {
      "text/plain": [
       "0.031188631136908"
      ]
     },
     "execution_count": 93,
     "metadata": {},
     "output_type": "execute_result"
    }
   ],
   "source": [
    "np.sqrt(abs((data_analytic-temp2)/data_analytic)**2).mean()"
   ]
  },
  {
   "cell_type": "code",
   "execution_count": 94,
   "metadata": {},
   "outputs": [
    {
     "data": {
      "text/plain": [
       "0.03118863113690808"
      ]
     },
     "execution_count": 94,
     "metadata": {},
     "output_type": "execute_result"
    }
   ],
   "source": [
    "np.sqrt(abs((data_analytic-data)/data_analytic)**2).mean()"
   ]
  }
 ],
 "metadata": {
  "kernelspec": {
   "display_name": "Python 3",
   "language": "python",
   "name": "python3"
  },
  "language_info": {
   "codemirror_mode": {
    "name": "ipython",
    "version": 3
   },
   "file_extension": ".py",
   "mimetype": "text/x-python",
   "name": "python",
   "nbconvert_exporter": "python",
   "pygments_lexer": "ipython3",
   "version": "3.8.8"
  }
 },
 "nbformat": 4,
 "nbformat_minor": 2
}
