{
 "cells": [
  {
   "cell_type": "code",
   "execution_count": 34,
   "metadata": {},
   "outputs": [],
   "source": [
    "from SimPEG import Mesh\n",
    "from scipy.constants import mu_0\n",
    "import numpy as np\n",
    "import matplotlib.pyplot as plt\n",
    "from TDEM import ProblemSkyTEM\n",
    "%matplotlib inline"
   ]
  },
  {
   "cell_type": "code",
   "execution_count": 35,
   "metadata": {},
   "outputs": [],
   "source": [
    "# cell size, number of cells in the x-direction, \n",
    "# number of cells in the z-direction and number of padding cells\n",
    "mesh_type = '2d_cyl'\n",
    "\n",
    "if mesh_type== '2d_cyl':\n",
    "    ncx = 10\n",
    "    csx = 10.\n",
    "    npadx = 15.\n",
    "    ncz = 10.\n",
    "    csz = 5.\n",
    "    npadz = 18.\n",
    "    hx = [(csx, ncx), (csx, npadx, 1.3)]\n",
    "    hz = [(csz, npadz, -1.3), (csz, ncx), (csz, npadz, 1.3)]    \n",
    "    mesh = Mesh.CylMesh([hx, 1, hz], x0='00C')\n",
    "elif mesh_type == '3d_tensor':\n",
    "    cs, ncx, npad = 10., 9, 8    \n",
    "    ncy = 1\n",
    "    ncz = 6\n",
    "    hx = [(cs, npad, -1.3), (cs, ncx), (cs, npad, 1.3)]\n",
    "    hy = [(cs, npad, -1.3), (cs, ncy), (cs, npad, 1.3)]    \n",
    "    hz = [(cs, npad, -1.3), (cs, ncz), (cs, npad, 1.3)]\n",
    "    mesh = Mesh.TensorMesh([hx, hy, hz], 'CCC')\n",
    "active = mesh.gridCC[:,2] < 0.\n",
    "sigma_background = 1./100.\n",
    "sigma = np.ones(mesh.nC)*1e-8\n",
    "sigma[active] = sigma_background\n",
    "rho = 1./sigma"
   ]
  },
  {
   "cell_type": "code",
   "execution_count": 36,
   "metadata": {},
   "outputs": [],
   "source": [
    "from SimPEG import Utils"
   ]
  },
  {
   "cell_type": "code",
   "execution_count": 51,
   "metadata": {
    "scrolled": false
   },
   "outputs": [
    {
     "name": "stderr",
     "output_type": "stream",
     "text": [
      "/Users/sgkang/Projects/simpeg/SimPEG/Props.py:400: UserWarning: Cannot add model as there are no active mappings, choose from: ['rhoMap', 'sigmaMap']\n",
      "  \"', '\".join(self._all_map_names)\n"
     ]
    },
    {
     "name": "stdout",
     "output_type": "stream",
     "text": [
      "Calculating Initial fields\n",
      "**************************************************\n",
      "Calculating fields(m)\n",
      "**************************************************\n",
      "Factoring...   (dt = 2.648552e-07)\n",
      "Done\n",
      "    Solving...   (tInd = 1)\n",
      "    Done...\n",
      "Factoring...   (dt = 3.350035e-07)\n",
      "Done\n",
      "    Solving...   (tInd = 2)\n",
      "    Done...\n",
      "Factoring...   (dt = 4.237309e-07)\n",
      "Done\n",
      "    Solving...   (tInd = 3)\n",
      "    Done...\n",
      "Factoring...   (dt = 5.359583e-07)\n",
      "Done\n",
      "    Solving...   (tInd = 4)\n",
      "    Done...\n",
      "Factoring...   (dt = 6.779096e-07)\n",
      "Done\n",
      "    Solving...   (tInd = 5)\n",
      "    Done...\n",
      "Factoring...   (dt = 8.574575e-07)\n",
      "Done\n",
      "    Solving...   (tInd = 6)\n",
      "    Done...\n",
      "Factoring...   (dt = 1.084560e-06)\n",
      "Done\n",
      "    Solving...   (tInd = 7)\n",
      "    Done...\n",
      "Factoring...   (dt = 1.371811e-06)\n",
      "Done\n",
      "    Solving...   (tInd = 8)\n",
      "    Done...\n",
      "Factoring...   (dt = 1.735142e-06)\n",
      "Done\n",
      "    Solving...   (tInd = 9)\n",
      "    Done...\n",
      "Factoring...   (dt = 2.194704e-06)\n",
      "Done\n",
      "    Solving...   (tInd = 10)\n",
      "    Done...\n",
      "Factoring...   (dt = 2.775982e-06)\n",
      "Done\n",
      "    Solving...   (tInd = 11)\n",
      "    Done...\n",
      "Factoring...   (dt = 3.511216e-06)\n",
      "Done\n",
      "    Solving...   (tInd = 12)\n",
      "    Done...\n",
      "Factoring...   (dt = 4.441180e-06)\n",
      "Done\n",
      "    Solving...   (tInd = 13)\n",
      "    Done...\n",
      "Factoring...   (dt = 5.617449e-06)\n",
      "Done\n",
      "    Solving...   (tInd = 14)\n",
      "    Done...\n",
      "Factoring...   (dt = 7.105260e-06)\n",
      "Done\n",
      "    Solving...   (tInd = 15)\n",
      "    Done...\n",
      "Factoring...   (dt = 8.987125e-06)\n",
      "Done\n",
      "    Solving...   (tInd = 16)\n",
      "    Done...\n",
      "Factoring...   (dt = 1.136741e-05)\n",
      "Done\n",
      "    Solving...   (tInd = 17)\n",
      "    Done...\n",
      "Factoring...   (dt = 1.437813e-05)\n",
      "Done\n",
      "    Solving...   (tInd = 18)\n",
      "    Done...\n",
      "Factoring...   (dt = 1.818625e-05)\n",
      "Done\n",
      "    Solving...   (tInd = 19)\n",
      "    Done...\n",
      "Factoring...   (dt = 2.300298e-05)\n",
      "Done\n",
      "    Solving...   (tInd = 20)\n",
      "    Done...\n",
      "Factoring...   (dt = 2.909544e-05)\n",
      "Done\n",
      "    Solving...   (tInd = 21)\n",
      "    Done...\n",
      "Factoring...   (dt = 3.680151e-05)\n",
      "Done\n",
      "    Solving...   (tInd = 22)\n",
      "    Done...\n",
      "Factoring...   (dt = 4.654859e-05)\n",
      "Done\n",
      "    Solving...   (tInd = 23)\n",
      "    Done...\n",
      "Factoring...   (dt = 5.887722e-05)\n",
      "Done\n",
      "    Solving...   (tInd = 24)\n",
      "    Done...\n",
      "Factoring...   (dt = 7.447116e-05)\n",
      "Done\n",
      "    Solving...   (tInd = 25)\n",
      "    Done...\n",
      "Factoring...   (dt = 9.419524e-05)\n",
      "Done\n",
      "    Solving...   (tInd = 26)\n",
      "    Done...\n",
      "Factoring...   (dt = 1.191433e-04)\n",
      "Done\n",
      "    Solving...   (tInd = 27)\n",
      "    Done...\n",
      "Factoring...   (dt = 1.506991e-04)\n",
      "Done\n",
      "    Solving...   (tInd = 28)\n",
      "    Done...\n",
      "Factoring...   (dt = 1.906125e-04)\n",
      "Done\n",
      "    Solving...   (tInd = 29)\n",
      "    Done...\n",
      "Factoring...   (dt = 2.410972e-04)\n",
      "Done\n",
      "    Solving...   (tInd = 30)\n",
      "    Done...\n",
      "Factoring...   (dt = 3.049531e-04)\n",
      "Done\n",
      "    Solving...   (tInd = 31)\n",
      "    Done...\n",
      "Factoring...   (dt = 3.857215e-04)\n",
      "Done\n",
      "    Solving...   (tInd = 32)\n",
      "    Done...\n",
      "Factoring...   (dt = 4.878818e-04)\n",
      "Done\n",
      "    Solving...   (tInd = 33)\n",
      "    Done...\n",
      "Factoring...   (dt = 6.170999e-04)\n",
      "Done\n",
      "    Solving...   (tInd = 34)\n",
      "    Done...\n",
      "Factoring...   (dt = 7.805420e-04)\n",
      "Done\n",
      "    Solving...   (tInd = 35)\n",
      "    Done...\n",
      "Factoring...   (dt = 9.872726e-04)\n",
      "Done\n",
      "    Solving...   (tInd = 36)\n",
      "    Done...\n",
      "Factoring...   (dt = 1.248757e-03)\n",
      "Done\n",
      "    Solving...   (tInd = 37)\n",
      "    Done...\n",
      "Factoring...   (dt = 1.579497e-03)\n",
      "Done\n",
      "    Solving...   (tInd = 38)\n",
      "    Done...\n",
      "Factoring...   (dt = 1.997835e-03)\n",
      "Done\n",
      "    Solving...   (tInd = 39)\n",
      "    Done...\n",
      "Factoring...   (dt = 2.526972e-03)\n",
      "Done\n",
      "    Solving...   (tInd = 40)\n",
      "    Done...\n",
      "Factoring...   (dt = 3.196253e-03)\n",
      "Done\n",
      "    Solving...   (tInd = 41)\n",
      "    Done...\n",
      "Factoring...   (dt = 4.042798e-03)\n",
      "Done\n",
      "    Solving...   (tInd = 42)\n",
      "    Done...\n",
      "Factoring...   (dt = 5.113554e-03)\n",
      "Done\n",
      "    Solving...   (tInd = 43)\n",
      "    Done...\n",
      "Factoring...   (dt = 6.467905e-03)\n",
      "Done\n",
      "    Solving...   (tInd = 44)\n",
      "    Done...\n",
      "Factoring...   (dt = 8.180963e-03)\n",
      "Done\n",
      "    Solving...   (tInd = 45)\n",
      "    Done...\n",
      "Factoring...   (dt = 1.034773e-02)\n",
      "Done\n",
      "    Solving...   (tInd = 46)\n",
      "    Done...\n",
      "Factoring...   (dt = 1.308839e-02)\n",
      "Done\n",
      "    Solving...   (tInd = 47)\n",
      "    Done...\n",
      "Factoring...   (dt = 1.655491e-02)\n",
      "Done\n",
      "    Solving...   (tInd = 48)\n",
      "    Done...\n",
      "Factoring...   (dt = 2.093957e-02)\n",
      "Done\n",
      "    Solving...   (tInd = 49)\n",
      "    Done...\n",
      "**************************************************\n",
      "Done calculating fields(m)\n",
      "**************************************************\n"
     ]
    }
   ],
   "source": [
    "from pymatsolver import Pardiso\n",
    "from SimPEG import EM\n",
    "z_src = 30\n",
    "x_rx = 0.\n",
    "z_offset = 0.\n",
    "rxloc = np.array([x_rx, 0., z_src+z_offset])\n",
    "srcloc = np.array([0., 0., z_src])\n",
    "rx = EM.TDEM.Rx.Point_dbdt(rxloc, np.logspace(np.log10(1e-6), np.log10(1e-2), 31), 'z')\n",
    "src = EM.TDEM.Src.CircularLoop([rx], waveform=EM.TDEM.Src.StepOffWaveform(), loc=srcloc, radius=13.)\n",
    "survey = EM.TDEM.Survey([src])\n",
    "prb = EM.TDEM.Problem3D_e(mesh, rho=rho, verbose=True)\n",
    "dts = np.diff(np.logspace(-6, -1, 50))\n",
    "timeSteps = []\n",
    "for dt in dts:\n",
    "    timeSteps.append((dt, 1))\n",
    "prb.timeSteps = timeSteps\n",
    "# prb.timeSteps = [(1e-7, 5),(3e-7, 5),(1e-6, 5),(2e-6, 5),(5e-6, 5),(1e-5, 10),(3e-5, 10),(1e-4, 10),(3e-4, 5),(1e-3, 8)]\n",
    "# prb.timeSteps = [(1e-6, 5),(1e-5, 10),(1e-4, 10),(1e-3, 10)]\n",
    "prb.Solver = Pardiso\n",
    "prb.pair(survey)\n",
    "data = survey.dpred([])"
   ]
  },
  {
   "cell_type": "code",
   "execution_count": 52,
   "metadata": {},
   "outputs": [],
   "source": [
    "# x = np.linspace(10, 100, 10)\n",
    "# y = np.zeros_like(x)\n",
    "# z = np.ones_like(x) * 30.\n",
    "# Fz = mesh.getInterpolationMat(np.c_[x, y, z], locType='Fz')\n",
    "# b0 = src.bInitial(prb)\n",
    "# bz = Fz*b0\n",
    "# bza = -1./(4*np.pi*x**3) * mu_0\n",
    "# plt.semilogy(x, -bz/(np.pi/2), 'k-', )\n",
    "# plt.semilogy(x, -bz, 'k--', )\n",
    "# plt.semilogy(x, -bza, 'kx')"
   ]
  },
  {
   "cell_type": "code",
   "execution_count": 53,
   "metadata": {},
   "outputs": [],
   "source": [
    "from simpegEM1D import (\n",
    "    EM1D, EM1DSurveyTD, Utils1D, get_vertical_discretization_time, \n",
    "    set_mesh_1d, skytem_HM_2015\n",
    ")\n",
    "from SimPEG import Maps\n",
    "time = rx.times\n",
    "\n",
    "def aem_simulation(\n",
    "    rho_background,\n",
    "    rho_target,\n",
    "    z, \n",
    "    h\n",
    "):\n",
    "    rho  = np.array([rho_background, rho_target, rho_background])\n",
    "    sigma = 1./rho\n",
    "    hz = np.array([z, h, 500-z-h])    \n",
    "    mesh1D = set_mesh_1d(hz)\n",
    "    depth = -mesh1D.gridN[:-1]\n",
    "    LocSigZ = -mesh1D.gridCC\n",
    "    TDsurvey = EM1DSurveyTD(\n",
    "        rx_location = np.array([0., 0., 100.+z_src]),\n",
    "        src_location = np.array([0., 0., 100.+z_src]),\n",
    "        topo = np.r_[0., 0., 100.],\n",
    "        depth = depth,\n",
    "        rx_type = 'dBzdt',\n",
    "        wave_type = 'stepoff',\n",
    "        src_type = 'CircularLoop',\n",
    "        a=13.,\n",
    "        I = 1.,\n",
    "        time = time,\n",
    "        use_lowpass_filter=False,\n",
    "    )\n",
    "    chi_half = 0.\n",
    "    expmap = Maps.ExpMap(mesh1D)\n",
    "    prob = EM1D(mesh1D, sigmaMap=expmap, verbose=False)\n",
    "    if prob.ispaired:\n",
    "        prob.unpair()\n",
    "    if TDsurvey.ispaired:\n",
    "        TDsurvey.unpair()\n",
    "    prob.pair(TDsurvey)\n",
    "    prob.chi = np.zeros(TDsurvey.n_layer)\n",
    "    data = TDsurvey.dpred(np.log(sigma))    \n",
    "    return data, mesh1D, rho"
   ]
  },
  {
   "cell_type": "code",
   "execution_count": 54,
   "metadata": {},
   "outputs": [
    {
     "name": "stdout",
     "output_type": "stream",
     "text": [
      "CPU times: user 11.3 ms, sys: 4.58 ms, total: 15.9 ms\n",
      "Wall time: 13.6 ms\n"
     ]
    }
   ],
   "source": [
    "%%time\n",
    "data_analytic, _, _ = aem_simulation(1./sigma_background, 1./sigma_background, 10, 10)"
   ]
  },
  {
   "cell_type": "code",
   "execution_count": 55,
   "metadata": {},
   "outputs": [],
   "source": [
    "# plt.loglog(rx.times, -data/(np.pi/2.), 'kx')\n",
    "# plt.loglog(rx.times, -data_analytic, 'k')\n",
    "# plt.loglog(prb.times, np.ones(prb.times.size)*1e-11, 'k|')"
   ]
  },
  {
   "cell_type": "code",
   "execution_count": 56,
   "metadata": {},
   "outputs": [],
   "source": [
    "# data/data_analytic"
   ]
  },
  {
   "cell_type": "code",
   "execution_count": 57,
   "metadata": {},
   "outputs": [],
   "source": [
    "def bdf1():\n",
    "    # Operators\n",
    "    C = mesh.edgeCurl\n",
    "    Mfmui = mesh.getFaceInnerProduct(1./mu_0)\n",
    "    MeSigma = mesh.getEdgeInnerProduct(sigma)\n",
    "    n_steps = prb.timeSteps.size\n",
    "    Fz = mesh.getInterpolationMat(rx.locs, locType='Fz')\n",
    "    eps = 1e-10\n",
    "    def getA(dt):\n",
    "        return C.T*Mfmui*C + 1./dt * MeSigma\n",
    "    dt_0 = 0.\n",
    "    data_test = np.zeros(prb.timeSteps.size)\n",
    "    sol_n0 = np.zeros(mesh.nE)\n",
    "    sol_n1 = np.zeros(mesh.nE)\n",
    "\n",
    "    for ii in range(n_steps):\n",
    "        dt = prb.timeSteps[ii]\n",
    "        A = getA(dt)\n",
    "        if abs(dt_0-dt) > eps:\n",
    "            Ainv = prb.Solver(A)\n",
    "        if ii==0:        \n",
    "            b0 = src.bInitial(prb)\n",
    "            s_e = C.T*Mfmui*b0\n",
    "            rhs = s_e/dt\n",
    "        else:\n",
    "            rhs = MeSigma*sol_n0/dt\n",
    "        sol_n1 = Ainv*rhs\n",
    "        data_test[ii] = Fz*(-C*sol_n1)\n",
    "        dt_0 = dt\n",
    "        sol_n0 = sol_n1.copy()    \n",
    "    P = prb.timeMesh.getInterpolationMat(rx.times)\n",
    "    return P*data_test        "
   ]
  },
  {
   "cell_type": "code",
   "execution_count": 58,
   "metadata": {},
   "outputs": [],
   "source": [
    "def bdf2():\n",
    "    # Operators\n",
    "    C = mesh.edgeCurl\n",
    "    Mfmui = mesh.getFaceInnerProduct(1./mu_0)\n",
    "    MeSigma = mesh.getEdgeInnerProduct(sigma)\n",
    "    n_steps = prb.timeSteps.size\n",
    "    Fz = mesh.getInterpolationMat(rx.locs, locType='Fz')\n",
    "    eps = 1e-10\n",
    "    def getA(dt, factor=1.):\n",
    "        return C.T*Mfmui*C + factor/dt * MeSigma\n",
    "    dt_0 = 0.\n",
    "    data_test = np.zeros(prb.timeSteps.size)\n",
    "    sol_n0 = np.zeros(mesh.nE)\n",
    "    sol_n1 = np.zeros(mesh.nE)\n",
    "    sol_n2 = np.zeros(mesh.nE)\n",
    "    for ii in range(n_steps):\n",
    "        dt = prb.timeSteps[ii]\n",
    "        #Factor for BDF2\n",
    "        factor=3/2.            \n",
    "        if abs(dt_0-dt) > eps:\n",
    "            print (ii, factor)\n",
    "            A = getA(dt, factor=factor)            \n",
    "            Ainv = prb.Solver(A)\n",
    "        if ii==0:        \n",
    "            b0 = src.bInitial(prb)\n",
    "            s_e = C.T*Mfmui*b0\n",
    "            rhs = factor/dt*s_e\n",
    "        elif ii==1:\n",
    "            rhs = -factor/dt*(MeSigma*(-4/3.*sol_n1+1/3.*sol_n0) + 1./3.*s_e)\n",
    "        else:\n",
    "            rhs = -factor/dt*(MeSigma*(-4/3.*sol_n1+1/3.*sol_n0))\n",
    "        sol_n2 = Ainv*rhs\n",
    "        data_test[ii] = Fz*(-C*sol_n2)\n",
    "        dt_0 = dt\n",
    "        sol_n0 = sol_n1.copy()            \n",
    "        sol_n1 = sol_n2.copy()    \n",
    "\n",
    "    P = prb.timeMesh.getInterpolationMat(rx.times)\n",
    "    return P*data_test        "
   ]
  },
  {
   "cell_type": "code",
   "execution_count": 63,
   "metadata": {},
   "outputs": [],
   "source": [
    "temp1 = bdf1()"
   ]
  },
  {
   "cell_type": "code",
   "execution_count": 64,
   "metadata": {},
   "outputs": [
    {
     "name": "stdout",
     "output_type": "stream",
     "text": [
      "0 1.5\n",
      "1 1.5\n",
      "2 1.5\n",
      "3 1.5\n",
      "4 1.5\n",
      "5 1.5\n",
      "6 1.5\n",
      "7 1.5\n",
      "8 1.5\n",
      "9 1.5\n",
      "10 1.5\n",
      "11 1.5\n",
      "12 1.5\n",
      "13 1.5\n",
      "14 1.5\n",
      "15 1.5\n",
      "16 1.5\n",
      "17 1.5\n",
      "18 1.5\n",
      "19 1.5\n",
      "20 1.5\n",
      "21 1.5\n",
      "22 1.5\n",
      "23 1.5\n",
      "24 1.5\n",
      "25 1.5\n",
      "26 1.5\n",
      "27 1.5\n",
      "28 1.5\n",
      "29 1.5\n",
      "30 1.5\n",
      "31 1.5\n",
      "32 1.5\n",
      "33 1.5\n",
      "34 1.5\n",
      "35 1.5\n",
      "36 1.5\n",
      "37 1.5\n",
      "38 1.5\n",
      "39 1.5\n",
      "40 1.5\n",
      "41 1.5\n",
      "42 1.5\n",
      "43 1.5\n",
      "44 1.5\n",
      "45 1.5\n",
      "46 1.5\n",
      "47 1.5\n",
      "48 1.5\n"
     ]
    }
   ],
   "source": [
    "temp2 = bdf2()"
   ]
  },
  {
   "cell_type": "code",
   "execution_count": 65,
   "metadata": {},
   "outputs": [
    {
     "data": {
      "text/plain": [
       "<matplotlib.legend.Legend at 0x1a31cdd518>"
      ]
     },
     "execution_count": 65,
     "metadata": {},
     "output_type": "execute_result"
    },
    {
     "data": {
      "image/png": "[encoded data removed]",
      "text/plain": [
       "<Figure size 720x720 with 1 Axes>"
      ]
     },
     "metadata": {
      "needs_background": "light"
     },
     "output_type": "display_data"
    }
   ],
   "source": [
    "plt.figure(figsize = (10, 10))\n",
    "plt.loglog(rx.times, -data_analytic, 'k')\n",
    "# plt.loglog(rx.times, -data, 'k.')\n",
    "# plt.loglog(rx.times, -temp1, 'b--')\n",
    "plt.loglog(rx.times, -temp2, 'r--')\n",
    "plt.legend((\"Analytic\", \"SimPEG\", \"BDF\", \"BDF2\"))"
   ]
  },
  {
   "cell_type": "code",
   "execution_count": 62,
   "metadata": {},
   "outputs": [
    {
     "data": {
      "text/plain": [
       "1.4496789584896579"
      ]
     },
     "execution_count": 62,
     "metadata": {},
     "output_type": "execute_result"
    }
   ],
   "source": [
    "np.linalg.norm((data_analytic-temp1)/data_analytic)"
   ]
  },
  {
   "cell_type": "code",
   "execution_count": 25,
   "metadata": {},
   "outputs": [
    {
     "data": {
      "text/plain": [
       "0.30166360583922647"
      ]
     },
     "execution_count": 25,
     "metadata": {},
     "output_type": "execute_result"
    }
   ],
   "source": [
    "np.linalg.norm((data_analytic-temp2)/data_analytic)"
   ]
  },
  {
   "cell_type": "code",
   "execution_count": 26,
   "metadata": {},
   "outputs": [
    {
     "data": {
      "text/plain": [
       "2.009504862502699"
      ]
     },
     "execution_count": 26,
     "metadata": {},
     "output_type": "execute_result"
    }
   ],
   "source": [
    "np.linalg.norm((data_analytic-data)/data_analytic)"
   ]
  },
  {
   "cell_type": "code",
   "execution_count": null,
   "metadata": {},
   "outputs": [],
   "source": []
  }
 ],
 "metadata": {
  "kernelspec": {
   "display_name": "Python 3",
   "language": "python",
   "name": "python3"
  },
  "language_info": {
   "codemirror_mode": {
    "name": "ipython",
    "version": 3
   },
   "file_extension": ".py",
   "mimetype": "text/x-python",
   "name": "python",
   "nbconvert_exporter": "python",
   "pygments_lexer": "ipython3",
   "version": "3.7.3"
  }
 },
 "nbformat": 4,
 "nbformat_minor": 2
}
