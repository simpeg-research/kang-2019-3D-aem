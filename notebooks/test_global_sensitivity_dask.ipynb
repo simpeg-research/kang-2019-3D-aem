{
 "cells": [
  {
   "cell_type": "markdown",
   "id": "8b656e03",
   "metadata": {
    "user_expressions": []
   },
   "source": [
    "## Step1: Generating a synthetic resistivity model"
   ]
  },
  {
   "cell_type": "code",
   "execution_count": 1,
   "id": "0aa9c648-1ec2-4843-ae38-9a0d95450a75",
   "metadata": {},
   "outputs": [],
   "source": [
    "# from dask.distributed import Client, progress\n",
    "# client = Client(n_workers=10)\n",
    "# client"
   ]
  },
  {
   "cell_type": "code",
   "execution_count": 2,
   "id": "c5d36e4f",
   "metadata": {},
   "outputs": [],
   "source": [
    "import numpy as np\n",
    "from discretize import TensorMesh\n",
    "import discretize.utils as disutils\n",
    "from SimPEG import utils\n",
    "\n",
    "dx = 100\n",
    "dy = 100\n",
    "dz = 5\n",
    "hx = np.ones(101) * dx\n",
    "hy = np.ones(101) * dx\n",
    "hz = np.ones(60) * dz\n",
    "mesh =TensorMesh([hx, hy, hz], x0=[-hx.sum()/2, -hy.sum()/2, -hz.sum() + 30.])\n",
    "ind_active = mesh.cell_centers[:,2]<0."
   ]
  },
  {
   "cell_type": "markdown",
   "id": "8c810e49",
   "metadata": {
    "user_expressions": []
   },
   "source": [
    "## Step 2: Run 3D EM simulation \n",
    "### 2-1 Design a flight line"
   ]
  },
  {
   "cell_type": "code",
   "execution_count": 6,
   "id": "48d9bc1e",
   "metadata": {},
   "outputs": [],
   "source": [
    "n_sounding = 50\n",
    "x = np.arange(n_sounding) * dx + -4500\n",
    "y = np.r_[0.]\n",
    "z = np.r_[0.]\n",
    "topo = utils.ndgrid(x, y, z)\n",
    "source_locations = np.c_[topo[:,:2], topo[:,2]+40.]\n",
    "receiver_locations = np.c_[source_locations[:,0]+13.25, source_locations[:,1], source_locations[:,2]+2.] "
   ]
  },
  {
   "cell_type": "markdown",
   "id": "a05b568f",
   "metadata": {
    "user_expressions": []
   },
   "source": [
    "### 2-2 Genrerate a survey object"
   ]
  },
  {
   "cell_type": "code",
   "execution_count": 7,
   "id": "96acdad9",
   "metadata": {},
   "outputs": [],
   "source": [
    "import SimPEG.electromagnetics.time_domain as tdem\n",
    "from SimPEG import maps"
   ]
  },
  {
   "cell_type": "code",
   "execution_count": 8,
   "id": "4a0ffde2",
   "metadata": {},
   "outputs": [],
   "source": [
    "receiver_orientation = \"z\"                    # \"x\", \"y\" or \"z\"\n",
    "times = np.logspace(-5, -2, 41)               # time channels\n",
    "source_radius = 10.\n",
    "current_amplitude = 1.\n",
    "source_list = []\n",
    "n_src = topo.shape[0]\n",
    "\n",
    "for i_src in range(n_src):\n",
    "    source_location = source_locations[i_src,:]\n",
    "    receiver_location = receiver_locations[i_src,:]\n",
    "\n",
    "    receiver_list = [\n",
    "        tdem.receivers.PointMagneticFluxTimeDerivative(\n",
    "            receiver_location, times, orientation=receiver_orientation\n",
    "        )\n",
    "    ]\n",
    "\n",
    "#     General Waveform\n",
    "    \n",
    "    start_time = -0.01\n",
    "    peak_time = -0.005\n",
    "    off_time = 0.\n",
    "    triangle_waveform = tdem.sources.TriangularWaveform(\n",
    "            start_time=start_time, peak_time=peak_time, off_time=off_time\n",
    "    )\n",
    "    triangle_waveform.has_initial_fields = True\n",
    "\n",
    "    source_list.append(\n",
    "        tdem.sources.MagDipole(\n",
    "            receiver_list=receiver_list, location=source_location,\n",
    "            waveform=triangle_waveform, orientation='z'\n",
    "        ),\n",
    "    )\n",
    "\n",
    "# Survey\n",
    "survey = tdem.Survey(source_list)"
   ]
  },
  {
   "cell_type": "code",
   "execution_count": 9,
   "id": "0a169dac",
   "metadata": {},
   "outputs": [],
   "source": [
    "def generate_time_steps(\n",
    "    n_constant_steps=15, increase_rate=3, start_time_step=5e-7, n_per_step=5\n",
    "):\n",
    "    time_steps = []\n",
    "    for i_step in range(n_constant_steps):\n",
    "        ht = np.ones(n_per_step) * start_time_step*increase_rate**i_step\n",
    "        time_steps.append(ht)\n",
    "    print(\"t_min:{:.1e}, t_max:{:.1e}\".format(start_time_step, np.sum(time_steps)))\n",
    "    return np.hstack(time_steps)"
   ]
  },
  {
   "cell_type": "code",
   "execution_count": 10,
   "id": "7c4633e7",
   "metadata": {},
   "outputs": [
    {
     "name": "stdout",
     "output_type": "stream",
     "text": [
      "t_min:5.0e-07, t_max:2.0e-02\n"
     ]
    }
   ],
   "source": [
    "time_steps = generate_time_steps(n_constant_steps=13, increase_rate=2, start_time_step=5e-7, n_per_step=5)"
   ]
  },
  {
   "cell_type": "code",
   "execution_count": 11,
   "id": "b74b8925-2961-4e96-ab40-5cffeae8bcdf",
   "metadata": {},
   "outputs": [],
   "source": [
    "active_map = maps.InjectActiveCells(mesh, indActive=ind_active, valInactive=1e-8)\n",
    "exp_map = maps.ExpMap()"
   ]
  },
  {
   "cell_type": "code",
   "execution_count": 12,
   "id": "554e3d58-e7c8-4bbe-80a3-bd3e8c238a0f",
   "metadata": {},
   "outputs": [],
   "source": [
    "mapping = active_map * exp_map"
   ]
  },
  {
   "cell_type": "code",
   "execution_count": 13,
   "id": "1e9af498",
   "metadata": {},
   "outputs": [
    {
     "name": "stdout",
     "output_type": "stream",
     "text": [
      ">> Use dask for parallelization\n"
     ]
    }
   ],
   "source": [
    "from simpegaem import GlobalSimulationAEM\n",
    "sim = GlobalSimulationAEM(\n",
    "    mesh=mesh, \n",
    "    topo=topo, \n",
    "    sigmaMap=mapping, \n",
    "    survey=survey, \n",
    "    time_steps=time_steps, \n",
    "    parallel_option='dask'\n",
    ")"
   ]
  },
  {
   "cell_type": "code",
   "execution_count": 14,
   "id": "6cf90e96-7acb-4264-aab2-3547553cd943",
   "metadata": {},
   "outputs": [],
   "source": [
    "nP = ind_active.sum()\n",
    "m_true = np.ones(nP) * np.log(1./100.)"
   ]
  },
  {
   "cell_type": "code",
   "execution_count": 16,
   "id": "36935434-0023-4d2e-b232-8c1b3abbd28f",
   "metadata": {},
   "outputs": [
    {
     "name": "stdout",
     "output_type": "stream",
     "text": [
      "CPU times: user 56.4 ms, sys: 155 ms, total: 211 ms\n",
      "Wall time: 16.2 s\n"
     ]
    }
   ],
   "source": [
    "%%time\n",
    "dobs = sim.dpred(m_true)"
   ]
  },
  {
   "cell_type": "code",
   "execution_count": null,
   "id": "49047b83",
   "metadata": {},
   "outputs": [],
   "source": [
    "%%time\n",
    "J_sigma = sim.getJ_sigma(m_true)"
   ]
  },
  {
   "cell_type": "code",
   "execution_count": 35,
   "id": "a4c2fe07-bcb7-441a-9418-b9881787c63d",
   "metadata": {},
   "outputs": [],
   "source": [
    "# from discretize import tests\n",
    "# nP = ind_active.sum()\n",
    "# m_true = np.ones(nP) * np.log(1./100.)\n",
    "# m_ini = np.ones(nP) * np.log(1./20.)\n",
    "\n",
    "# dobs = sim.dpred(m_true)\n",
    "# uncert = 0.03*abs(dobs)\n",
    "# dini = sim.dpred(m_ini)\n",
    "# dr = (dini - dobs) / uncert\n",
    "\n",
    "# def misfit(m, dobs):\n",
    "#     dpred = sim.dpred(m)\n",
    "#     misfit = 0.5 * np.linalg.norm((dpred - dobs) / uncert) ** 2\n",
    "#     dmisfit = sim.Jtvec(m, dr / uncert)\n",
    "#     return misfit, dmisfit\n",
    "\n",
    "# def derChk(m):\n",
    "#     return misfit(m, dobs)\n",
    "\n",
    "# passed = tests.check_derivative(derChk, m_ini, num=4, plotIt=False, eps=1e-27)"
   ]
  },
  {
   "cell_type": "code",
   "execution_count": null,
   "id": "e22fa5a6-78cc-4bf2-ae22-a3ccc70cf59e",
   "metadata": {},
   "outputs": [],
   "source": []
  }
 ],
 "metadata": {
  "kernelspec": {
   "display_name": "Python 3 (ipykernel)",
   "language": "python",
   "name": "python3"
  },
  "language_info": {
   "codemirror_mode": {
    "name": "ipython",
    "version": 3
   },
   "file_extension": ".py",
   "mimetype": "text/x-python",
   "name": "python",
   "nbconvert_exporter": "python",
   "pygments_lexer": "ipython3",
   "version": "3.10.9"
  }
 },
 "nbformat": 4,
 "nbformat_minor": 5
}
