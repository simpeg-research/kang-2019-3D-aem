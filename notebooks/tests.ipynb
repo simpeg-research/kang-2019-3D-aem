{
 "cells": [
  {
   "cell_type": "code",
   "execution_count": 4,
   "id": "1e57e9d1-e3d3-4469-b669-ff4325275db4",
   "metadata": {},
   "outputs": [],
   "source": [
    "import numpy as np\n",
    "from discretize import TensorMesh, CylindricalMesh\n",
    "from scipy.constants import mu_0\n",
    "import numpy as np\n",
    "import matplotlib.pyplot as plt\n",
    "from simpegaem import SimulationAEM\n",
    "from SimPEG import utils\n",
    "import SimPEG.electromagnetics.time_domain as tdem\n",
    "from SimPEG import maps\n",
    "from pymatsolver import PardisoSolver\n",
    "# from pymatsolver import Solver\n",
    "%matplotlib inline"
   ]
  },
  {
   "cell_type": "code",
   "execution_count": 5,
   "id": "9e8c3a14-e1d5-44d7-a726-12834461de7a",
   "metadata": {},
   "outputs": [
    {
     "name": "stdout",
     "output_type": "stream",
     "text": [
      "t_min:1.0e-06, t_max:1.6e-01\n"
     ]
    }
   ],
   "source": [
    "# cell size, number of cells in the x-direction, \n",
    "# number of cells in the z-direction and number of padding cells\n",
    "mesh_type = '2d_cyl'\n",
    "\n",
    "if mesh_type== '2d_cyl':\n",
    "    ncx = 10\n",
    "    csx = 10.\n",
    "    npadx = 20.\n",
    "    ncz = 10.\n",
    "    csz = 5.\n",
    "    npadz = 18.\n",
    "    hx = [(csx, ncx), (csx, npadx, 1.3)]\n",
    "    hz = [(csz, npadz, -1.3), (csz, ncx), (csz, npadz, 1.3)]    \n",
    "    mesh = CylindricalMesh([hx, 1, hz], x0='00C')\n",
    "elif mesh_type == '3d_tensor':\n",
    "    cs, ncx, npad = 10., 9, 8    \n",
    "    ncy = 1\n",
    "    ncz = 6\n",
    "    hx = [(cs, npad, -1.3), (cs, ncx), (cs, npad, 1.3)]\n",
    "    hy = [(cs, npad, -1.3), (cs, ncy), (cs, npad, 1.3)]    \n",
    "    hz = [(cs, npad, -1.3), (cs, ncz), (cs, npad, 1.3)]\n",
    "    mesh = TensorMesh([hx, hy, hz], 'CCC')\n",
    "active = mesh.cell_centers[:,2] < 0.\n",
    "sigma_background = 1./20\n",
    "sigma_layer = 1./20\n",
    "sigma = np.ones(mesh.n_cells)*1e-8\n",
    "sigma[active] = sigma_background\n",
    "ind_layer = np.logical_and(mesh.cell_centers[:,2]<-100., mesh.cell_centers[:,2]>-200.)\n",
    "sigma[ind_layer] = sigma_layer\n",
    "rho = 1./sigma\n",
    "\n",
    "eps = 1e-8\n",
    "start_time = -0.02\n",
    "peak_time = -0.01\n",
    "off_time = 0.\n",
    "triangle_waveform = tdem.sources.TriangularWaveform(\n",
    "        start_time=start_time, peak_time=peak_time, off_time=off_time\n",
    ")\n",
    "triangle_waveform.has_initial_fields = True\n",
    "receiver_orientation = \"z\"                    # \"x\", \"y\" or \"z\"\n",
    "z_src = 30\n",
    "x_rx = 10.\n",
    "z_offset = 0.\n",
    "receiver_location = np.array([x_rx, 0., z_src+z_offset])\n",
    "source_location = np.array([0., 0., z_src])\n",
    "times = np.logspace(np.log10(1e-5), np.log10(1e-2), 31)\n",
    "rx = tdem.receivers.PointMagneticFluxTimeDerivative(\n",
    "    receiver_location, times, orientation=receiver_orientation\n",
    ")\n",
    "\n",
    "\n",
    "receiver_list = [rx]\n",
    "src_1 = tdem.sources.MagDipole(\n",
    "    receiver_list=receiver_list, location=source_location,\n",
    "    waveform=triangle_waveform, orientation='z'\n",
    ")\n",
    "\n",
    "src_2 = tdem.sources.MagDipole(\n",
    "    receiver_list=receiver_list, location=source_location,\n",
    "    waveform=triangle_waveform, orientation='z'\n",
    ")\n",
    "\n",
    "\n",
    "# Survey\n",
    "source_list = [src_1, src_2]\n",
    "survey = tdem.Survey(source_list)\n",
    "\n",
    "    \n",
    "def generate_time_steps(\n",
    "    n_constant_steps=15, increase_rate=3, start_time_step=5e-7, n_per_step=5\n",
    "):\n",
    "    time_steps = []\n",
    "    for i_step in range(n_constant_steps):\n",
    "        ht = np.ones(n_per_step) * start_time_step*increase_rate**i_step\n",
    "        time_steps.append(ht)\n",
    "    print(\"t_min:{:.1e}, t_max:{:.1e}\".format(start_time_step, np.sum(time_steps)))\n",
    "    return np.hstack(time_steps)\n",
    "# dts = np.diff(np.logspace(-7, -1, 60))\n",
    "# time_steps = []\n",
    "# for dt in dts:\n",
    "#     time_steps.append((dt, 1))\n",
    "\n",
    "time_steps = generate_time_steps(n_constant_steps=15, increase_rate=2, start_time_step=1e-6, n_per_step=5)\n",
    "\n",
    "simulation_3d = SimulationAEM(\n",
    "    mesh=mesh,\n",
    "    survey=survey,\n",
    "    sigmaMap=maps.IdentityMap(mesh),\n",
    "    solver=PardisoSolver,\n",
    "    time_steps=time_steps\n",
    ")    "
   ]
  },
  {
   "cell_type": "code",
   "execution_count": 6,
   "id": "d5c6ab51-2441-476f-b071-bd8c60f90349",
   "metadata": {},
   "outputs": [
    {
     "name": "stdout",
     "output_type": "stream",
     "text": [
      "0 31\n",
      "31 62\n"
     ]
    }
   ],
   "source": [
    "for i_src, src in enumerate(survey.source_list):\n",
    "    i_start = survey.vnD[:i_src].sum()\n",
    "    i_end = i_start + survey.vnD[i_src]\n",
    "    print (i_start, i_end)"
   ]
  },
  {
   "cell_type": "code",
   "execution_count": 7,
   "id": "8a02d2eb-ba4d-42e0-b603-bcc4c2388cba",
   "metadata": {},
   "outputs": [],
   "source": [
    "test = np.random.randn(20)"
   ]
  },
  {
   "cell_type": "code",
   "execution_count": 8,
   "id": "f4f15a76-b3f2-4d78-a9c3-a666aa3c090c",
   "metadata": {},
   "outputs": [
    {
     "data": {
      "text/plain": [
       "array([-0.03592032, -1.2996036 ,  0.88910391, -0.58599449,  0.46299895,\n",
       "       -0.7682623 , -1.09518904, -1.4676868 ,  1.94498212, -0.32104045,\n",
       "       -0.41461398, -0.03542982,  3.27152909, -0.26738117,  0.73425499,\n",
       "       -0.29752352, -0.21651329,  1.86548256,  0.71822646,  0.22696286])"
      ]
     },
     "execution_count": 8,
     "metadata": {},
     "output_type": "execute_result"
    }
   ],
   "source": [
    "test"
   ]
  },
  {
   "cell_type": "code",
   "execution_count": 9,
   "id": "d6992f43-286f-4402-ac14-1f0f04be1140",
   "metadata": {},
   "outputs": [
    {
     "data": {
      "text/plain": [
       "array([-0.03592032, -1.2996036 ,  0.88910391])"
      ]
     },
     "execution_count": 9,
     "metadata": {},
     "output_type": "execute_result"
    }
   ],
   "source": [
    "test[0:0+3]"
   ]
  },
  {
   "cell_type": "code",
   "execution_count": 10,
   "id": "db4d3978-3a9e-4920-bb20-2aaeac65a258",
   "metadata": {},
   "outputs": [
    {
     "data": {
      "text/plain": [
       "array([-0.58599449,  0.46299895, -0.7682623 ])"
      ]
     },
     "execution_count": 10,
     "metadata": {},
     "output_type": "execute_result"
    }
   ],
   "source": [
    "test[3:6]"
   ]
  },
  {
   "cell_type": "code",
   "execution_count": 11,
   "id": "c545642c-c436-4eed-8955-4955a1e42100",
   "metadata": {},
   "outputs": [
    {
     "name": "stdout",
     "output_type": "stream",
     "text": [
      "Intel MKL WARNING: Support of Intel(R) Streaming SIMD Extensions 4.2 (Intel(R) SSE4.2) enabled only processors has been deprecated. Intel oneAPI Math Kernel Library 2025.0 will require Intel(R) Advanced Vector Extensions (Intel(R) AVX) instructions.\n"
     ]
    }
   ],
   "source": [
    "f = simulation_3d.fields(sigma)"
   ]
  },
  {
   "cell_type": "code",
   "execution_count": 12,
   "id": "c6c8e5e5-fba8-4f5a-acc5-5003628726c6",
   "metadata": {},
   "outputs": [],
   "source": [
    "data = simulation_3d.dpred(sigma, f=f)"
   ]
  },
  {
   "cell_type": "code",
   "execution_count": 13,
   "id": "1f8a9402-482d-4002-88fd-492ac97854c4",
   "metadata": {},
   "outputs": [],
   "source": [
    "data_no_store = simulation_3d.dpred_no_store(sigma)"
   ]
  },
  {
   "cell_type": "code",
   "execution_count": 14,
   "id": "86a72d7a-6e70-479c-bef2-ab48adadf16f",
   "metadata": {},
   "outputs": [],
   "source": [
    "from SimPEG.utils import plot_1d_layer_model\n",
    "\n",
    "# Layer thicknesses\n",
    "thicknesses = np.array([100.0, 100.0])\n",
    "n_layer = len(thicknesses) + 1\n",
    "\n",
    "# physical property model (conductivity model)\n",
    "model = sigma_background * np.ones(n_layer)\n",
    "model[1] = sigma_layer\n",
    "\n",
    "# Define a mapping from model parameters to conductivities\n",
    "model_mapping = maps.IdentityMap(nP=n_layer)\n",
    "\n",
    "# Define the simulation\n",
    "simulation = tdem.Simulation1DLayered(\n",
    "    survey=survey,\n",
    "    thicknesses=thicknesses,\n",
    "    sigmaMap=model_mapping,\n",
    ")\n",
    "\n",
    "# Predict data for a given model\n",
    "sigma_1d =  model\n",
    "data_analytic = simulation.dpred(sigma_1d)"
   ]
  },
  {
   "cell_type": "code",
   "execution_count": 15,
   "id": "68317195-df72-401b-85fe-6d397e52b6a1",
   "metadata": {},
   "outputs": [
    {
     "data": {
      "text/plain": [
       "array([31, 31])"
      ]
     },
     "execution_count": 15,
     "metadata": {},
     "output_type": "execute_result"
    }
   ],
   "source": [
    "simulation_3d.survey.vnD"
   ]
  },
  {
   "cell_type": "code",
   "execution_count": 16,
   "id": "c252c4df-f8fb-4192-85c8-64914e533cbe",
   "metadata": {},
   "outputs": [
    {
     "data": {
      "text/plain": [
       "[<matplotlib.lines.Line2D at 0x7fb2886834f0>]"
      ]
     },
     "execution_count": 16,
     "metadata": {},
     "output_type": "execute_result"
    },
    {
     "data": {
      "image/png": "[encoded data removed]",
      "text/plain": [
       "<Figure size 640x480 with 1 Axes>"
      ]
     },
     "metadata": {},
     "output_type": "display_data"
    }
   ],
   "source": [
    "plt.loglog(rx.times, -data[:rx.times.size])\n",
    "plt.loglog(rx.times, -data_no_store[:rx.times.size], '--')\n",
    "plt.loglog(rx.times, -data_analytic[:rx.times.size], 'o')"
   ]
  },
  {
   "cell_type": "code",
   "execution_count": 17,
   "id": "f776210d-0026-4a72-90f7-b8d09718a0f2",
   "metadata": {},
   "outputs": [
    {
     "name": "stdout",
     "output_type": "stream",
     "text": [
      "CPU times: user 2.14 s, sys: 954 ms, total: 3.1 s\n",
      "Wall time: 333 ms\n"
     ]
    }
   ],
   "source": [
    "%%time\n",
    "f = simulation_3d.fields(sigma)"
   ]
  },
  {
   "cell_type": "code",
   "execution_count": 18,
   "id": "8fa9a781-ee96-4ff0-b2f7-2a60d809a79d",
   "metadata": {},
   "outputs": [
    {
     "name": "stdout",
     "output_type": "stream",
     "text": [
      "CPU times: user 6.71 s, sys: 1.84 s, total: 8.55 s\n",
      "Wall time: 1.01 s\n"
     ]
    }
   ],
   "source": [
    "%%time\n",
    "J_sigma = simulation_3d.getJ_sigma(sigma, f=f)"
   ]
  },
  {
   "cell_type": "code",
   "execution_count": 19,
   "id": "69d80f5c-fe43-4b73-b8de-c124487afbab",
   "metadata": {},
   "outputs": [],
   "source": [
    "from SimPEG import maps\n",
    "active_map = maps.InjectActiveCells(mesh, indActive=active, valInactive=np.log(1e-8))\n",
    "exp_map = maps.ExpMap(mesh)\n",
    "mapping = exp_map * active_map\n",
    "m = np.ones(active.sum()) * np.log(1./20.)\n",
    "sigma = mapping * m"
   ]
  },
  {
   "cell_type": "code",
   "execution_count": 20,
   "id": "726ef672-1fc9-46d4-a94e-5419583f93af",
   "metadata": {},
   "outputs": [],
   "source": [
    "def dpred(m):\n",
    "    sigma = mapping * m    \n",
    "    dpred = simulation_3d.dpred(sigma)\n",
    "    return dpred\n",
    "\n",
    "def dpred_dm(m, obs):\n",
    "    sigma = mapping * m\n",
    "    uncert = abs(obs) * 0.03\n",
    "    return utils.sdiag(1./uncert) @ simulation_3d.getJ_sigma(sigma) * mapping.deriv(m)\n",
    "\n",
    "def data_misfit(m, obs):\n",
    "    pred = dpred(m)\n",
    "    uncert = abs(obs) * 0.03\n",
    "    r = (pred-obs) / uncert\n",
    "    return np.linalg.norm(r)**2\n",
    "\n",
    "def data_misfit_dm(m, obs):\n",
    "    pred = dpred(m)\n",
    "    uncert = abs(obs) * 0.03\n",
    "    r = (pred-obs) / uncert\n",
    "    J = dpred_dm(m, obs)\n",
    "    return 2*J.T@r"
   ]
  },
  {
   "cell_type": "code",
   "execution_count": 21,
   "id": "2546482c-5261-4d5a-a446-d5f0ab4fe161",
   "metadata": {},
   "outputs": [
    {
     "name": "stdout",
     "output_type": "stream",
     "text": [
      ">> 1.0e-01, 8.0e+06, 7.0e+06, nan\n",
      ">> 1.0e-02, 2.6e+05, 1.5e+03, 2.2\n",
      ">> 1.0e-03, 3.0e+03, 1.6e-01, 2.0\n",
      ">> 1.0e-04, 3.0e+01, 1.6e-05, 2.0\n"
     ]
    }
   ],
   "source": [
    "# Order test\n",
    "factors = [0.1, 0.01, 0.001, 0.0001]\n",
    "m_true = np.ones(active.sum()) * np.log(1./20.)\n",
    "m_0 = m_true * 2\n",
    "\n",
    "obs = dpred(m_true)\n",
    "dm0 = m_0*2\n",
    "\n",
    "order_1 = np.zeros(len(factors))\n",
    "order_2 = np.zeros(len(factors))\n",
    "\n",
    "for ii, factor in enumerate(factors):\n",
    "    dm = dm0 * factor\n",
    "    order_1[ii] = np.linalg.norm(\n",
    "        data_misfit(m_0+dm, obs)-data_misfit(m_0, obs)\n",
    "    )**2\n",
    "    order_2[ii] = np.linalg.norm(\n",
    "        data_misfit(m_0+dm, obs)-data_misfit(m_0, obs)-data_misfit_dm(m_0, obs).dot(dm.T)\n",
    "    )**2\n",
    "#     print (\">> {:.1e}, {:.1e}, {:.1e}\".format(factor, order_1[ii], order_2[ii]))\n",
    "    if ii > 0:\n",
    "        ratio_1 = order_1[ii]/order_1[ii-1]\n",
    "        ratio_2 = order_2[ii]/order_2[ii-1]\n",
    "        \n",
    "        print (\">> {:.1e}, {:.1e}, {:.1e}, {:.1f}\".format(factor, order_1[ii], order_2[ii], np.log10(ratio_1/ratio_2)))\n",
    "    else:\n",
    "        print (\">> {:.1e}, {:.1e}, {:.1e}, {:.1f}\".format(factor, order_1[ii], order_2[ii], np.nan))"
   ]
  }
 ],
 "metadata": {
  "kernelspec": {
   "display_name": "Python 3 (ipykernel)",
   "language": "python",
   "name": "python3"
  },
  "language_info": {
   "codemirror_mode": {
    "name": "ipython",
    "version": 3
   },
   "file_extension": ".py",
   "mimetype": "text/x-python",
   "name": "python",
   "nbconvert_exporter": "python",
   "pygments_lexer": "ipython3",
   "version": "3.10.12"
  }
 },
 "nbformat": 4,
 "nbformat_minor": 5
}
