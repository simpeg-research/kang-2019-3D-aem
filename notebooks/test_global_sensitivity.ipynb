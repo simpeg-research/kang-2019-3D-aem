{
 "cells": [
  {
   "cell_type": "markdown",
   "id": "8b656e03",
   "metadata": {
    "user_expressions": []
   },
   "source": [
    "## Step1: Generating a synthetic resistivity model"
   ]
  },
  {
   "cell_type": "code",
   "execution_count": 12,
   "id": "c5d36e4f",
   "metadata": {},
   "outputs": [],
   "source": [
    "import numpy as np\n",
    "from discretize import TensorMesh\n",
    "import discretize.utils as disutils\n",
    "from SimPEG import utils\n",
    "\n",
    "dx = 100\n",
    "dy = 100\n",
    "dz = 5\n",
    "hx = np.ones(101) * dx\n",
    "hy = np.ones(101) * dx\n",
    "hz = np.ones(60) * dz\n",
    "mesh =TensorMesh([hx, hy, hz], x0=[-hx.sum()/2, -hy.sum()/2, -hz.sum() + 30.])\n",
    "ind_active = mesh.cell_centers[:,2]<0."
   ]
  },
  {
   "cell_type": "markdown",
   "id": "8c810e49",
   "metadata": {
    "user_expressions": []
   },
   "source": [
    "## Step 2: Run 3D EM simulation \n",
    "### 2-1 Design a flight line"
   ]
  },
  {
   "cell_type": "code",
   "execution_count": 13,
   "id": "48d9bc1e",
   "metadata": {},
   "outputs": [],
   "source": [
    "n_sounding = 20\n",
    "x = np.arange(n_sounding) * dx + -4500\n",
    "y = np.r_[0.]\n",
    "z = np.r_[0.]\n",
    "topo = utils.ndgrid(x, y, z)\n",
    "source_locations = np.c_[topo[:,:2], topo[:,2]+40.]\n",
    "receiver_locations = np.c_[source_locations[:,0]+13.25, source_locations[:,1], source_locations[:,2]+2.] "
   ]
  },
  {
   "cell_type": "markdown",
   "id": "a05b568f",
   "metadata": {
    "user_expressions": []
   },
   "source": [
    "### 2-2 Genrerate a survey object"
   ]
  },
  {
   "cell_type": "code",
   "execution_count": 14,
   "id": "96acdad9",
   "metadata": {},
   "outputs": [],
   "source": [
    "import SimPEG.electromagnetics.time_domain as tdem\n",
    "from SimPEG import maps"
   ]
  },
  {
   "cell_type": "code",
   "execution_count": 4,
   "id": "4a0ffde2",
   "metadata": {},
   "outputs": [],
   "source": [
    "receiver_orientation = \"z\"                    # \"x\", \"y\" or \"z\"\n",
    "times = np.logspace(-5, -2, 41)               # time channels\n",
    "source_radius = 10.\n",
    "current_amplitude = 1.\n",
    "source_list = []\n",
    "n_src = topo.shape[0]\n",
    "\n",
    "for i_src in range(n_src):\n",
    "    source_location = source_locations[i_src,:]\n",
    "    receiver_location = receiver_locations[i_src,:]\n",
    "\n",
    "    receiver_list = [\n",
    "        tdem.receivers.PointMagneticFluxTimeDerivative(\n",
    "            receiver_location, times, orientation=receiver_orientation\n",
    "        )\n",
    "    ]\n",
    "\n",
    "#     General Waveform\n",
    "    \n",
    "    start_time = -0.01\n",
    "    peak_time = -0.005\n",
    "    off_time = 0.\n",
    "    triangle_waveform = tdem.sources.TriangularWaveform(\n",
    "            start_time=start_time, peak_time=peak_time, off_time=off_time\n",
    "    )\n",
    "    triangle_waveform.has_initial_fields = True\n",
    "\n",
    "    source_list.append(\n",
    "        tdem.sources.MagDipole(\n",
    "            receiver_list=receiver_list, location=source_location,\n",
    "            waveform=triangle_waveform, orientation='z'\n",
    "        ),\n",
    "    )\n",
    "\n",
    "# Survey\n",
    "survey = tdem.Survey(source_list)"
   ]
  },
  {
   "cell_type": "code",
   "execution_count": 5,
   "id": "0a169dac",
   "metadata": {},
   "outputs": [],
   "source": [
    "def generate_time_steps(\n",
    "    n_constant_steps=15, increase_rate=3, start_time_step=5e-7, n_per_step=5\n",
    "):\n",
    "    time_steps = []\n",
    "    for i_step in range(n_constant_steps):\n",
    "        ht = np.ones(n_per_step) * start_time_step*increase_rate**i_step\n",
    "        time_steps.append(ht)\n",
    "    print(\"t_min:{:.1e}, t_max:{:.1e}\".format(start_time_step, np.sum(time_steps)))\n",
    "    return np.hstack(time_steps)"
   ]
  },
  {
   "cell_type": "code",
   "execution_count": 6,
   "id": "7c4633e7",
   "metadata": {},
   "outputs": [
    {
     "name": "stdout",
     "output_type": "stream",
     "text": [
      "t_min:5.0e-07, t_max:2.0e-02\n"
     ]
    }
   ],
   "source": [
    "time_steps = generate_time_steps(n_constant_steps=13, increase_rate=2, start_time_step=5e-7, n_per_step=5)"
   ]
  },
  {
   "cell_type": "code",
   "execution_count": 7,
   "id": "b74b8925-2961-4e96-ab40-5cffeae8bcdf",
   "metadata": {},
   "outputs": [],
   "source": [
    "active_map = maps.InjectActiveCells(mesh, indActive=ind_active, valInactive=1e-8)\n",
    "exp_map = maps.ExpMap()"
   ]
  },
  {
   "cell_type": "code",
   "execution_count": 8,
   "id": "554e3d58-e7c8-4bbe-80a3-bd3e8c238a0f",
   "metadata": {},
   "outputs": [],
   "source": [
    "mapping = active_map * exp_map"
   ]
  },
  {
   "cell_type": "code",
   "execution_count": 9,
   "id": "1e9af498",
   "metadata": {},
   "outputs": [
    {
     "name": "stdout",
     "output_type": "stream",
     "text": [
      ">> Use multiprocessing for parallelization\n",
      ">> n_cpu: 10\n"
     ]
    }
   ],
   "source": [
    "from simpegaem import GlobalSimulationAEM\n",
    "sim = GlobalSimulationAEM(\n",
    "    mesh=mesh, \n",
    "    topo=topo, \n",
    "    sigmaMap=mapping, \n",
    "    survey=survey, \n",
    "    time_steps=time_steps, \n",
    "    parallel_option='multiprocessing',\n",
    "    n_cpu=10\n",
    ")"
   ]
  },
  {
   "cell_type": "code",
   "execution_count": 11,
   "id": "7a410329-d37f-4a63-a8bc-4370deae1ad8",
   "metadata": {},
   "outputs": [
    {
     "data": {
      "text/plain": [
       "['/Users/sgkang09/Project/kang-2019-3D-aem/codes/simpegaem']"
      ]
     },
     "execution_count": 11,
     "metadata": {},
     "output_type": "execute_result"
    }
   ],
   "source": [
    "import simpegaem\n",
    "simpegaem.__path__"
   ]
  },
  {
   "cell_type": "code",
   "execution_count": 10,
   "id": "8347a607-6125-426d-afc7-c5949d40ad85",
   "metadata": {},
   "outputs": [],
   "source": [
    "import SimPEG"
   ]
  },
  {
   "cell_type": "code",
   "execution_count": 11,
   "id": "fbb0baf4-0d82-4643-a982-c5d92e4ea32f",
   "metadata": {},
   "outputs": [
    {
     "name": "stdout",
     "output_type": "stream",
     "text": [
      "0.19.0\n",
      "['/Users/sgkang09/Project/simpeg/SimPEG']\n"
     ]
    }
   ],
   "source": [
    "print(SimPEG.__version__)\n",
    "print(SimPEG.__path__)"
   ]
  },
  {
   "cell_type": "code",
   "execution_count": 12,
   "id": "343ae064-bba3-4249-9aec-42b905b63df3",
   "metadata": {},
   "outputs": [],
   "source": [
    "nP = ind_active.sum()\n",
    "m_true = np.ones(nP) * np.log(1./100.)"
   ]
  },
  {
   "cell_type": "code",
   "execution_count": 13,
   "id": "05721123-242d-4141-9b9e-852bf0d1c1a3",
   "metadata": {},
   "outputs": [
    {
     "name": "stdout",
     "output_type": "stream",
     "text": [
      "CPU times: user 13.8 s, sys: 4.06 s, total: 17.9 s\n",
      "Wall time: 13.8 s\n"
     ]
    }
   ],
   "source": [
    "%%time\n",
    "dobs = sim.dpred(m_true)"
   ]
  },
  {
   "cell_type": "code",
   "execution_count": 14,
   "id": "fe5b391d-70e5-4047-966e-708b4f6860eb",
   "metadata": {},
   "outputs": [
    {
     "name": "stdout",
     "output_type": "stream",
     "text": [
      "==================== check_derivative ====================\n",
      "iter    h         |ft-f0|   |ft-f0-h*J0*dx|  Order\n",
      "---------------------------------------------------------\n",
      " 0   1.00e-01    3.263e+05     2.722e+05      nan\n",
      " 1   1.00e-02    8.107e+03     2.693e+03      2.005\n",
      " 2   1.00e-03    5.684e+02     2.692e+01      2.000\n",
      " 3   1.00e-04    5.441e+01     2.692e-01      2.000\n",
      "========================= PASS! =========================\n",
      "Well done Sgkang09!\n",
      "\n"
     ]
    }
   ],
   "source": [
    "from discretize import tests\n",
    "nP = ind_active.sum()\n",
    "m_true = np.ones(nP) * np.log(1./100.)\n",
    "m_ini = np.ones(nP) * np.log(1./20.)\n",
    "\n",
    "dobs = sim.dpred(m_true)\n",
    "uncert = 0.03*abs(dobs)\n",
    "dini = sim.dpred(m_ini)\n",
    "dr = (dini - dobs) / uncert\n",
    "\n",
    "def misfit(m, dobs):\n",
    "    dpred = sim.dpred(m)\n",
    "    misfit = 0.5 * np.linalg.norm((dpred - dobs) / uncert) ** 2\n",
    "    dmisfit = sim.Jtvec(m, dr / uncert)\n",
    "    return misfit, dmisfit\n",
    "\n",
    "def derChk(m):\n",
    "    return misfit(m, dobs)\n",
    "\n",
    "passed = tests.check_derivative(derChk, m_ini, num=4, plotIt=False, eps=1e-27)"
   ]
  }
 ],
 "metadata": {
  "kernelspec": {
   "display_name": "Python 3 (ipykernel)",
   "language": "python",
   "name": "python3"
  },
  "language_info": {
   "codemirror_mode": {
    "name": "ipython",
    "version": 3
   },
   "file_extension": ".py",
   "mimetype": "text/x-python",
   "name": "python",
   "nbconvert_exporter": "python",
   "pygments_lexer": "ipython3",
   "version": "3.8.17"
  }
 },
 "nbformat": 4,
 "nbformat_minor": 5
}
