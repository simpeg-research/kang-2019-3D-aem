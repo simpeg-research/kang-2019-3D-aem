{
 "cells": [
  {
   "cell_type": "markdown",
   "id": "06da1b70",
   "metadata": {},
   "source": [
    "## Separate inversion of the two synthetic AEM data"
   ]
  },
  {
   "cell_type": "code",
   "execution_count": 90,
   "id": "423bdc83",
   "metadata": {},
   "outputs": [],
   "source": [
    "import dill \n",
    "import numpy as np\n",
    "import SimPEG.electromagnetics.time_domain as tdem\n",
    "from SimPEG import maps\n",
    "from SimPEG.electromagnetics.utils.em1d_utils import get_2d_mesh, get_vertical_discretization\n",
    "from pymatsolver import PardisoSolver\n",
    "\n",
    "\n",
    "aem_data_dict = dill.load(open(\"synthetic_aem_data.pik\", \"rb\"))\n",
    "source_locations = aem_data_dict['source_locations']\n",
    "receiver_locations = aem_data_dict['receiver_locations']\n",
    "topo = aem_data_dict['topo']\n",
    "times = aem_data_dict['times']\n",
    "dobs_1 = aem_data_dict['data_1']\n",
    "dobs_2 = aem_data_dict['data_2']\n",
    "receiver_orientation = \"z\"                    # \"x\", \"y\" or \"z\"\n",
    "source_list = []\n",
    "n_sounding = topo.shape[0]\n",
    "\n",
    "\n",
    "for i_sounding in range(n_sounding):    \n",
    "    source_location = source_locations[i_sounding,:]\n",
    "    receiver_location = receiver_locations[i_sounding,:]\n",
    "\n",
    "    receiver_list = [\n",
    "        tdem.receivers.PointMagneticFluxTimeDerivative(\n",
    "            receiver_location, times, orientation=receiver_orientation\n",
    "        )\n",
    "    ]\n",
    "\n",
    "    # General Waveform\n",
    "    source_list.append(\n",
    "        tdem.sources.MagDipole(\n",
    "            receiver_list=receiver_list, location=source_location,\n",
    "            waveform=tdem.sources.StepOffWaveform(), orientation='z',\n",
    "            i_sounding=i_sounding\n",
    "        ),\n",
    "    )\n",
    "\n",
    "# Survey\n",
    "survey = tdem.Survey(source_list)"
   ]
  },
  {
   "cell_type": "code",
   "execution_count": 91,
   "id": "7bf3d80c",
   "metadata": {},
   "outputs": [],
   "source": [
    "hz = np.array([30, 50, 20, 60, 60])"
   ]
  },
  {
   "cell_type": "code",
   "execution_count": 163,
   "id": "75b8769e",
   "metadata": {},
   "outputs": [
    {
     "name": "stdout",
     "output_type": "stream",
     "text": [
      ">> Use multiprocessing for parallelization\n",
      ">> n_cpu: 4\n"
     ]
    }
   ],
   "source": [
    "survey = tdem.Survey(source_list)\n",
    "thicknesses = hz[:-1]\n",
    "mesh = get_2d_mesh(n_sounding, hz)\n",
    "sigma_map = maps.ExpMap(mesh)\n",
    "# sigma_map = maps.IdentityMap(mesh)\n",
    "\n",
    "simulation = tdem.Simulation1DLayeredStitched(\n",
    "    survey=survey, thicknesses=thicknesses, sigmaMap=sigma_map,\n",
    "    topo=topo, parallel=True, n_cpu=4, verbose=False, solver=PardisoSolver\n",
    ")"
   ]
  },
  {
   "cell_type": "code",
   "execution_count": 164,
   "id": "117912ae",
   "metadata": {},
   "outputs": [
    {
     "data": {
      "text/plain": [
       "(91, 3)"
      ]
     },
     "execution_count": 164,
     "metadata": {},
     "output_type": "execute_result"
    }
   ],
   "source": [
    "topo.shape"
   ]
  },
  {
   "cell_type": "code",
   "execution_count": 165,
   "id": "930b7a2e",
   "metadata": {},
   "outputs": [],
   "source": [
    "import matplotlib.pyplot as plt"
   ]
  },
  {
   "cell_type": "code",
   "execution_count": 166,
   "id": "4ee2b6cd",
   "metadata": {},
   "outputs": [],
   "source": [
    "from SimPEG.electromagnetics.utils.em1d_utils import set_mesh_1d\n",
    "import scipy as sp\n",
    "from discretize import SimplexMesh\n",
    "tmp = topo[:,:2]+np.random.randn(topo[:,:2].shape[0], topo[:,:2].shape[1])\n",
    "tri = sp.spatial.Delaunay(tmp) \n",
    "mesh_radial = SimplexMesh(tri.points, tri.simplices)\n",
    "mesh_vertical = set_mesh_1d(hz)\n",
    "mesh_reg = [mesh_radial, mesh_vertical]"
   ]
  },
  {
   "cell_type": "code",
   "execution_count": 167,
   "id": "3d5b1cec",
   "metadata": {},
   "outputs": [],
   "source": [
    "def get_active_edge_indices_with_distance(mesh_radial, mesh_vertical, maximum_distance=10):\n",
    "    nz = mesh_vertical.n_cells\n",
    "    edge_lengths = mesh_radial.edge_lengths\n",
    "    inds = edge_lengths < maximum_distance\n",
    "    indActiveEdges = np.tile(inds.reshape([-1,1]), nz).flatten()\n",
    "    return inds, indActiveEdges\n",
    "\n",
    "inds, indActiveEdges = get_active_edge_indices_with_distance(\n",
    "    mesh_radial, mesh_vertical, maximum_distance=150\n",
    ")\n",
    "fr = mesh_radial.nodes[mesh_radial._edges[inds,:][:,0],:]\n",
    "to = mesh_radial.nodes[mesh_radial._edges[inds,:][:,1],:]"
   ]
  },
  {
   "cell_type": "code",
   "execution_count": 169,
   "id": "997fa2ee",
   "metadata": {},
   "outputs": [
    {
     "data": {
      "text/plain": [
       "(-1000.0, 1000.0)"
      ]
     },
     "execution_count": 169,
     "metadata": {},
     "output_type": "execute_result"
    },
    {
     "data": {
      "image/png": "[encoded data removed]",
      "text/plain": [
       "<Figure size 720x720 with 1 Axes>"
      ]
     },
     "metadata": {
      "needs_background": "light"
     },
     "output_type": "display_data"
    }
   ],
   "source": [
    "fig = plt.figure(figsize=(10, 10))\n",
    "plt.plot(mesh_radial.nodes[:,0], mesh_radial.nodes[:,1], 'ro', label='node', zorder=1)\n",
    "plt.triplot(tmp[:,0], tmp[:,1], tri.simplices[:,:], alpha=0.5, lw=1)\n",
    "\n",
    "for ii in range(fr.shape[0]):\n",
    "    plt.plot([fr[ii,0], to[ii,0]], [fr[ii,1], to[ii,1]], 'k--')\n",
    "\n",
    "plt.legend(bbox_to_anchor=(1.1,1))\n",
    "plt.xlabel(\"x (m)\")\n",
    "plt.ylabel(\"y (m)\")\n",
    "plt.ylim(-1000, 1000)\n",
    "# plt.gca().set_aspect(1)"
   ]
  },
  {
   "cell_type": "code",
   "execution_count": null,
   "id": "0793b82d",
   "metadata": {},
   "outputs": [],
   "source": []
  },
  {
   "cell_type": "code",
   "execution_count": null,
   "id": "d8b7e4cf",
   "metadata": {},
   "outputs": [],
   "source": []
  },
  {
   "cell_type": "code",
   "execution_count": 171,
   "id": "4f4e057e",
   "metadata": {},
   "outputs": [
    {
     "name": "stdout",
     "output_type": "stream",
     "text": [
      "\n",
      "        SimPEG.InvProblem is setting bfgsH0 to the inverse of the eval2Deriv.\n",
      "        ***Done using same Solver and solverOpts as the problem***\n",
      "model has any nan: 0\n",
      "=============================== Projected GNCG ===============================\n",
      "  #     beta     phi_d     phi_m       f      |proj(x-g)-x|  LS    Comment   \n",
      "-----------------------------------------------------------------------------\n",
      "x0 has any nan: 0\n",
      "   0  6.40e+01  3.67e+05  0.00e+00  3.67e+05    1.84e+04      0              \n",
      "   1  3.20e+01  2.35e+05  4.15e+02  2.48e+05    1.63e+04      0              \n",
      "   2  1.60e+01  7.10e+04  1.81e+03  1.00e+05    6.08e+04      0              \n",
      "   3  8.01e+00  5.82e+03  1.57e+03  1.84e+04    7.07e+03      0              \n",
      "   4  4.00e+00  3.18e+03  1.62e+03  9.65e+03    1.46e+03      0   Skip BFGS  \n",
      "   5  2.00e+00  2.70e+03  1.68e+03  6.07e+03    5.56e+02      0   Skip BFGS  \n",
      "   6  1.00e+00  2.38e+03  1.79e+03  4.17e+03    3.49e+02      0   Skip BFGS  \n",
      "------------------------- STOP! -------------------------\n",
      "1 : |fc-fOld| = 0.0000e+00 <= tolF*(1+|f0|) = 3.6739e+04\n",
      "1 : |xc-x_last| = 4.0517e+00 <= tolX*(1+|x0|) = 7.0191e+00\n",
      "0 : |proj(x-g)-x|    = 3.4880e+02 <= tolG          = 1.0000e-01\n",
      "0 : |proj(x-g)-x|    = 3.4880e+02 <= 1e3*eps       = 1.0000e-02\n",
      "0 : maxIter   =      10    <= iter          =      7\n",
      "------------------------- DONE! -------------------------\n"
     ]
    }
   ],
   "source": [
    "from SimPEG import (\n",
    "    maps, data, data_misfit, inverse_problem, regularization, optimization,\n",
    "    directives, inversion, utils\n",
    ")\n",
    "nP = mesh.n_cells\n",
    "data_object = data.Data(survey, dobs=dobs_1)\n",
    "uncertainties = abs(dobs_1.reshape((n_sounding, times.size))) * 0.03\n",
    "uncertainties[:,:13] = 1e9\n",
    "dmis = data_misfit.L2DataMisfit(simulation=simulation, data=data_object)\n",
    "dmis.W = 1./uncertainties.flatten()\n",
    "\n",
    "regmap = maps.IdentityMap(nP=nP)\n",
    "\n",
    "reg = regularization.LaterallyConstrained(\n",
    "    mesh_reg, \n",
    "    mapping=regmap,\n",
    "    alpha_s = 1.,\n",
    "    alpha_r = 1.,\n",
    "    alpha_z = 0.,\n",
    "    indActiveEdges=indActiveEdges\n",
    ")\n",
    "\n",
    "reg_s = reg.objfcts[0]\n",
    "weights = np.ones((n_sounding, hz.size)) * 1e-1\n",
    "weights[:, [0, 2, 4]] = 1.\n",
    "rho_ref = np.ones((n_sounding, hz.size)) * 50.\n",
    "rho_ref[:, [0, 2, 4]] = 15.\n",
    "reg_s.cell_weights = weights.flatten()\n",
    "reg.mref = np.log(1./rho_ref.flatten())\n",
    "\n",
    "opt = optimization.ProjectedGNCG(maxIter=10, maxIterCG=20)\n",
    "invProb = inverse_problem.BaseInvProblem(dmis, reg, opt)\n",
    "beta = directives.BetaSchedule(coolingFactor=2, coolingRate=1)\n",
    "betaest = directives.BetaEstimate_ByEig(beta0_ratio=1.)\n",
    "target = directives.TargetMisfit(chifact=1.)\n",
    "save_model = directives.SaveOutputDictEveryIteration()\n",
    "inv = inversion.BaseInversion(invProb, directiveList=[beta, betaest, target, save_model])\n",
    "invProb.counter = opt.counter = utils.Counter()\n",
    "opt.LSshorten = 0.5\n",
    "opt.remember('xc')\n",
    "rho_initial = np.ones(nP) * 20.\n",
    "m0 = np.log(1./rho_ref.flatten())\n",
    "mest = inv.run(m0)\n",
    "outdict = save_model.outDict"
   ]
  },
  {
   "cell_type": "code",
   "execution_count": 172,
   "id": "171b43c7",
   "metadata": {},
   "outputs": [],
   "source": [
    "xc = opt.recall('xc')"
   ]
  },
  {
   "cell_type": "code",
   "execution_count": 173,
   "id": "291a83de",
   "metadata": {},
   "outputs": [
    {
     "name": "stderr",
     "output_type": "stream",
     "text": [
      "C:\\Users\\sgkan\\Projects\\simpeg\\SimPEG\\electromagnetics\\utils\\em1d_utils.py:536: UserWarning: code under construction - API might change in the future\n",
      "  warnings.warn(\n"
     ]
    },
    {
     "data": {
      "text/plain": [
       "(<matplotlib.collections.QuadMesh at 0x1c9c5b062b0>,\n",
       " <AxesSubplot:xlabel='Easting (m)', ylabel='Elevation (m)'>,\n",
       " <matplotlib.colorbar.Colorbar at 0x1c9c5b95d60>)"
      ]
     },
     "execution_count": 173,
     "metadata": {},
     "output_type": "execute_result"
    },
    {
     "data": {
      "image/png": "[encoded data removed]",
      "text/plain": [
       "<Figure size 1080x720 with 2 Axes>"
      ]
     },
     "metadata": {
      "needs_background": "light"
     },
     "output_type": "display_data"
    }
   ],
   "source": [
    "from SimPEG.electromagnetics.utils.em1d_utils import Stitched1DModel\n",
    "rho_inv = 1./np.exp(mest)\n",
    "model = Stitched1DModel(\n",
    "    hz=hz[:].astype(float), \n",
    "    line=np.ones(n_sounding), \n",
    "    topography=topo,\n",
    "    time_stamp=np.arange(n_sounding).astype(float), \n",
    "    physical_property=rho_inv.reshape((n_sounding, hz.size))[:,:].flatten()\n",
    ")\n",
    "model.plot_section(i_line=0, x_axis='x', aspect=10, cmap='turbo_r', clim=(1, 50), dx=50)"
   ]
  },
  {
   "cell_type": "code",
   "execution_count": 174,
   "id": "2e91db40",
   "metadata": {},
   "outputs": [
    {
     "data": {
      "text/plain": [
       "(41,)"
      ]
     },
     "execution_count": 174,
     "metadata": {},
     "output_type": "execute_result"
    }
   ],
   "source": [
    "times.shape"
   ]
  },
  {
   "cell_type": "code",
   "execution_count": 175,
   "id": "0ddb4d9d",
   "metadata": {},
   "outputs": [
    {
     "data": {
      "image/png": "[encoded data removed]",
      "text/plain": [
       "<Figure size 432x288 with 1 Axes>"
      ]
     },
     "metadata": {
      "needs_background": "light"
     },
     "output_type": "display_data"
    }
   ],
   "source": [
    "_ = plt.semilogy(-dobs_1.reshape((n_sounding, times.size))[:,13:], 'k.')\n",
    "_ = plt.semilogy(-invProb.dpred.reshape((n_sounding, times.size))[:,13:], 'r.')"
   ]
  },
  {
   "cell_type": "code",
   "execution_count": 176,
   "id": "b901b06e",
   "metadata": {},
   "outputs": [
    {
     "name": "stderr",
     "output_type": "stream",
     "text": [
      "C:\\Users\\sgkan\\Projects\\simpeg\\SimPEG\\directives\\directives.py:1471: UserWarning: Without a Linear preconditioner, convergence may be slow. Consider adding `Directives.UpdatePreconditioner` to your directives list\n",
      "  warnings.warn(\n"
     ]
    },
    {
     "name": "stdout",
     "output_type": "stream",
     "text": [
      "\n",
      "        SimPEG.InvProblem is setting bfgsH0 to the inverse of the eval2Deriv.\n",
      "        ***Done using same Solver and solverOpts as the problem***\n",
      "model has any nan: 0\n",
      "=============================== Projected GNCG ===============================\n",
      "  #     beta     phi_d     phi_m       f      |proj(x-g)-x|  LS    Comment   \n",
      "-----------------------------------------------------------------------------\n",
      "x0 has any nan: 0\n",
      "   0  7.61e-01  1.79e+03  2.07e+03  3.36e+03    4.64e+02      0              \n",
      "Reached starting chifact with l2-norm regularization: Start IRLS steps...\n",
      "eps_p: 3.3726985594200016 eps_q: 3.3726985594200016\n",
      "   1  3.80e-01  1.45e+03  2.54e+03  2.42e+03    2.80e+02      0              \n",
      "   2  6.45e-01  1.34e+03  2.78e+03  3.14e+03    2.54e+02      0              \n",
      "   3  1.07e+00  1.43e+03  2.70e+03  4.30e+03    3.34e+02      0              \n",
      "   4  1.69e+00  1.58e+03  2.64e+03  6.05e+03    2.87e+02      0              \n",
      "   5  1.69e+00  1.78e+03  2.63e+03  6.23e+03    1.83e+02      0              \n",
      "   6  1.69e+00  1.86e+03  2.73e+03  6.48e+03    1.84e+02      0   Skip BFGS  \n",
      "   7  1.69e+00  1.95e+03  2.83e+03  6.74e+03    1.75e+02      0   Skip BFGS  \n",
      "   8  1.69e+00  2.04e+03  2.94e+03  7.01e+03    1.90e+02      0              \n",
      "   9  1.38e+00  2.12e+03  3.05e+03  6.33e+03    2.05e+02      0              \n",
      "  10  1.13e+00  2.09e+03  3.20e+03  5.72e+03    1.77e+02      0              \n",
      "  11  1.13e+00  2.04e+03  3.36e+03  5.85e+03    1.39e+02      0              \n",
      "  12  9.37e-01  2.07e+03  3.43e+03  5.28e+03    1.38e+02      0              \n",
      "  13  9.37e-01  2.03e+03  3.54e+03  5.35e+03    1.90e+02      0              \n",
      "  14  9.37e-01  2.04e+03  3.57e+03  5.39e+03    2.51e+02      0              \n",
      "  15  9.37e-01  2.04e+03  3.62e+03  5.43e+03    3.35e+02      0              \n",
      "  16  9.37e-01  2.05e+03  3.66e+03  5.48e+03    4.28e+02      0              \n",
      "  17  9.37e-01  2.05e+03  3.68e+03  5.50e+03    4.81e+02      0              \n",
      "  18  7.74e-01  2.07e+03  3.68e+03  4.92e+03    3.87e+02      0              \n",
      "  19  6.38e-01  2.07e+03  3.67e+03  4.42e+03    3.43e+02      0              \n",
      "  20  5.26e-01  2.07e+03  3.66e+03  4.00e+03    1.88e+02      0              \n",
      "------------------------- STOP! -------------------------\n",
      "0 : |fc-fOld| = 4.1880e+02 <= tolF*(1+|f0|) = 3.3647e+02\n",
      "1 : |xc-x_last| = 2.5579e-01 <= tolX*(1+|x0|) = 6.3851e+00\n",
      "0 : |proj(x-g)-x|    = 1.8750e+02 <= tolG          = 1.0000e-01\n",
      "0 : |proj(x-g)-x|    = 1.8750e+02 <= 1e3*eps       = 1.0000e-02\n",
      "1 : maxIter   =      20    <= iter          =     20\n",
      "------------------------- DONE! -------------------------\n"
     ]
    }
   ],
   "source": [
    "nP = mesh.n_cells\n",
    "data_object = data.Data(survey, dobs=dobs_1)\n",
    "uncertainties = abs(dobs_1.reshape((n_sounding, times.size))) * 0.03\n",
    "uncertainties[:,:13] = 1e9\n",
    "dmis = data_misfit.L2DataMisfit(simulation=simulation, data=data_object)\n",
    "dmis.W = 1./uncertainties.flatten()\n",
    "\n",
    "regmap = maps.IdentityMap(nP=nP)\n",
    "\n",
    "reg = regularization.LaterallyConstrained(\n",
    "    mesh_reg, \n",
    "    mapping=regmap,\n",
    "    alpha_s = 1.,\n",
    "    alpha_r = 1.,\n",
    "    alpha_z = 0.,\n",
    "    indActiveEdges=indActiveEdges\n",
    ")\n",
    "\n",
    "reg_s = reg.objfcts[0]\n",
    "weights = np.ones((n_sounding, hz.size)) * 1e-1\n",
    "weights[:, [0, 2, 4]] = 1.\n",
    "rho_ref = np.ones((n_sounding, hz.size)) * 50.\n",
    "rho_ref[:, [0, 2, 4]] = 15.\n",
    "reg_s.cell_weights = weights.flatten()\n",
    "reg.mref = np.log(1./rho_ref.flatten())\n",
    "\n",
    "opt = optimization.ProjectedGNCG(maxIter=20, maxIterCG=20)\n",
    "invProb = inverse_problem.BaseInvProblem(dmis, reg, opt)\n",
    "beta = directives.BetaSchedule(coolingFactor=2, coolingRate=1)\n",
    "betaest = directives.BetaEstimate_ByEig(beta0_ratio=1e-2)\n",
    "target = directives.TargetMisfit(chifact=1.)\n",
    "save_model = directives.SaveOutputDictEveryIteration()\n",
    "\n",
    "p = 1\n",
    "qr, qz = 0., 0.\n",
    "reg.norms = np.c_[p, qr, qz, 0.]\n",
    "irls = directives.Update_IRLS(\n",
    "    max_irls_iterations=30, minGNiter=1, fix_Jmatrix=False, f_min_change=1e-3\n",
    ")\n",
    "inv = inversion.BaseInversion(invProb, directiveList=[betaest, irls, save_model])\n",
    "invProb.counter = opt.counter = utils.Counter()\n",
    "opt.LSshorten = 0.5\n",
    "opt.remember('xc')\n",
    "m_lp = inv.run(mest)\n",
    "outdict = save_model.outDict\n",
    "xc = opt.recall('xc')"
   ]
  },
  {
   "cell_type": "code",
   "execution_count": 177,
   "id": "ac16c86e",
   "metadata": {},
   "outputs": [
    {
     "data": {
      "text/plain": [
       "(<matplotlib.collections.QuadMesh at 0x1c9c8aac3d0>,\n",
       " <AxesSubplot:xlabel='Easting (m)', ylabel='Elevation (m)'>,\n",
       " <matplotlib.colorbar.Colorbar at 0x1c9c8b71af0>)"
      ]
     },
     "execution_count": 177,
     "metadata": {},
     "output_type": "execute_result"
    },
    {
     "data": {
      "image/png": "[encoded data removed]",
      "text/plain": [
       "<Figure size 1080x720 with 2 Axes>"
      ]
     },
     "metadata": {
      "needs_background": "light"
     },
     "output_type": "display_data"
    }
   ],
   "source": [
    "model.plot_section(i_line=0, x_axis='x', aspect=10, cmap='turbo_r', clim=(1, 50), dx=50, physical_property=1./np.exp(m_lp))"
   ]
  },
  {
   "cell_type": "code",
   "execution_count": null,
   "id": "bf716a62",
   "metadata": {},
   "outputs": [],
   "source": []
  },
  {
   "cell_type": "code",
   "execution_count": null,
   "id": "eab6123a",
   "metadata": {},
   "outputs": [],
   "source": []
  }
 ],
 "metadata": {
  "kernelspec": {
   "display_name": "Python 3",
   "language": "python",
   "name": "python3"
  },
  "language_info": {
   "codemirror_mode": {
    "name": "ipython",
    "version": 3
   },
   "file_extension": ".py",
   "mimetype": "text/x-python",
   "name": "python",
   "nbconvert_exporter": "python",
   "pygments_lexer": "ipython3",
   "version": "3.8.8"
  }
 },
 "nbformat": 4,
 "nbformat_minor": 5
}
