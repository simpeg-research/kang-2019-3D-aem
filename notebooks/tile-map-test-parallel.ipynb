{
 "cells": [
  {
   "cell_type": "code",
   "execution_count": 1,
   "metadata": {},
   "outputs": [],
   "source": [
    "from SimPEG import Mesh, Utils, EM, Maps\n",
    "from pymatsolver import Pardiso\n",
    "from scipy.constants import mu_0\n",
    "import numpy as np\n",
    "import matplotlib.pyplot as plt\n",
    "from TDEM import ProblemSkyTEM\n",
    "%matplotlib inline\n",
    "from pyMKL import mkl_set_num_threads"
   ]
  },
  {
   "cell_type": "code",
   "execution_count": 2,
   "metadata": {},
   "outputs": [],
   "source": [
    "mkl_set_num_threads(1)"
   ]
  },
  {
   "cell_type": "code",
   "execution_count": 3,
   "metadata": {},
   "outputs": [
    {
     "name": "stderr",
     "output_type": "stream",
     "text": [
      "/Users/sgkang/anaconda3/lib/python3.7/site-packages/dask/config.py:168: YAMLLoadWarning: calling yaml.load() without Loader=... is deprecated, as the default Loader is unsafe. Please read https://msg.pyyaml.org/load for full details.\n",
      "  data = yaml.load(f.read()) or {}\n",
      "/Users/sgkang/anaconda3/lib/python3.7/site-packages/distributed/config.py:20: YAMLLoadWarning: calling yaml.load() without Loader=... is deprecated, as the default Loader is unsafe. Please read https://msg.pyyaml.org/load for full details.\n",
      "  defaults = yaml.load(f)\n"
     ]
    }
   ],
   "source": [
    "from dask.distributed import Client\n",
    "client = Client(threads_per_worker=4, n_workers=1)"
   ]
  },
  {
   "cell_type": "code",
   "execution_count": 4,
   "metadata": {},
   "outputs": [],
   "source": [
    "import dask"
   ]
  },
  {
   "cell_type": "code",
   "execution_count": 5,
   "metadata": {},
   "outputs": [],
   "source": [
    "from SimPEG import Mesh"
   ]
  },
  {
   "cell_type": "code",
   "execution_count": 6,
   "metadata": {},
   "outputs": [],
   "source": [
    "# def foo(n):\n",
    "#     mesh = Mesh.TensorMesh([500, 500])    \n",
    "#     D = mesh.faceDiv\n",
    "#     v = D*(D.T*np.ones(mesh.nC))\n",
    "#     return 0"
   ]
  },
  {
   "cell_type": "code",
   "execution_count": 7,
   "metadata": {},
   "outputs": [],
   "source": [
    "# results = []\n",
    "# for ii in range(100):\n",
    "#     results.append(dask.delayed(foo)(ii))\n",
    "# futures = dask.persist(*results)  "
   ]
  },
  {
   "cell_type": "code",
   "execution_count": 8,
   "metadata": {},
   "outputs": [],
   "source": [
    "# %%time\n",
    "# results = dask.compute(*futures)\n",
    "# # results = dask.compute(*results)"
   ]
  },
  {
   "cell_type": "code",
   "execution_count": 9,
   "metadata": {},
   "outputs": [],
   "source": [
    "# results = []"
   ]
  },
  {
   "cell_type": "code",
   "execution_count": 10,
   "metadata": {},
   "outputs": [],
   "source": [
    "# %%time\n",
    "# for ii in range(100):\n",
    "#     results.append(foo(ii))"
   ]
  },
  {
   "cell_type": "code",
   "execution_count": 11,
   "metadata": {},
   "outputs": [],
   "source": [
    "from dask import compute, delayed\n",
    "import dask.multiprocessing"
   ]
  },
  {
   "cell_type": "code",
   "execution_count": 12,
   "metadata": {},
   "outputs": [],
   "source": [
    "# results = compute(*values, scheduler='threads')\n",
    "# results = compute(*values, scheduler='processes')"
   ]
  },
  {
   "cell_type": "code",
   "execution_count": 13,
   "metadata": {},
   "outputs": [],
   "source": [
    "sigma_background = 1./20.\n",
    "sigma_target = 1./10.\n",
    "resistivity_background = 1./sigma_background\n",
    "resistivity_target = 1./sigma_target\n",
    "resistivity = np.array([resistivity_background, resistivity_target, resistivity_background], dtype=float)\n",
    "thickness = np.array([50, 40], dtype=float)\n",
    "source_area = 536.36\n",
    "data_dir = \"/Users/sgkang/Dropbox/Stanford/Resolution/aarhusinv/em1dinv_examples/notebooks/\"\n",
    "waveform_hm = np.loadtxt(data_dir+\"HM_butte_304.txt\")\n",
    "time_gates_hm = np.loadtxt(data_dir+\"HM_butte_304_gates\")[7:,:] * 1e-6\n",
    "waveform_lm = np.loadtxt(data_dir+\"LM_butte_304.txt\")\n",
    "time_gates_lm = np.loadtxt(data_dir+\"LM_butte_304_gates\")[8:,:] * 1e-6\n",
    "\n",
    "time_input_currents_HM = waveform_hm[:,0]\n",
    "input_currents_HM = waveform_hm[:,1]\n",
    "time_input_currents_LM = waveform_lm[:,0]\n",
    "input_currents_LM = waveform_lm[:,1]\n",
    "    \n",
    "time_LM = time_gates_lm[:,3] - waveform_lm[:,0].max()\n",
    "time_HM = time_gates_hm[:,3] - waveform_hm[:,0].max()\n",
    "source_area = 536.36"
   ]
  },
  {
   "cell_type": "code",
   "execution_count": 14,
   "metadata": {},
   "outputs": [],
   "source": [
    "from discretize import utils\n",
    "rxloc = np.array([13.25, 0., 30.+2.])\n",
    "srcloc = np.array([0., 0., 30.])\n",
    "xyz = np.vstack((rxloc, srcloc))\n",
    "x = np.linspace(-1200., 1200.)\n",
    "y = np.linspace(-50., 50.)\n",
    "dem = Utils.ndgrid(x,y,np.r_[0.])\n",
    "h = [10., 10., 5.]\n",
    "mesh_global = utils.mesh_builder_xyz(\n",
    "    dem,\n",
    "    h,\n",
    "    padding_distance=[[2000., 2000.], [1000, 1000], [2000., 0.]],\n",
    "    base_mesh=None,\n",
    "    depth_core=None,\n",
    "    expansion_factor=1.3,\n",
    "    mesh_type='tree'\n",
    ")\n",
    "\n",
    "mesh_global = utils.refine_tree_xyz(\n",
    "    mesh_global,\n",
    "    dem,\n",
    "    method='surface',\n",
    "    octree_levels=[4, 5, 5],\n",
    "    octree_levels_padding=None,\n",
    "    finalize=False,\n",
    "    min_level=0,\n",
    "    max_distance=np.inf,    \n",
    ")\n",
    "\n",
    "x = np.linspace(-2000., 2000.)\n",
    "y = np.linspace(-50., 50.)\n",
    "dem = Utils.ndgrid(x,y,np.r_[0.])\n",
    "\n",
    "\n",
    "mesh_global = utils.refine_tree_xyz(\n",
    "    mesh_global,\n",
    "    dem,\n",
    "    method='surface',\n",
    "    octree_levels=[0, 1, 1],\n",
    "    octree_levels_padding=None,\n",
    "    finalize=True,\n",
    "    min_level=0,\n",
    "    max_distance=np.inf,    \n",
    ")"
   ]
  },
  {
   "cell_type": "code",
   "execution_count": 15,
   "metadata": {},
   "outputs": [],
   "source": [
    "x = np.arange(21)*100 - 1000.\n",
    "y = np.r_[0.]\n",
    "z = np.r_[30.]\n",
    "srclocs = Utils.ndgrid(x, y, z)\n",
    "rxlocs = Utils.ndgrid(x-13.25, y, z+2.)\n",
    "n_src = srclocs.shape[0]\n",
    "actv_global = mesh_global.gridCC[:,2]<0.\n"
   ]
  },
  {
   "cell_type": "code",
   "execution_count": 16,
   "metadata": {},
   "outputs": [],
   "source": [
    "# mesh_global.plotSlice(np.log10(1./sigma), normal='X', grid=True, clim=(np.log10(10), np.log10(50)))\n",
    "# plt.plot(srclocs[:,0], srclocs[:,2], 'r.')\n",
    "# plt.xlim(-2000, 2000)\n",
    "# plt.ylim(-300, 100)\n",
    "# # plt.gca().set_aspect(5)"
   ]
  },
  {
   "cell_type": "code",
   "execution_count": 17,
   "metadata": {},
   "outputs": [],
   "source": [
    "# mesh_global.plotSlice(np.log10(1./sigma), normal='z', grid=True, clim=(np.log10(10), np.log10(50)), ind=255)\n",
    "# plt.plot(srclocs[:,0], srclocs[:,1], 'r.')\n",
    "# plt.xlim(-200, 200)\n",
    "# plt.ylim(-200, 200)\n",
    "# # plt.gca().set_aspect(5)"
   ]
  },
  {
   "cell_type": "code",
   "execution_count": 18,
   "metadata": {},
   "outputs": [],
   "source": [
    "rxloc = np.array([13.25, 0., 30.+2.])\n",
    "srcloc = np.array([0., 0., 30.])\n",
    "\n",
    "def create_local_problem(srcloc, rxloc, mesh_global, actv_global):\n",
    "    xyz = np.vstack((rxloc, srcloc))\n",
    "    print (srcloc[0], srcloc[1])\n",
    "    x = np.linspace(-100., 100.) + srcloc[0]\n",
    "    y = np.linspace(-20., 20.) + srcloc[1]\n",
    "    dem = Utils.ndgrid(x,y,np.r_[0.])\n",
    "    h = [10., 10., 5.]\n",
    "    mesh_local = utils.mesh_builder_xyz(\n",
    "        dem,\n",
    "        h,\n",
    "        padding_distance=[[2000., 2000.], [2000., 2000.], [2000., 2000.]],\n",
    "        base_mesh=None,\n",
    "        depth_core=None,\n",
    "        expansion_factor=1.3,\n",
    "        mesh_type='tree'\n",
    "    )\n",
    "\n",
    "    mesh_local = utils.refine_tree_xyz(\n",
    "        mesh_local,\n",
    "        dem,\n",
    "        method='surface',\n",
    "        octree_levels=[1, 0, 5],\n",
    "        octree_levels_padding=None,\n",
    "        finalize=False,\n",
    "        min_level=0,\n",
    "        max_distance=np.inf,    \n",
    "    )\n",
    "\n",
    "\n",
    "    mesh_local = utils.refine_tree_xyz(\n",
    "        mesh_local,\n",
    "        xyz,\n",
    "        method='radial',\n",
    "        octree_levels=[2, 0, 0],\n",
    "        octree_levels_padding=None,\n",
    "        finalize=True,\n",
    "        min_level=1,\n",
    "        max_distance=np.inf,    \n",
    "    )\n",
    "    # Assume flat topo\n",
    "    actv_local = mesh_local.gridCC[:,2]<0.\n",
    "    tile_map = Maps.Tile((mesh_global, actv_global), (mesh_local, actv_local))    \n",
    "    act_map = Maps.InjectActiveCells(mesh_local, tile_map.activeLocal, valInactive=1e-8)\n",
    "    mapping = act_map * tile_map \n",
    "    rx = EM.TDEM.Rx.Point_dbdt(rxloc, np.logspace(np.log10(1e-6), np.log10(1e-2), 31), 'z')\n",
    "    # src = EM.TDEM.Src.CircularLoop([rx], waveform=EM.TDEM.Src.StepOffWaveform(), loc=srcloc, radius=13.)\n",
    "    src = EM.TDEM.Src.MagDipole([rx], waveform=EM.TDEM.Src.StepOffWaveform(), loc=srcloc)\n",
    "    survey = EM.TDEM.Survey([src])\n",
    "    prb = ProblemSkyTEM(mesh_local, sigmaMap=mapping, verbose=False)\n",
    "    dts = np.diff(np.logspace(-6, -1, 50))\n",
    "    prb.timeSteps = [(3e-7, 6),(1e-6, 5),(2e-6, 5),(5e-6, 5),(1e-5, 5),(2e-5, 5),(5e-5, 5),(1e-4, 5),(2e-4, 5),(5e-4, 5),(1e-3, 15)]\n",
    "    prb.Solver = Pardiso\n",
    "    prb.pair(survey)    \n",
    "    return prb\n",
    "#     return mesh_local, sigma_local\n",
    "    "
   ]
  },
  {
   "cell_type": "code",
   "execution_count": 19,
   "metadata": {},
   "outputs": [],
   "source": [
    "# i_src=9\n",
    "# mesh_local, sigma_local = create_local_problem(srclocs[i_src,:], rxlocs[i_src,:], mesh_global, actv_global)\n",
    "# mesh_local.plotSlice(sigma_local, normal='Y', grid=True)\n",
    "# plt.xlim(-1000, 1000)\n",
    "# plt.ylim(-200, 100)\n",
    "# plt.gca().set_aspect(5)"
   ]
  },
  {
   "cell_type": "code",
   "execution_count": 20,
   "metadata": {},
   "outputs": [],
   "source": [
    "# i_src=11\n",
    "# mesh_local, sigma_local = create_local_problem(srclocs[i_src,:], rxlocs[i_src,:], mesh_global, actv_global)\n",
    "# mesh_local.plotSlice(sigma_local, normal='Y', grid=True)\n",
    "# plt.xlim(-1000, 1000)\n",
    "# plt.ylim(-200, 100)\n",
    "# plt.gca().set_aspect(5)"
   ]
  },
  {
   "cell_type": "code",
   "execution_count": 21,
   "metadata": {},
   "outputs": [],
   "source": [
    "# prbs = []\n",
    "# for ii in range(n_src):\n",
    "#     y = dask.delayed(create_local_problem)(srclocs[ii,:], rxlocs[ii,:], mesh_global, actv_global)\n",
    "#     prbs.append(y)    "
   ]
  },
  {
   "cell_type": "code",
   "execution_count": 22,
   "metadata": {},
   "outputs": [
    {
     "name": "stdout",
     "output_type": "stream",
     "text": [
      "-1000.0 0.0\n",
      "-900.0 0.0\n",
      "-800.0 0.0\n",
      "-700.0 0.0\n",
      "-600.0 0.0\n",
      "-500.0 0.0\n",
      "-400.0 0.0\n",
      "-300.0 0.0\n",
      "-200.0 0.0\n",
      "-100.0 0.0\n",
      "0.0 0.0\n",
      "100.0 0.0\n",
      "200.0 0.0\n",
      "300.0 0.0\n",
      "400.0 0.0\n",
      "500.0 0.0\n",
      "600.0 0.0\n",
      "700.0 0.0\n",
      "800.0 0.0\n",
      "900.0 0.0\n",
      "1000.0 0.0\n"
     ]
    }
   ],
   "source": [
    "prbs = []\n",
    "for ii in range(n_src):\n",
    "    prbs.append(create_local_problem(srclocs[ii,:], rxlocs[ii,:], mesh_global, actv_global))    "
   ]
  },
  {
   "cell_type": "code",
   "execution_count": 23,
   "metadata": {},
   "outputs": [],
   "source": [
    "# %%time\n",
    "# results = compute(*prbs)"
   ]
  },
  {
   "cell_type": "code",
   "execution_count": 24,
   "metadata": {},
   "outputs": [],
   "source": [
    "sigmas = []\n",
    "ls = [20, 40, 80, 160, 240, 320]\n",
    "for l in ls:\n",
    "    sigma = np.ones(mesh_global.nC) * 1e-8\n",
    "    sigma[actv_global] = sigma_background\n",
    "    z = 0.\n",
    "    h = 20\n",
    "#     l = 400\n",
    "    inds = np.logical_and(mesh_global.gridCC[:,2]<-(z), mesh_global.gridCC[:,2]>-(z+h))\n",
    "    sigma[inds] = sigma_target\n",
    "    inds_gap = np.logical_and(mesh_global.gridCC[:,0]<l/2, mesh_global.gridCC[:,0]>-l/2) & inds\n",
    "    sigma[inds_gap] = sigma_background\n",
    "    sigma[~actv_global] = 1e-8\n",
    "    sigmas.append(sigma)"
   ]
  },
  {
   "cell_type": "code",
   "execution_count": 25,
   "metadata": {},
   "outputs": [
    {
     "data": {
      "text/plain": [
       "(-20, 20)"
      ]
     },
     "execution_count": 25,
     "metadata": {},
     "output_type": "execute_result"
    },
    {
     "data": {
      "image/png": "[encoded data removed]",
      "text/plain": [
       "<Figure size 432x288 with 1 Axes>"
      ]
     },
     "metadata": {
      "needs_background": "light"
     },
     "output_type": "display_data"
    }
   ],
   "source": [
    "ii = 0\n",
    "mesh_global.plotSlice(np.log10(1./sigmas[ii]), normal='Y', grid=True, clim=(np.log10(10), np.log10(50)))\n",
    "plt.plot(srclocs[:,0], srclocs[:,2], 'r.')\n",
    "plt.xlim(-100, 100)\n",
    "plt.ylim(-20, 20)\n",
    "# plt.gca().set_aspect(5)\n",
    "\n",
    "# mesh_global.writeVTK('test', models={'sigma':sigma})"
   ]
  },
  {
   "cell_type": "code",
   "execution_count": 26,
   "metadata": {},
   "outputs": [],
   "source": [
    "# rx = EM.TDEM.Rx.Point_dbdt(rxloc, np.logspace(np.log10(1e-6), np.log10(1e-2), 31), 'z')\n",
    "# # src = EM.TDEM.Src.CircularLoop([rx], waveform=EM.TDEM.Src.StepOffWaveform(), loc=srcloc, radius=13.)\n",
    "# src = EM.TDEM.Src.MagDipole([rx], waveform=EM.TDEM.Src.StepOffWaveform(), loc=srcloc)\n",
    "# survey = EM.TDEM.Survey([src])\n",
    "# prb = ProblemSkyTEM(mesh_local, sigma=sigma_local, verbose=False)\n",
    "# dts = np.diff(np.logspace(-6, -1, 50))\n",
    "# prb.timeSteps = [(3e-7, 6),(1e-6, 5),(2e-6, 5),(5e-6, 5),(1e-5, 5),(2e-5, 5),(5e-5, 5),(1e-4, 5),(2e-4, 5),(5e-4, 5),(1e-3, 15)]\n",
    "# prb.Solver = Pardiso\n",
    "# prb.pair(survey)    \n",
    "\n",
    "# data_hm_0, data_lm_0 = prb.simulate(\n",
    "# [],\n",
    "# time_HM,\n",
    "# time_LM,\n",
    "# time_input_currents_HM, \n",
    "# input_currents_HM,\n",
    "# time_input_currents_LM, \n",
    "# input_currents_LM,    \n",
    "# )\n"
   ]
  },
  {
   "cell_type": "code",
   "execution_count": 27,
   "metadata": {},
   "outputs": [
    {
     "name": "stdout",
     "output_type": "stream",
     "text": [
      "CPU times: user 17.5 s, sys: 1.11 s, total: 18.6 s\n",
      "Wall time: 18.8 s\n"
     ]
    }
   ],
   "source": [
    "%%time\n",
    "results = []\n",
    "for ii, prb in enumerate(prbs):\n",
    "    results.append(\n",
    "        prb.simulate(\n",
    "            sigma[prb.sigmaMap.maps[1].actvGlobal],\n",
    "            time_HM,\n",
    "            time_LM,\n",
    "            time_input_currents_HM, \n",
    "            input_currents_HM,\n",
    "            time_input_currents_LM, \n",
    "            input_currents_LM,    \n",
    "        )    \n",
    "    )"
   ]
  },
  {
   "cell_type": "code",
   "execution_count": 34,
   "metadata": {},
   "outputs": [],
   "source": [
    "results = []\n",
    "for ii, prb in enumerate(prbs):\n",
    "    results.append(\n",
    "        dask.delayed(prb.simulate)(\n",
    "            sigma[prb.sigmaMap.maps[1].actvGlobal],\n",
    "            time_HM,\n",
    "            time_LM,\n",
    "            time_input_currents_HM, \n",
    "            input_currents_HM,\n",
    "            time_input_currents_LM, \n",
    "            input_currents_LM,    \n",
    "        )    \n",
    "    )\n",
    "futures = dask.persist(*results)    "
   ]
  },
  {
   "cell_type": "code",
   "execution_count": 35,
   "metadata": {},
   "outputs": [
    {
     "name": "stdout",
     "output_type": "stream",
     "text": [
      "CPU times: user 699 ms, sys: 151 ms, total: 850 ms\n",
      "Wall time: 18.7 s\n"
     ]
    }
   ],
   "source": [
    "%%time\n",
    "output = dask.compute(*futures)"
   ]
  },
  {
   "cell_type": "code",
   "execution_count": 36,
   "metadata": {},
   "outputs": [],
   "source": [
    "# %%time\n",
    "data_hms = []\n",
    "data_lms = []\n",
    "\n",
    "for ii, sigma in enumerate(sigmas):\n",
    "    temp_hms = np.zeros((len(prbs), time_HM.size), dtype=float)\n",
    "    temp_lms = np.zeros((len(prbs), time_LM.size), dtype=float)    \n",
    "    for ii, prb in enumerate(prbs):\n",
    "        data_hm, data_lm = prb.simulate(\n",
    "        sigma[prb.sigmaMap.maps[1].actvGlobal],\n",
    "        time_HM,\n",
    "        time_LM,\n",
    "        time_input_currents_HM, \n",
    "        input_currents_HM,\n",
    "        time_input_currents_LM, \n",
    "        input_currents_LM,    \n",
    "        )\n",
    "        temp_hms[ii,:] = data_hm\n",
    "        temp_lms[ii,:] = data_lm\n",
    "    data_hms.append(temp_hms)    \n",
    "    data_lms.append(temp_lms)    "
   ]
  },
  {
   "cell_type": "code",
   "execution_count": null,
   "metadata": {},
   "outputs": [],
   "source": [
    "# Generate layered earth data\n",
    "data_lms_0 = np.tile(data_lms[0][0,:], (21, 1))\n",
    "data_hms_0 = np.tile(data_hms[0][0,:], (21, 1))"
   ]
  },
  {
   "cell_type": "code",
   "execution_count": 650,
   "metadata": {},
   "outputs": [
    {
     "data": {
      "image/png": "[encoded data removed]",
      "text/plain": [
       "<Figure size 720x360 with 2 Axes>"
      ]
     },
     "metadata": {
      "needs_background": "light"
     },
     "output_type": "display_data"
    }
   ],
   "source": [
    "ii=0\n",
    "titles = ['LM: '+ str(ls[ii]) + 'm', 'HM:' + str(ls[ii]) + 'm']\n",
    "fig, axs = plt.subplots(1,2, figsize = (10, 5))\n",
    "out = axs[0].semilogy(srclocs[:,0], -np.vstack(data_lms[ii]), 'k-', lw=2)\n",
    "out = axs[0].semilogy(srclocs[:,0], -np.vstack(data_lms_0), 'b--', lw=1)\n",
    "out = axs[1].semilogy(srclocs[:,0], -np.vstack(data_hms[ii]), 'k-', lw=2)\n",
    "out = axs[1].semilogy(srclocs[:,0], -np.vstack(data_hms_0), 'b--', lw=1)\n",
    "for i_ax, ax in enumerate(axs):\n",
    "    ax.set_title(titles[i_ax])"
   ]
  },
  {
   "cell_type": "code",
   "execution_count": null,
   "metadata": {},
   "outputs": [],
   "source": [
    "rerrs = np.zeros((len(sigma), 21), dtype=float)\n",
    "for ii in range(len(sigma)):\n",
    "    rerr_lm = np.sqrt((((data_lms[ii]-data_lms_0) / data_lms_0)**2).sum(axis=1) / time_LM.size) * 100\n",
    "    plt.plot(srclocs[:,0], rerr_lm)\n",
    "#     rerrs_lm = "
   ]
  },
  {
   "cell_type": "code",
   "execution_count": 622,
   "metadata": {},
   "outputs": [],
   "source": []
  },
  {
   "cell_type": "code",
   "execution_count": 602,
   "metadata": {},
   "outputs": [],
   "source": [
    "data_lm = data_lms[0][10,:]\n",
    "data_hm = data_hms[0][10,:]"
   ]
  },
  {
   "cell_type": "code",
   "execution_count": 603,
   "metadata": {},
   "outputs": [],
   "source": [
    "# mesh_local.plotSlice(sigma_local, normal='Y')"
   ]
  },
  {
   "cell_type": "code",
   "execution_count": 604,
   "metadata": {},
   "outputs": [],
   "source": [
    "from simpegEM1D import EM1D, EM1DSurveyTD, Utils1D, get_vertical_discretization_time, set_mesh_1d, piecewise_pulse\n",
    "from SimPEG import Maps\n",
    "def simulation(src_type, n_pulse=1, use_lowpass_filter=True):\n",
    "    hz = np.r_[thickness.copy(), 1e3]\n",
    "    mesh1D = set_mesh_1d(hz)\n",
    "    depth = -mesh1D.gridN[:-1]\n",
    "\n",
    "    if src_type == \"CircularLoop\":\n",
    "        # Effective radius\n",
    "        radius = np.sqrt(source_area/np.pi)        \n",
    "        TDsurvey = EM1DSurveyTD(\n",
    "            rx_location = np.array([0., 0., 100.+30.]),\n",
    "            src_location = np.array([0., 0., 100.+30.]),\n",
    "            topo = np.r_[0., 0., 100.],\n",
    "            depth = depth,\n",
    "            rx_type = 'dBzdt',\n",
    "            wave_type = 'general',\n",
    "            src_type = 'CircularLoop',    \n",
    "            I = 1,    \n",
    "            a = radius,\n",
    "            time = time_HM,\n",
    "            time_input_currents=time_input_currents_HM,\n",
    "            input_currents=input_currents_HM,\n",
    "            n_pulse = n_pulse,\n",
    "            base_frequency = 30.,\n",
    "            use_lowpass_filter=use_lowpass_filter,\n",
    "            high_cut_frequency=210*1e3,\n",
    "            moment_type='dual',\n",
    "            time_dual_moment = time_LM,    \n",
    "            time_input_currents_dual_moment=time_input_currents_LM,\n",
    "            input_currents_dual_moment=input_currents_LM,\n",
    "            base_frequency_dual_moment=210,    \n",
    "        )\n",
    "    elif src_type == \"VMD\":\n",
    "        TDsurvey = EM1DSurveyTD(\n",
    "            rx_location = np.array([0., 0., 100.+30.+2.]),\n",
    "            src_location = np.array([0., 0., 100.+30.]),\n",
    "            topo = np.r_[0., 0., 100.],\n",
    "            depth = depth,\n",
    "            rx_type = 'dBzdt',\n",
    "            wave_type = 'general',\n",
    "            src_type = 'VMD',    \n",
    "            offset=np.array([13.25]),\n",
    "            I = 1.,\n",
    "            time = time_HM,\n",
    "            time_input_currents=time_input_currents_HM,\n",
    "            input_currents=input_currents_HM,\n",
    "            n_pulse = n_pulse,\n",
    "            base_frequency = 30.,\n",
    "            use_lowpass_filter=use_lowpass_filter,\n",
    "            high_cut_frequency=210*1e3,\n",
    "            moment_type='dual',\n",
    "            time_dual_moment = time_LM,    \n",
    "            time_input_currents_dual_moment=time_input_currents_LM,\n",
    "            input_currents_dual_moment=input_currents_LM,\n",
    "            base_frequency_dual_moment=210,    \n",
    "        )\n",
    "    chi_half = 0.\n",
    "    expmap = Maps.ExpMap(mesh1D)\n",
    "\n",
    "    prob = EM1D(mesh1D, sigmaMap=expmap, verbose=False)\n",
    "    m_true = np.log(1./resistivity)\n",
    "    if prob.ispaired:\n",
    "        prob.unpair()\n",
    "    if TDsurvey.ispaired:\n",
    "        TDsurvey.unpair()\n",
    "    prob.pair(TDsurvey)\n",
    "    prob.chi = np.zeros(TDsurvey.n_layer)\n",
    "    d_true = -TDsurvey.dpred(m_true)\n",
    "    return d_true"
   ]
  },
  {
   "cell_type": "code",
   "execution_count": 605,
   "metadata": {},
   "outputs": [
    {
     "ename": "ValueError",
     "evalue": "x and y must have same first dimension, but have shapes (20,) and (420,)",
     "output_type": "error",
     "traceback": [
      "\u001b[0;31m---------------------------------------------------------------------------\u001b[0m",
      "\u001b[0;31mValueError\u001b[0m                                Traceback (most recent call last)",
      "\u001b[0;32m<ipython-input-605-978ef607a39c>\u001b[0m in \u001b[0;36m<module>\u001b[0;34m\u001b[0m\n\u001b[1;32m      4\u001b[0m \u001b[0;31m# axes.plot(time_gates_lm[:,3], d_true[n_time:], 'b-')\u001b[0m\u001b[0;34m\u001b[0m\u001b[0;34m\u001b[0m\u001b[0;34m\u001b[0m\u001b[0m\n\u001b[1;32m      5\u001b[0m \u001b[0;31m# axes.plot(time_gates_hm[:,3], d_true[:n_time], 'k-')\u001b[0m\u001b[0;34m\u001b[0m\u001b[0;34m\u001b[0m\u001b[0;34m\u001b[0m\u001b[0m\n\u001b[0;32m----> 6\u001b[0;31m \u001b[0maxes\u001b[0m\u001b[0;34m.\u001b[0m\u001b[0mplot\u001b[0m\u001b[0;34m(\u001b[0m\u001b[0mtime_gates_lm\u001b[0m\u001b[0;34m[\u001b[0m\u001b[0;34m:\u001b[0m\u001b[0;34m,\u001b[0m\u001b[0;36m3\u001b[0m\u001b[0;34m]\u001b[0m\u001b[0;34m,\u001b[0m \u001b[0;34m-\u001b[0m\u001b[0mdata_lms\u001b[0m\u001b[0;34m[\u001b[0m\u001b[0;36m0\u001b[0m\u001b[0;34m]\u001b[0m\u001b[0;34m.\u001b[0m\u001b[0mflatten\u001b[0m\u001b[0;34m(\u001b[0m\u001b[0;34m)\u001b[0m\u001b[0;34m,\u001b[0m \u001b[0;34m'b-'\u001b[0m\u001b[0;34m)\u001b[0m\u001b[0;34m\u001b[0m\u001b[0;34m\u001b[0m\u001b[0m\n\u001b[0m\u001b[1;32m      7\u001b[0m \u001b[0maxes\u001b[0m\u001b[0;34m.\u001b[0m\u001b[0mplot\u001b[0m\u001b[0;34m(\u001b[0m\u001b[0mtime_gates_hm\u001b[0m\u001b[0;34m[\u001b[0m\u001b[0;34m:\u001b[0m\u001b[0;34m,\u001b[0m\u001b[0;36m3\u001b[0m\u001b[0;34m]\u001b[0m\u001b[0;34m,\u001b[0m \u001b[0;34m-\u001b[0m\u001b[0mdata_hms\u001b[0m\u001b[0;34m[\u001b[0m\u001b[0;36m0\u001b[0m\u001b[0;34m]\u001b[0m\u001b[0;34m.\u001b[0m\u001b[0mflatten\u001b[0m\u001b[0;34m(\u001b[0m\u001b[0;34m)\u001b[0m\u001b[0;34m,\u001b[0m \u001b[0;34m'k-'\u001b[0m\u001b[0;34m)\u001b[0m\u001b[0;34m\u001b[0m\u001b[0;34m\u001b[0m\u001b[0m\n\u001b[1;32m      8\u001b[0m \u001b[0;34m\u001b[0m\u001b[0m\n",
      "\u001b[0;32m~/anaconda3/lib/python3.7/site-packages/matplotlib/__init__.py\u001b[0m in \u001b[0;36minner\u001b[0;34m(ax, data, *args, **kwargs)\u001b[0m\n\u001b[1;32m   1808\u001b[0m                         \u001b[0;34m\"the Matplotlib list!)\"\u001b[0m \u001b[0;34m%\u001b[0m \u001b[0;34m(\u001b[0m\u001b[0mlabel_namer\u001b[0m\u001b[0;34m,\u001b[0m \u001b[0mfunc\u001b[0m\u001b[0;34m.\u001b[0m\u001b[0m__name__\u001b[0m\u001b[0;34m)\u001b[0m\u001b[0;34m,\u001b[0m\u001b[0;34m\u001b[0m\u001b[0;34m\u001b[0m\u001b[0m\n\u001b[1;32m   1809\u001b[0m                         RuntimeWarning, stacklevel=2)\n\u001b[0;32m-> 1810\u001b[0;31m             \u001b[0;32mreturn\u001b[0m \u001b[0mfunc\u001b[0m\u001b[0;34m(\u001b[0m\u001b[0max\u001b[0m\u001b[0;34m,\u001b[0m \u001b[0;34m*\u001b[0m\u001b[0margs\u001b[0m\u001b[0;34m,\u001b[0m \u001b[0;34m**\u001b[0m\u001b[0mkwargs\u001b[0m\u001b[0;34m)\u001b[0m\u001b[0;34m\u001b[0m\u001b[0;34m\u001b[0m\u001b[0m\n\u001b[0m\u001b[1;32m   1811\u001b[0m \u001b[0;34m\u001b[0m\u001b[0m\n\u001b[1;32m   1812\u001b[0m         inner.__doc__ = _add_data_doc(inner.__doc__,\n",
      "\u001b[0;32m~/anaconda3/lib/python3.7/site-packages/matplotlib/axes/_axes.py\u001b[0m in \u001b[0;36mplot\u001b[0;34m(self, scalex, scaley, *args, **kwargs)\u001b[0m\n\u001b[1;32m   1609\u001b[0m         \u001b[0mkwargs\u001b[0m \u001b[0;34m=\u001b[0m \u001b[0mcbook\u001b[0m\u001b[0;34m.\u001b[0m\u001b[0mnormalize_kwargs\u001b[0m\u001b[0;34m(\u001b[0m\u001b[0mkwargs\u001b[0m\u001b[0;34m,\u001b[0m \u001b[0mmlines\u001b[0m\u001b[0;34m.\u001b[0m\u001b[0mLine2D\u001b[0m\u001b[0;34m.\u001b[0m\u001b[0m_alias_map\u001b[0m\u001b[0;34m)\u001b[0m\u001b[0;34m\u001b[0m\u001b[0;34m\u001b[0m\u001b[0m\n\u001b[1;32m   1610\u001b[0m \u001b[0;34m\u001b[0m\u001b[0m\n\u001b[0;32m-> 1611\u001b[0;31m         \u001b[0;32mfor\u001b[0m \u001b[0mline\u001b[0m \u001b[0;32min\u001b[0m \u001b[0mself\u001b[0m\u001b[0;34m.\u001b[0m\u001b[0m_get_lines\u001b[0m\u001b[0;34m(\u001b[0m\u001b[0;34m*\u001b[0m\u001b[0margs\u001b[0m\u001b[0;34m,\u001b[0m \u001b[0;34m**\u001b[0m\u001b[0mkwargs\u001b[0m\u001b[0;34m)\u001b[0m\u001b[0;34m:\u001b[0m\u001b[0;34m\u001b[0m\u001b[0;34m\u001b[0m\u001b[0m\n\u001b[0m\u001b[1;32m   1612\u001b[0m             \u001b[0mself\u001b[0m\u001b[0;34m.\u001b[0m\u001b[0madd_line\u001b[0m\u001b[0;34m(\u001b[0m\u001b[0mline\u001b[0m\u001b[0;34m)\u001b[0m\u001b[0;34m\u001b[0m\u001b[0;34m\u001b[0m\u001b[0m\n\u001b[1;32m   1613\u001b[0m             \u001b[0mlines\u001b[0m\u001b[0;34m.\u001b[0m\u001b[0mappend\u001b[0m\u001b[0;34m(\u001b[0m\u001b[0mline\u001b[0m\u001b[0;34m)\u001b[0m\u001b[0;34m\u001b[0m\u001b[0;34m\u001b[0m\u001b[0m\n",
      "\u001b[0;32m~/anaconda3/lib/python3.7/site-packages/matplotlib/axes/_base.py\u001b[0m in \u001b[0;36m_grab_next_args\u001b[0;34m(self, *args, **kwargs)\u001b[0m\n\u001b[1;32m    391\u001b[0m                 \u001b[0mthis\u001b[0m \u001b[0;34m+=\u001b[0m \u001b[0margs\u001b[0m\u001b[0;34m[\u001b[0m\u001b[0;36m0\u001b[0m\u001b[0;34m]\u001b[0m\u001b[0;34m,\u001b[0m\u001b[0;34m\u001b[0m\u001b[0;34m\u001b[0m\u001b[0m\n\u001b[1;32m    392\u001b[0m                 \u001b[0margs\u001b[0m \u001b[0;34m=\u001b[0m \u001b[0margs\u001b[0m\u001b[0;34m[\u001b[0m\u001b[0;36m1\u001b[0m\u001b[0;34m:\u001b[0m\u001b[0;34m]\u001b[0m\u001b[0;34m\u001b[0m\u001b[0;34m\u001b[0m\u001b[0m\n\u001b[0;32m--> 393\u001b[0;31m             \u001b[0;32myield\u001b[0m \u001b[0;32mfrom\u001b[0m \u001b[0mself\u001b[0m\u001b[0;34m.\u001b[0m\u001b[0m_plot_args\u001b[0m\u001b[0;34m(\u001b[0m\u001b[0mthis\u001b[0m\u001b[0;34m,\u001b[0m \u001b[0mkwargs\u001b[0m\u001b[0;34m)\u001b[0m\u001b[0;34m\u001b[0m\u001b[0;34m\u001b[0m\u001b[0m\n\u001b[0m\u001b[1;32m    394\u001b[0m \u001b[0;34m\u001b[0m\u001b[0m\n\u001b[1;32m    395\u001b[0m \u001b[0;34m\u001b[0m\u001b[0m\n",
      "\u001b[0;32m~/anaconda3/lib/python3.7/site-packages/matplotlib/axes/_base.py\u001b[0m in \u001b[0;36m_plot_args\u001b[0;34m(self, tup, kwargs)\u001b[0m\n\u001b[1;32m    368\u001b[0m             \u001b[0mx\u001b[0m\u001b[0;34m,\u001b[0m \u001b[0my\u001b[0m \u001b[0;34m=\u001b[0m \u001b[0mindex_of\u001b[0m\u001b[0;34m(\u001b[0m\u001b[0mtup\u001b[0m\u001b[0;34m[\u001b[0m\u001b[0;34m-\u001b[0m\u001b[0;36m1\u001b[0m\u001b[0;34m]\u001b[0m\u001b[0;34m)\u001b[0m\u001b[0;34m\u001b[0m\u001b[0;34m\u001b[0m\u001b[0m\n\u001b[1;32m    369\u001b[0m \u001b[0;34m\u001b[0m\u001b[0m\n\u001b[0;32m--> 370\u001b[0;31m         \u001b[0mx\u001b[0m\u001b[0;34m,\u001b[0m \u001b[0my\u001b[0m \u001b[0;34m=\u001b[0m \u001b[0mself\u001b[0m\u001b[0;34m.\u001b[0m\u001b[0m_xy_from_xy\u001b[0m\u001b[0;34m(\u001b[0m\u001b[0mx\u001b[0m\u001b[0;34m,\u001b[0m \u001b[0my\u001b[0m\u001b[0;34m)\u001b[0m\u001b[0;34m\u001b[0m\u001b[0;34m\u001b[0m\u001b[0m\n\u001b[0m\u001b[1;32m    371\u001b[0m \u001b[0;34m\u001b[0m\u001b[0m\n\u001b[1;32m    372\u001b[0m         \u001b[0;32mif\u001b[0m \u001b[0mself\u001b[0m\u001b[0;34m.\u001b[0m\u001b[0mcommand\u001b[0m \u001b[0;34m==\u001b[0m \u001b[0;34m'plot'\u001b[0m\u001b[0;34m:\u001b[0m\u001b[0;34m\u001b[0m\u001b[0;34m\u001b[0m\u001b[0m\n",
      "\u001b[0;32m~/anaconda3/lib/python3.7/site-packages/matplotlib/axes/_base.py\u001b[0m in \u001b[0;36m_xy_from_xy\u001b[0;34m(self, x, y)\u001b[0m\n\u001b[1;32m    229\u001b[0m         \u001b[0;32mif\u001b[0m \u001b[0mx\u001b[0m\u001b[0;34m.\u001b[0m\u001b[0mshape\u001b[0m\u001b[0;34m[\u001b[0m\u001b[0;36m0\u001b[0m\u001b[0;34m]\u001b[0m \u001b[0;34m!=\u001b[0m \u001b[0my\u001b[0m\u001b[0;34m.\u001b[0m\u001b[0mshape\u001b[0m\u001b[0;34m[\u001b[0m\u001b[0;36m0\u001b[0m\u001b[0;34m]\u001b[0m\u001b[0;34m:\u001b[0m\u001b[0;34m\u001b[0m\u001b[0;34m\u001b[0m\u001b[0m\n\u001b[1;32m    230\u001b[0m             raise ValueError(\"x and y must have same first dimension, but \"\n\u001b[0;32m--> 231\u001b[0;31m                              \"have shapes {} and {}\".format(x.shape, y.shape))\n\u001b[0m\u001b[1;32m    232\u001b[0m         \u001b[0;32mif\u001b[0m \u001b[0mx\u001b[0m\u001b[0;34m.\u001b[0m\u001b[0mndim\u001b[0m \u001b[0;34m>\u001b[0m \u001b[0;36m2\u001b[0m \u001b[0;32mor\u001b[0m \u001b[0my\u001b[0m\u001b[0;34m.\u001b[0m\u001b[0mndim\u001b[0m \u001b[0;34m>\u001b[0m \u001b[0;36m2\u001b[0m\u001b[0;34m:\u001b[0m\u001b[0;34m\u001b[0m\u001b[0;34m\u001b[0m\u001b[0m\n\u001b[1;32m    233\u001b[0m             raise ValueError(\"x and y can be no greater than 2-D, but have \"\n",
      "\u001b[0;31mValueError\u001b[0m: x and y must have same first dimension, but have shapes (20,) and (420,)"
     ]
    },
    {
     "data": {
      "image/png": "[encoded data removed]",
      "text/plain": [
       "<Figure size 504x360 with 1 Axes>"
      ]
     },
     "metadata": {
      "needs_background": "light"
     },
     "output_type": "display_data"
    }
   ],
   "source": [
    "d_true = simulation('VMD', use_lowpass_filter=False, n_pulse=1)\n",
    "n_time = time_HM.size\n",
    "fig, axes = plt.subplots(1,1, figsize = (7,5))\n",
    "# axes.plot(time_gates_lm[:,3], d_true[n_time:], 'b-')\n",
    "# axes.plot(time_gates_hm[:,3], d_true[:n_time], 'k-')\n",
    "axes.plot(time_gates_lm[:,3], -data_lms[0].flatten(), 'b-')\n",
    "axes.plot(time_gates_hm[:,3], -data_hms[0].flatten(), 'k-')\n",
    "\n",
    "axes.plot(time_gates_lm[:,3], -data_lm.flatten(), 'b--')\n",
    "axes.plot(time_gates_hm[:,3], -data_hm.flatten(), 'k--')\n",
    "axes.set_xscale('log');\n",
    "axes.set_yscale('log');\n",
    "plt.legend((\"Aarhus1D-LM\", \"Aarhus1D-HM\", \"simpeg-LM\", \"simpeg-HM\"))\n",
    "axes.set_xlabel(\"Time (ms)\")\n",
    "axes.set_ylabel(\"Voltage (V/A)\")"
   ]
  },
  {
   "cell_type": "code",
   "execution_count": null,
   "metadata": {},
   "outputs": [],
   "source": [
    "plt.semilogx(time_gates_lm[:,3], abs((data_lm.flatten()-data_lms[0].flatten()) / data_lm.flatten()))\n",
    "plt.semilogx(time_gates_hm[:,3], abs((data_hm.flatten()-data_hms[0].flatten()) / data_hm.flatten()))"
   ]
  }
 ],
 "metadata": {
  "kernelspec": {
   "display_name": "Python 3",
   "language": "python",
   "name": "python3"
  },
  "language_info": {
   "codemirror_mode": {
    "name": "ipython",
    "version": 3
   },
   "file_extension": ".py",
   "mimetype": "text/x-python",
   "name": "python",
   "nbconvert_exporter": "python",
   "pygments_lexer": "ipython3",
   "version": "3.7.3"
  }
 },
 "nbformat": 4,
 "nbformat_minor": 2
}
