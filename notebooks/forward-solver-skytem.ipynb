{
 "cells": [
  {
   "cell_type": "code",
   "execution_count": 1,
   "metadata": {},
   "outputs": [
    {
     "ename": "ImportError",
     "evalue": "cannot import name 'Mesh' from 'SimPEG' (C:\\Users\\sgkan\\Projects\\simpeg\\SimPEG\\__init__.py)",
     "output_type": "error",
     "traceback": [
      "\u001b[1;31m---------------------------------------------------------------------------\u001b[0m",
      "\u001b[1;31mImportError\u001b[0m                               Traceback (most recent call last)",
      "\u001b[1;32m<ipython-input-1-c189c84b7731>\u001b[0m in \u001b[0;36m<module>\u001b[1;34m\u001b[0m\n\u001b[1;32m----> 1\u001b[1;33m \u001b[1;32mfrom\u001b[0m \u001b[0mSimPEG\u001b[0m \u001b[1;32mimport\u001b[0m \u001b[0mMesh\u001b[0m\u001b[1;33m,\u001b[0m \u001b[0mUtils\u001b[0m\u001b[1;33m,\u001b[0m \u001b[0mEM\u001b[0m\u001b[1;33m\u001b[0m\u001b[1;33m\u001b[0m\u001b[0m\n\u001b[0m\u001b[0;32m      2\u001b[0m \u001b[1;32mfrom\u001b[0m \u001b[0mpymatsolver\u001b[0m \u001b[1;32mimport\u001b[0m \u001b[0mPardiso\u001b[0m\u001b[1;33m\u001b[0m\u001b[1;33m\u001b[0m\u001b[0m\n\u001b[0;32m      3\u001b[0m \u001b[1;32mfrom\u001b[0m \u001b[0mscipy\u001b[0m\u001b[1;33m.\u001b[0m\u001b[0mconstants\u001b[0m \u001b[1;32mimport\u001b[0m \u001b[0mmu_0\u001b[0m\u001b[1;33m\u001b[0m\u001b[1;33m\u001b[0m\u001b[0m\n\u001b[0;32m      4\u001b[0m \u001b[1;32mimport\u001b[0m \u001b[0mnumpy\u001b[0m \u001b[1;32mas\u001b[0m \u001b[0mnp\u001b[0m\u001b[1;33m\u001b[0m\u001b[1;33m\u001b[0m\u001b[0m\n\u001b[0;32m      5\u001b[0m \u001b[1;32mimport\u001b[0m \u001b[0mmatplotlib\u001b[0m\u001b[1;33m.\u001b[0m\u001b[0mpyplot\u001b[0m \u001b[1;32mas\u001b[0m \u001b[0mplt\u001b[0m\u001b[1;33m\u001b[0m\u001b[1;33m\u001b[0m\u001b[0m\n",
      "\u001b[1;31mImportError\u001b[0m: cannot import name 'Mesh' from 'SimPEG' (C:\\Users\\sgkan\\Projects\\simpeg\\SimPEG\\__init__.py)"
     ]
    }
   ],
   "source": [
    "from SimPEG import Mesh, Utils, EM\n",
    "from pymatsolver import Pardiso\n",
    "from scipy.constants import mu_0\n",
    "import numpy as np\n",
    "import matplotlib.pyplot as plt\n",
    "from TDEM import ProblemSkyTEM\n",
    "%matplotlib inline"
   ]
  },
  {
   "cell_type": "code",
   "execution_count": null,
   "metadata": {},
   "outputs": [],
   "source": [
    "sigma_background = 1./100.\n",
    "sigma_target = 1./100.\n",
    "resistivity_background = 1./sigma_background\n",
    "resistivity_target = 1./sigma_target\n",
    "resistivity = np.array([resistivity_background, resistivity_target, resistivity_background], dtype=float)\n",
    "thickness = np.array([50, 40], dtype=float)\n",
    "source_area = 536.36\n",
    "data_dir = \"/Users/sgkang/Dropbox/Stanford/Resolution/aarhusinv/em1dinv_examples/notebooks/\"\n",
    "waveform_hm = np.loadtxt(data_dir+\"HM_butte_304.txt\")\n",
    "time_gates_hm = np.loadtxt(data_dir+\"HM_butte_304_gates\")[7:,:] * 1e-6\n",
    "waveform_lm = np.loadtxt(data_dir+\"LM_butte_304.txt\")\n",
    "time_gates_lm = np.loadtxt(data_dir+\"LM_butte_304_gates\")[8:,:] * 1e-6\n",
    "\n",
    "time_input_currents_HM = waveform_hm[:,0]\n",
    "input_currents_HM = waveform_hm[:,1]\n",
    "time_input_currents_LM = waveform_lm[:,0]\n",
    "input_currents_LM = waveform_lm[:,1]\n",
    "    \n",
    "time_LM = time_gates_lm[:,3] - waveform_lm[:,0].max()\n",
    "time_HM = time_gates_hm[:,3] - waveform_hm[:,0].max()\n",
    "source_area = 536.36"
   ]
  },
  {
   "cell_type": "code",
   "execution_count": null,
   "metadata": {},
   "outputs": [],
   "source": [
    "from simpegEM1D import diffusion_distance"
   ]
  },
  {
   "cell_type": "code",
   "execution_count": null,
   "metadata": {},
   "outputs": [],
   "source": [
    "diffusion_distance(1e-2, 1./50.) * 2"
   ]
  },
  {
   "cell_type": "code",
   "execution_count": null,
   "metadata": {},
   "outputs": [],
   "source": [
    "from discretize import utils\n",
    "rxloc = np.array([13.25, 0., 30.+2.])\n",
    "srcloc = np.array([0., 0., 30.])\n",
    "xyz = np.vstack((rxloc, srcloc))\n",
    "x = np.linspace(-100., 100.)\n",
    "y = np.linspace(-20., 20.)\n",
    "dem = Utils.ndgrid(x,y,np.r_[0.])\n",
    "h = [10., 10., 5]\n",
    "mesh = utils.mesh_builder_xyz(\n",
    "    dem,\n",
    "    h,\n",
    "    padding_distance=[[2000., 2000.], [2000., 2000.], [2000., 2000.]],\n",
    "    base_mesh=None,\n",
    "    depth_core=None,\n",
    "    expansion_factor=1.3,\n",
    "    mesh_type='tree'\n",
    ")\n",
    "\n",
    "mesh = utils.refine_tree_xyz(\n",
    "    mesh,\n",
    "    dem,\n",
    "    method='surface',\n",
    "    octree_levels=[1, 0, 5],\n",
    "    octree_levels_padding=None,\n",
    "    finalize=False,\n",
    "    min_level=0,\n",
    "    max_distance=np.inf,    \n",
    ")\n",
    "\n",
    "# x = np.linspace(-300., 300.)\n",
    "# y = np.linspace(-300., 300.)\n",
    "# dem = Utils.ndgrid(x,y,np.r_[0.])\n",
    "\n",
    "# mesh = utils.refine_tree_xyz(\n",
    "#     mesh,\n",
    "#     dem,\n",
    "#     method='surface',\n",
    "#     octree_levels=[0, 0, 1],\n",
    "#     octree_levels_padding=None,\n",
    "#     finalize=False,\n",
    "#     min_level=0,\n",
    "#     max_distance=np.inf,    \n",
    "# )\n",
    "\n",
    "mesh = utils.refine_tree_xyz(\n",
    "    mesh,\n",
    "    xyz,\n",
    "    method='radial',\n",
    "    octree_levels=[2, 0, 0],\n",
    "    octree_levels_padding=None,\n",
    "    finalize=True,\n",
    "    min_level=0,\n",
    "    max_distance=np.inf,    \n",
    ")"
   ]
  },
  {
   "cell_type": "code",
   "execution_count": null,
   "metadata": {},
   "outputs": [],
   "source": [
    "mesh.nC"
   ]
  },
  {
   "cell_type": "code",
   "execution_count": null,
   "metadata": {},
   "outputs": [],
   "source": [
    "sigma = np.ones(mesh.nC) * 1e-8\n",
    "sigma[mesh.gridCC[:,2]<0.] = sigma_background\n",
    "inds = np.logical_and(mesh.gridCC[:,2]<-50, mesh.gridCC[:,2]>-100)\n",
    "sigma[inds] = sigma_target"
   ]
  },
  {
   "cell_type": "code",
   "execution_count": null,
   "metadata": {},
   "outputs": [],
   "source": [
    "mesh.plotSlice(sigma, grid=True, normal='Y')\n",
    "plt.plot(xyz[:,0], xyz[:,2], 'ro')\n",
    "plt.plot([-100, 100], [0, 0], 'r--')\n",
    "plt.xlim(-400, 400)\n",
    "plt.ylim(-400, 400)\n",
    "plt.gca().set_aspect(1)"
   ]
  },
  {
   "cell_type": "code",
   "execution_count": null,
   "metadata": {},
   "outputs": [],
   "source": [
    "fig, axs = plt.subplots(1,2, figsize = (10, 5))\n",
    "zc = 30.\n",
    "indz = int(np.argmin(abs(mesh.vectorCCz-zc)))\n",
    "mesh.plotSlice(np.ones(mesh.nC), grid=True, normal='Z', clim=(0, 1), ind=indz, ax=axs[0])\n",
    "zc = 0.\n",
    "indz = int(np.argmin(abs(mesh.vectorCCz-zc)))\n",
    "mesh.plotSlice(np.ones(mesh.nC), grid=True, normal='Z', clim=(0, 1), ind=indz, ax=axs[1])\n",
    "for ax in axs:\n",
    "    ax.plot(xyz[:,0], xyz[:,1], 'ro')\n",
    "    ax.set_xlim(-100, 100)\n",
    "    ax.set_ylim(-100, 100)\n",
    "    ax.set_aspect(1)\n"
   ]
  },
  {
   "cell_type": "code",
   "execution_count": null,
   "metadata": {},
   "outputs": [],
   "source": [
    "z_src = 30\n",
    "x_rx = 13.25\n",
    "z_offset = 2.\n",
    "rxloc = np.array([x_rx, 0., z_src+z_offset])\n",
    "srcloc = np.array([0., 0., z_src])\n",
    "rx = EM.TDEM.Rx.Point_dbdt(rxloc, np.logspace(np.log10(1e-6), np.log10(1e-2), 31), 'z')\n",
    "# src = EM.TDEM.Src.CircularLoop([rx], waveform=EM.TDEM.Src.StepOffWaveform(), loc=srcloc, radius=13.)\n",
    "src = EM.TDEM.Src.MagDipole([rx], waveform=EM.TDEM.Src.StepOffWaveform(), loc=srcloc)\n",
    "survey = EM.TDEM.Survey([src])\n",
    "prb = ProblemSkyTEM(mesh, sigma=sigma, verbose=False)\n",
    "dts = np.diff(np.logspace(-6, -1, 50))\n",
    "# timeSteps = []\n",
    "# for dt in dts:\n",
    "#     timeSteps.append((dt, 1))\n",
    "# prb.timeSteps = timeSteps\n",
    "prb.timeSteps = [(3e-7, 6),(1e-6, 5),(2e-6, 5),(5e-6, 5),(1e-5, 5),(2e-5, 5),(5e-5, 5),(1e-4, 5),(2e-4, 5),(5e-4, 5),(1e-3, 15)]\n",
    "prb.Solver = Pardiso\n",
    "prb.pair(survey)"
   ]
  },
  {
   "cell_type": "code",
   "execution_count": null,
   "metadata": {},
   "outputs": [],
   "source": [
    "# %%time\n",
    "data_hm, data_lm = prb.simulate(\n",
    "    [],\n",
    "    time_HM,\n",
    "    time_LM,\n",
    "    time_input_currents_HM, \n",
    "    input_currents_HM,\n",
    "    time_input_currents_LM, \n",
    "    input_currents_LM,    \n",
    ")"
   ]
  },
  {
   "cell_type": "code",
   "execution_count": null,
   "metadata": {},
   "outputs": [],
   "source": [
    "from simpegEM1D import EM1D, EM1DSurveyTD, Utils1D, get_vertical_discretization_time, set_mesh_1d, piecewise_pulse\n",
    "from SimPEG import Maps\n",
    "def simulation(src_type, n_pulse=1, use_lowpass_filter=True):\n",
    "    hz = np.r_[thickness.copy(), 1e3]\n",
    "    mesh1D = set_mesh_1d(hz)\n",
    "    depth = -mesh1D.gridN[:-1]\n",
    "\n",
    "    if src_type == \"CircularLoop\":\n",
    "        # Effective radius\n",
    "        radius = np.sqrt(source_area/np.pi)        \n",
    "        TDsurvey = EM1DSurveyTD(\n",
    "            rx_location = np.array([0., 0., 100.+30.]),\n",
    "            src_location = np.array([0., 0., 100.+30.]),\n",
    "            topo = np.r_[0., 0., 100.],\n",
    "            depth = depth,\n",
    "            rx_type = 'dBzdt',\n",
    "            wave_type = 'general',\n",
    "            src_type = 'CircularLoop',    \n",
    "            I = 1,    \n",
    "            a = radius,\n",
    "            time = time_HM,\n",
    "            time_input_currents=time_input_currents_HM,\n",
    "            input_currents=input_currents_HM,\n",
    "            n_pulse = n_pulse,\n",
    "            base_frequency = 30.,\n",
    "            use_lowpass_filter=use_lowpass_filter,\n",
    "            high_cut_frequency=210*1e3,\n",
    "            moment_type='dual',\n",
    "            time_dual_moment = time_LM,    \n",
    "            time_input_currents_dual_moment=time_input_currents_LM,\n",
    "            input_currents_dual_moment=input_currents_LM,\n",
    "            base_frequency_dual_moment=210,    \n",
    "        )\n",
    "    elif src_type == \"VMD\":\n",
    "        TDsurvey = EM1DSurveyTD(\n",
    "            rx_location = np.array([0., 0., 100.+30.+2.]),\n",
    "            src_location = np.array([0., 0., 100.+30.]),\n",
    "            topo = np.r_[0., 0., 100.],\n",
    "            depth = depth,\n",
    "            rx_type = 'dBzdt',\n",
    "            wave_type = 'general',\n",
    "            src_type = 'VMD',    \n",
    "            offset=np.array([13.25]),\n",
    "            I = 1.,\n",
    "            time = time_HM,\n",
    "            time_input_currents=time_input_currents_HM,\n",
    "            input_currents=input_currents_HM,\n",
    "            n_pulse = n_pulse,\n",
    "            base_frequency = 30.,\n",
    "            use_lowpass_filter=use_lowpass_filter,\n",
    "            high_cut_frequency=210*1e3,\n",
    "            moment_type='dual',\n",
    "            time_dual_moment = time_LM,    \n",
    "            time_input_currents_dual_moment=time_input_currents_LM,\n",
    "            input_currents_dual_moment=input_currents_LM,\n",
    "            base_frequency_dual_moment=210,    \n",
    "        )\n",
    "    chi_half = 0.\n",
    "    expmap = Maps.ExpMap(mesh1D)\n",
    "    print (resistivity)\n",
    "    prob = EM1D(mesh1D, sigmaMap=expmap, verbose=False)\n",
    "    m_true = np.log(1./resistivity)\n",
    "    if prob.ispaired:\n",
    "        prob.unpair()\n",
    "    if TDsurvey.ispaired:\n",
    "        TDsurvey.unpair()\n",
    "    prob.pair(TDsurvey)\n",
    "    prob.chi = np.zeros(TDsurvey.n_layer)\n",
    "    d_true = -TDsurvey.dpred(m_true)\n",
    "    return d_true"
   ]
  },
  {
   "cell_type": "code",
   "execution_count": null,
   "metadata": {},
   "outputs": [],
   "source": [
    "d_true = simulation('VMD', use_lowpass_filter=False, n_pulse=1)\n",
    "n_time = time_HM.size\n",
    "fig, axes = plt.subplots(1,1, figsize = (7,5))\n",
    "axes.plot(time_gates_hm[:,3], d_true[:n_time], 'k-')\n",
    "axes.plot(time_gates_hm[:,3], -data_hm.flatten(), 'k--')\n",
    "axes.set_xscale('log');\n",
    "axes.set_yscale('log');\n",
    "plt.legend((\"Aarhus1D-LM\", \"Aarhus1D-HM\", \"simpeg-LM\", \"simpeg-HM\"))\n",
    "axes.set_xlabel(\"Time (ms)\")\n",
    "axes.set_ylabel(\"Voltage (V/A)\")"
   ]
  },
  {
   "cell_type": "code",
   "execution_count": null,
   "metadata": {},
   "outputs": [],
   "source": []
  },
  {
   "cell_type": "code",
   "execution_count": null,
   "metadata": {},
   "outputs": [],
   "source": [
    "fig, axes = plt.subplots(1,1, figsize = (7,5))\n",
    "axes.plot(time_gates_lm[:,3], d_true[n_time:], 'b-')\n",
    "axes.plot(time_gates_lm[:,3], -data_lm.flatten(), 'b--')\n",
    "\n",
    "axes.set_xscale('log');\n",
    "axes.set_yscale('log');\n",
    "plt.legend((\"Aarhus1D-LM\", \"Aarhus1D-HM\", \"simpeg-LM\", \"simpeg-HM\"))\n",
    "axes.set_xlabel(\"Time (ms)\")\n",
    "axes.set_ylabel(\"Voltage (V/A)\")"
   ]
  }
 ],
 "metadata": {
  "kernelspec": {
   "display_name": "Python 3 (ipykernel)",
   "language": "python",
   "name": "python3"
  },
  "language_info": {
   "codemirror_mode": {
    "name": "ipython",
    "version": 3
   },
   "file_extension": ".py",
   "mimetype": "text/x-python",
   "name": "python",
   "nbconvert_exporter": "python",
   "pygments_lexer": "ipython3",
   "version": "3.10.9"
  }
 },
 "nbformat": 4,
 "nbformat_minor": 4
}
