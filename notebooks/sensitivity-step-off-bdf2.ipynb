{
 "cells": [
  {
   "cell_type": "code",
   "execution_count": 1,
   "metadata": {},
   "outputs": [],
   "source": [
    "from discretize import TensorMesh, CylMesh\n",
    "from scipy.constants import mu_0\n",
    "import numpy as np\n",
    "import matplotlib.pyplot as plt\n",
    "from simpegaem import SimulationAEM\n",
    "%matplotlib inline"
   ]
  },
  {
   "cell_type": "code",
   "execution_count": 2,
   "metadata": {},
   "outputs": [
    {
     "name": "stderr",
     "output_type": "stream",
     "text": [
      "/Users/sgkang09/anaconda3/lib/python3.10/site-packages/discretize/utils/code_utils.py:148: FutureWarning: CylMesh has been deprecated, please use CylindricalMesh. It will be removed in version 1.0.0 of discretize.\n",
      "  warnings.warn(message, warn)\n"
     ]
    }
   ],
   "source": [
    "# cell size, number of cells in the x-direction, \n",
    "# number of cells in the z-direction and number of padding cells\n",
    "mesh_type = '2d_cyl'\n",
    "\n",
    "if mesh_type== '2d_cyl':\n",
    "    ncx = 10\n",
    "    csx = 10.\n",
    "    npadx = 20.\n",
    "    ncz = 10.\n",
    "    csz = 5.\n",
    "    npadz = 18.\n",
    "    hx = [(csx, ncx), (csx, npadx, 1.3)]\n",
    "    hz = [(csz, npadz, -1.3), (csz, ncx), (csz, npadz, 1.3)]    \n",
    "    mesh = CylMesh([hx, 1, hz], x0='00C')\n",
    "elif mesh_type == '3d_tensor':\n",
    "    cs, ncx, npad = 10., 9, 8    \n",
    "    ncy = 1\n",
    "    ncz = 6\n",
    "    hx = [(cs, npad, -1.3), (cs, ncx), (cs, npad, 1.3)]\n",
    "    hy = [(cs, npad, -1.3), (cs, ncy), (cs, npad, 1.3)]    \n",
    "    hz = [(cs, npad, -1.3), (cs, ncz), (cs, npad, 1.3)]\n",
    "    mesh = TensorMesh([hx, hy, hz], 'CCC')\n",
    "active = mesh.cell_centers[:,2] < 0.\n",
    "sigma_background = 1./100\n",
    "sigma_layer = 1./100\n",
    "sigma = np.ones(mesh.n_cells)*1e-8\n",
    "sigma[active] = sigma_background\n",
    "ind_layer = np.logical_and(mesh.cell_centers[:,2]<-100., mesh.cell_centers[:,2]>-200.)\n",
    "sigma[ind_layer] = sigma_layer\n",
    "rho = 1./sigma"
   ]
  },
  {
   "cell_type": "code",
   "execution_count": 3,
   "metadata": {},
   "outputs": [],
   "source": [
    "from matplotlib.colors import LogNorm"
   ]
  },
  {
   "cell_type": "code",
   "execution_count": 4,
   "metadata": {},
   "outputs": [
    {
     "data": {
      "text/plain": [
       "<matplotlib.colorbar.Colorbar at 0x7fc11804ef50>"
      ]
     },
     "execution_count": 4,
     "metadata": {},
     "output_type": "execute_result"
    },
    {
     "data": {
      "image/png": "[encoded data removed]",
      "text/plain": [
       "<Figure size 640x480 with 2 Axes>"
      ]
     },
     "metadata": {},
     "output_type": "display_data"
    }
   ],
   "source": [
    "out = mesh.plot_image(sigma, pcolor_opts={'norm':LogNorm()})\n",
    "plt.colorbar(out[0])"
   ]
  },
  {
   "cell_type": "code",
   "execution_count": 5,
   "metadata": {},
   "outputs": [],
   "source": [
    "from SimPEG import utils\n",
    "import SimPEG.electromagnetics.time_domain as tdem\n",
    "from SimPEG import maps\n",
    "from pymatsolver import PardisoSolver\n",
    "# from pymatsolver import Solver"
   ]
  },
  {
   "cell_type": "code",
   "execution_count": 6,
   "metadata": {},
   "outputs": [],
   "source": [
    "receiver_orientation = \"z\"                    # \"x\", \"y\" or \"z\"\n",
    "z_src = 30\n",
    "x_rx = 10.\n",
    "z_offset = 0.\n",
    "receiver_location = np.array([x_rx, 0., z_src+z_offset])\n",
    "source_location = np.array([0., 0., z_src])\n",
    "times = np.logspace(np.log10(1e-6), np.log10(1e-2), 31)\n",
    "rx = tdem.receivers.PointMagneticFluxTimeDerivative(\n",
    "    receiver_location, times, orientation=receiver_orientation\n",
    ")\n",
    "receiver_list = [rx]\n",
    "src = tdem.sources.MagDipole(\n",
    "    receiver_list=receiver_list, location=source_location,\n",
    "    waveform=tdem.sources.StepOffWaveform(), orientation='z'\n",
    ")\n",
    "\n",
    "# Survey\n",
    "source_list = [src]\n",
    "survey = tdem.Survey(source_list)\n",
    "dts = np.diff(np.logspace(-7, -1, 60))\n",
    "time_steps = []\n",
    "for dt in dts:\n",
    "    time_steps.append((dt, 1))\n",
    "\n",
    "simulation_3d = SimulationAEM(\n",
    "    mesh=mesh,\n",
    "    survey=survey,\n",
    "    sigmaMap=maps.IdentityMap(mesh),\n",
    "    solver=PardisoSolver,\n",
    "    time_steps=time_steps\n",
    ")    \n",
    "simulation_3d_test = tdem.Simulation3DMagneticFluxDensity(\n",
    "    mesh=mesh,\n",
    "    survey=survey,\n",
    "    sigmaMap=maps.IdentityMap(mesh),\n",
    "    solver=PardisoSolver,\n",
    "    time_steps=time_steps    \n",
    ")"
   ]
  },
  {
   "cell_type": "code",
   "execution_count": 7,
   "metadata": {},
   "outputs": [
    {
     "name": "stderr",
     "output_type": "stream",
     "text": [
      "/Users/sgkang09/anaconda3/lib/python3.10/site-packages/discretize/utils/code_utils.py:216: FutureWarning: CylMesh.edgeCurl has been deprecated, please use CylMesh.edge_curl. It will be removed in version 1.0.0 of discretize.\n",
      "  warnings.warn(message, warn)\n",
      "/Users/sgkang09/anaconda3/lib/python3.10/site-packages/discretize/utils/code_utils.py:264: FutureWarning: CylMesh.getInterpolationMat has been deprecated, please use CylMesh.get_interpolation_matrix. It will be removed in version 1.0.0 of discretize.\n",
      "  warnings.warn(\n",
      "/Users/sgkang09/anaconda3/lib/python3.10/site-packages/discretize/cylindrical_mesh.py:1679: FutureWarning: The locType keyword argument has been deprecated, please use location_type. This will be removed in discretize 1.0.0\n",
      "  warnings.warn(\n",
      "/Users/sgkang09/anaconda3/lib/python3.10/site-packages/pymatsolver/direct.py:23: PardisoTypeConversionWarning: Converting csc_matrix matrix to CSR format, will slow down.\n",
      "  self.solver = MKLPardisoSolver(\n",
      "/Users/sgkang09/anaconda3/lib/python3.10/site-packages/pymatsolver/direct.py:73: PardisoTypeConversionWarning: Converting csc_matrix matrix to CSR format, will slow down.\n",
      "  self.solver.refactor(self.A)\n"
     ]
    },
    {
     "name": "stdout",
     "output_type": "stream",
     "text": [
      "CPU times: user 3.71 s, sys: 1.26 s, total: 4.97 s\n",
      "Wall time: 1.63 s\n"
     ]
    }
   ],
   "source": [
    "%%time\n",
    "data = simulation_3d.dpred(sigma)"
   ]
  },
  {
   "cell_type": "markdown",
   "metadata": {
    "user_expressions": []
   },
   "source": [
    "- sigma_local = Mapping(global_model)\n",
    "- global_model: (Mx1); M > 1e6\n",
    "- sigma_local; (M_local x 1); ~4e3\n",
    "\n",
    "P_mappping @ global_model = sigma_local\n",
    "\n",
    "[M_localxM; sparse matrix]\n",
    "\n",
    "J_local (n_local x M_local)\n",
    "\n",
    "\n",
    "J_local @ P_mapping = J\n",
    "\n",
    "(J_local @ P_mapping) @ vec\n",
    "\n",
    "(J_local @ P_mapping)^T @ vec"
   ]
  },
  {
   "cell_type": "code",
   "execution_count": 8,
   "metadata": {},
   "outputs": [
    {
     "data": {
      "text/plain": [
       "array([-1.45108456e-07, -1.05172237e-07, -7.44227958e-08, -5.13277922e-08,\n",
       "       -3.44554901e-08, -2.24932385e-08, -1.42755650e-08, -8.80996461e-09,\n",
       "       -5.29053697e-09, -3.09497139e-09, -1.76633327e-09, -9.85087740e-10,\n",
       "       -5.37835799e-10, -2.88010369e-10, -1.51550454e-10, -7.85016885e-11,\n",
       "       -4.00973426e-11, -2.02282050e-11, -1.00934771e-11, -4.98821092e-12,\n",
       "       -2.44448144e-12, -1.18914537e-12, -5.74785469e-13, -2.76280632e-13,\n",
       "       -1.32161906e-13, -6.29601568e-14, -2.98825471e-14, -1.41402940e-14,\n",
       "       -6.67398698e-15, -3.14087231e-15, -1.47632394e-15])"
      ]
     },
     "execution_count": 8,
     "metadata": {},
     "output_type": "execute_result"
    }
   ],
   "source": [
    "# Define the simulation\n",
    "simulation = tdem.Simulation1DLayered(\n",
    "    survey=survey,\n",
    "    sigmaMap=maps.IdentityMap(nP=1),\n",
    ")\n",
    "\n",
    "# Predict data for a given model\n",
    "sigma_1d =  np.ones(1) * sigma_background\n",
    "data_analytic = simulation.dpred(sigma_1d)\n",
    "data_analytic"
   ]
  },
  {
   "cell_type": "code",
   "execution_count": 9,
   "metadata": {},
   "outputs": [],
   "source": [
    "b0 = src.bInitial(simulation_3d)"
   ]
  },
  {
   "cell_type": "code",
   "execution_count": 10,
   "metadata": {},
   "outputs": [],
   "source": [
    "from scipy.interpolate import interp1d"
   ]
  },
  {
   "cell_type": "code",
   "execution_count": 11,
   "metadata": {},
   "outputs": [],
   "source": [
    "def bdf2(sigma):\n",
    "    simulation_3d.model = sigma\n",
    "    # Operators\n",
    "    C = mesh.edgeCurl\n",
    "    MfMui = simulation_3d.MfMui\n",
    "    MeSigma = simulation_3d.MeSigma\n",
    "    n_steps = simulation_3d.time_steps.size\n",
    "    Fz = mesh.getInterpolationMat(rx.locations, locType='Fz')\n",
    "    eps = 1e-10\n",
    "    def getA(dt, factor=1.):\n",
    "        return C.T*MfMui*C + factor/dt * MeSigma\n",
    "    dt_0 = 0.\n",
    "    sol = np.zeros((mesh.n_edges, simulation_3d.time_steps.size), order='F', dtype=float)\n",
    "    data_test = np.zeros(simulation_3d.time_steps.size)\n",
    "    # sol_n0 = np.zeros(mesh.nE)\n",
    "    # sol_n1 = np.zeros(mesh.nE)\n",
    "    # sol_n2 = np.zeros(mesh.nE)\n",
    "    for tInd in range(n_steps):\n",
    "        dt = simulation_3d.time_steps[tInd]\n",
    "        #Factor for BDF2\n",
    "        factor=3/2.            \n",
    "        if abs(dt_0-dt) > eps:\n",
    "            # print (tInd, factor)\n",
    "            A = getA(dt, factor=factor)            \n",
    "            Ainv = simulation_3d.solver(A)\n",
    "        if tInd==0:        \n",
    "            b0 = src.bInitial(simulation_3d)\n",
    "            s_e = C.T*MfMui*b0\n",
    "            rhs = factor/dt*s_e\n",
    "        elif tInd==1:\n",
    "            # rhs = -factor/dt*(MeSigma*(-4/3.*sol[:,tInd-1]+1/3.*sol[:,tInd-2]) + 1./3.*s_e)\n",
    "            rhs = -factor/dt*(MeSigma*(-sol[:,tInd-1]))\n",
    "        else:\n",
    "            rhs = -factor/dt*(MeSigma*(-4/3.*sol[:,tInd-1]+1/3.*sol[:,tInd-2]))\n",
    "        sol[:,tInd] = Ainv*rhs\n",
    "        data_test[tInd] = Fz*(-C*sol[:,tInd])\n",
    "        dt_0 = dt\n",
    "    data_test = (Fz@(-C@sol)).flatten()\n",
    "    log10_time = np.log10(simulation_3d.time_mesh.cell_centers)\n",
    "    ht = np.diff(log10_time)\n",
    "    log10_time_mesh = TensorMesh([ht], x0=[log10_time[0]])\n",
    "    Pt = log10_time_mesh.get_interpolation_matrix(np.log10(rx.times), location_type='N')        \n",
    "    # step_func = interp1d(\n",
    "    #     np.log10(simulation_3d.time_mesh.gridCC[:]), data_test\n",
    "    # )\n",
    "    # return step_func(np.log10(rx.times))\n",
    "    data_bdf2 = Pt @ data_test\n",
    "    return sol, data_bdf2"
   ]
  },
  {
   "cell_type": "code",
   "execution_count": 12,
   "metadata": {},
   "outputs": [],
   "source": [
    "_, data_bdf2 = bdf2(sigma)"
   ]
  },
  {
   "cell_type": "code",
   "execution_count": 13,
   "metadata": {},
   "outputs": [],
   "source": [
    "nD = rx.nD"
   ]
  },
  {
   "cell_type": "code",
   "execution_count": 14,
   "metadata": {},
   "outputs": [],
   "source": [
    "# for src in source_list:\n",
    "#     rx_list = src.receiver_list:\n",
    "#     for rx in rx_list:\n",
    "#         nD += rx.nD"
   ]
  },
  {
   "cell_type": "code",
   "execution_count": 15,
   "metadata": {},
   "outputs": [
    {
     "data": {
      "text/plain": [
       "<matplotlib.legend.Legend at 0x7fc14acd44f0>"
      ]
     },
     "execution_count": 15,
     "metadata": {},
     "output_type": "execute_result"
    },
    {
     "data": {
      "image/png": "[encoded data removed]",
      "text/plain": [
       "<Figure size 1000x1000 with 1 Axes>"
      ]
     },
     "metadata": {},
     "output_type": "display_data"
    }
   ],
   "source": [
    "plt.figure(figsize = (10, 10))\n",
    "plt.loglog(rx.times, -data_analytic, 'k')\n",
    "plt.loglog(rx.times, -data, 'r')\n",
    "plt.loglog(rx.times, -data_bdf2, 'g--')\n",
    "plt.legend((\"Analytic\", \"SimPEG\", \"BDF2\"))\n",
    "# plt.legend((\"Analytic\", \"BDF1\", \"BDF2\"))"
   ]
  },
  {
   "cell_type": "code",
   "execution_count": 28,
   "metadata": {},
   "outputs": [],
   "source": [
    "C = mesh.edge_curl\n",
    "log10_time = np.log10(simulation_3d.time_mesh.cell_centers)\n",
    "ht = np.diff(log10_time)\n",
    "log10_time_mesh = TensorMesh([ht], x0=[log10_time[0]])\n",
    "Fz = mesh.get_interpolation_matrix(rx.locations, locType='Fz')\n",
    "PtT = log10_time_mesh.get_interpolation_matrix(np.log10(rx.times), location_type='N').T.toarray()\n",
    "# PtT = simulation_3d.time_mesh.get_interpolation_matrix(rx.times, location_type='CC').T.toarray()\n",
    "PsT = -(Fz@C).T.toarray()"
   ]
  },
  {
   "cell_type": "code",
   "execution_count": 29,
   "metadata": {},
   "outputs": [],
   "source": [
    "# n_time_steps x n_time_channels"
   ]
  },
  {
   "cell_type": "code",
   "execution_count": 30,
   "metadata": {},
   "outputs": [],
   "source": [
    "from SimPEG import maps\n",
    "active_map = maps.InjectActiveCells(mesh, indActive=active, valInactive=np.log(1e-8))\n",
    "exp_map = maps.ExpMap(mesh)\n",
    "mapping = exp_map * active_map"
   ]
  },
  {
   "cell_type": "code",
   "execution_count": 31,
   "metadata": {},
   "outputs": [],
   "source": [
    "m = np.ones(active.sum()) * np.log(1./20.)\n",
    "sigma = mapping * m"
   ]
  },
  {
   "cell_type": "code",
   "execution_count": 54,
   "metadata": {},
   "outputs": [],
   "source": [
    "# %%time\n",
    "# Let's rewrite derivation, and check. \n",
    "def getAdiag(self, tInd):\n",
    "    \"\"\"\n",
    "    Diagonal of the system matrix at a given time index\n",
    "    \"\"\"\n",
    "    assert tInd >= 0 and tInd < self.nT\n",
    "\n",
    "    dt = self.time_steps[tInd]\n",
    "    C = self.mesh.edge_curl\n",
    "    MfMui = self.MfMui\n",
    "    MeSigma = self.MeSigma\n",
    "    return C.T.tocsr() * (MfMui * C) + 1.0 / dt * MeSigma\n",
    "\n",
    "def getAdiagDeriv(self, tInd, u, v, adjoint=False):\n",
    "    \"\"\"\n",
    "    Deriv of ADiag with respect to electrical conductivity\n",
    "    \"\"\"\n",
    "    assert tInd >= 0 and tInd < self.nT\n",
    "\n",
    "    dt = self.time_steps[tInd]\n",
    "    # MeSigmaDeriv = self.MeSigmaDeriv(u)\n",
    "\n",
    "    if adjoint:\n",
    "        return 1.0 / dt * self.MeSigmaDeriv(u, v, adjoint)\n",
    "\n",
    "    return 1.0 / dt * self.MeSigmaDeriv(u, v, adjoint)\n",
    "\n",
    "def getAsubdiag(self, tInd):\n",
    "    \"\"\"\n",
    "    Matrix below the diagonal\n",
    "    \"\"\"\n",
    "    assert tInd >= 0 and tInd < self.nT\n",
    "\n",
    "    dt = self.time_steps[tInd]\n",
    "\n",
    "    return -1.0 / dt * self.MeSigma\n",
    "\n",
    "def getAsubdiagDeriv(self, tInd, u, v, adjoint=False):\n",
    "    \"\"\"\n",
    "    Derivative of the matrix below the diagonal with respect to electrical\n",
    "    conductivity\n",
    "    \"\"\"\n",
    "    dt = self.time_steps[tInd]\n",
    "\n",
    "    if adjoint:\n",
    "        return -1.0 / dt * self.MeSigmaDeriv(u, v, adjoint)\n",
    "\n",
    "    return -1.0 / dt * self.MeSigmaDeriv(u, v, adjoint)\n",
    "\n",
    "def get_J_sigma_bdf1(sigma):\n",
    "    simulation_3d.model = sigma\n",
    "    C = mesh.edgeCurl\n",
    "    n_steps = simulation_3d.time_steps.size\n",
    "    eps = 1e-10\n",
    "    nE = mesh.n_edges\n",
    "    nD = rx.nD\n",
    "    nT = len(simulation_3d.time_steps)\n",
    "    nM = mesh.n_cells\n",
    "    dt_0 = 0.\n",
    "    nC = mesh.n_cells\n",
    "    yn = np.zeros((nE, nD), dtype=float, order='F')\n",
    "    yn_1 = np.zeros((nE, nD), dtype=float, order='F')\n",
    "    J_matrixT = np.zeros((nM, nD), dtype=float, order='F')    \n",
    "    sol, _ = bdf1(sigma)    \n",
    "    for tInd in reversed(range(n_steps)):\n",
    "        dt = simulation_3d.time_steps[tInd]\n",
    "        A = getAdiag(simulation_3d, tInd)\n",
    "        \n",
    "        pn = (PsT * PtT[tInd, :])\n",
    "        if abs(dt_0-dt) > eps:\n",
    "            # print (tInd)\n",
    "            Ainv = simulation_3d.solver(A)\n",
    "        if tInd==n_steps-1:\n",
    "            yn = Ainv * pn\n",
    "        else:\n",
    "            B = getAsubdiag(simulation_3d, tInd+1)\n",
    "            yn = Ainv * (pn-B@yn_1)   \n",
    "        dAT_dm = getAdiagDeriv(simulation_3d, tInd, sol[:,tInd], v=None, adjoint=True) @ yn\n",
    "        dAsubdiagT_dm = getAsubdiagDeriv(simulation_3d, tInd, sol[:,tInd-1], v=None, adjoint=True) @ yn\n",
    "        J_matrixT = J_matrixT + -dAT_dm - dAsubdiagT_dm\n",
    "        yn_1 = yn\n",
    "        dt_0 = dt\n",
    "    return J_matrixT.T"
   ]
  },
  {
   "cell_type": "code",
   "execution_count": 55,
   "metadata": {},
   "outputs": [],
   "source": [
    "# def getAdiag(self, tInd):\n",
    "#     \"\"\"\n",
    "#     Diagonal of the system matrix at a given time index\n",
    "#     \"\"\"\n",
    "#     assert tInd >= 0 and tInd < self.nT\n",
    "\n",
    "#     dt = self.time_steps[tInd]\n",
    "#     C = self.mesh.edge_curl\n",
    "#     MfMui = self.MfMui\n",
    "#     MeSigma = self.MeSigma\n",
    "#     return C.T.tocsr() * (MfMui * C) + (3./2.) / dt * MeSigma\n",
    "\n",
    "# def getAdiagDeriv(self, tInd, u, v, adjoint=False):\n",
    "#     \"\"\"\n",
    "#     Deriv of ADiag with respect to electrical conductivity\n",
    "#     \"\"\"\n",
    "#     assert tInd >= 0 and tInd < self.nT\n",
    "\n",
    "#     dt = self.time_steps[tInd]\n",
    "#     # MeSigmaDeriv = self.MeSigmaDeriv(u)\n",
    "\n",
    "#     if adjoint:\n",
    "#         return (3./2.) / dt * self.MeSigmaDeriv(u, v, adjoint)\n",
    "\n",
    "#     return (3./2.) / dt * self.MeSigmaDeriv(u, v, adjoint)\n",
    "\n",
    "# def getAsubdiag(self, tInd):\n",
    "#     \"\"\"\n",
    "#     Matrix below the diagonal\n",
    "#     \"\"\"\n",
    "#     assert tInd >= 0 and tInd < self.nT\n",
    "\n",
    "#     dt = self.time_steps[tInd]\n",
    "\n",
    "#     return -(4./3.) / dt * self.MeSigma\n",
    "\n",
    "# def getAsubdiagDeriv(self, tInd, u, v, adjoint=False):\n",
    "#     \"\"\"\n",
    "#     Derivative of the matrix below the diagonal with respect to electrical\n",
    "#     conductivity\n",
    "#     \"\"\"\n",
    "#     dt = self.time_steps[tInd]\n",
    "\n",
    "#     if adjoint:\n",
    "#         return -(4./3.) / dt * self.MeSigmaDeriv(u, v, adjoint)\n",
    "\n",
    "#     return -(4./3.) / dt * self.MeSigmaDeriv(u, v, adjoint)\n",
    "\n",
    "# def getAsubsubdiag(self, tInd):\n",
    "#     \"\"\"\n",
    "#     Matrix below the subdiagonal\n",
    "#     \"\"\"\n",
    "#     assert tInd >= 0 and tInd < self.nT\n",
    "\n",
    "#     dt = self.time_steps[tInd]\n",
    "\n",
    "#     return -(1./3.) / dt * self.MeSigma\n",
    "\n",
    "# def getAsubsubdiagDeriv(self, tInd, u, v, adjoint=False):\n",
    "#     \"\"\"\n",
    "#     Derivative of the matrix below the subdiagonal with respect to electrical\n",
    "#     conductivity\n",
    "#     \"\"\"\n",
    "#     dt = self.time_steps[tInd]\n",
    "\n",
    "#     if adjoint:\n",
    "#         return -(1./3.) / dt * self.MeSigmaDeriv(u, v, adjoint)\n",
    "\n",
    "#     return -(1./3.) / dt * self.MeSigmaDeriv(u, v, adjoint)\n",
    "\n",
    "# # %%time\n",
    "# # Let's rewrite derivation, and check. \n",
    "# def get_J_sigma_bdf2(sigma):\n",
    "#     simulation_3d.model = sigma\n",
    "#     C = mesh.edgeCurl\n",
    "#     n_steps = simulation_3d.time_steps.size\n",
    "#     eps = 1e-10\n",
    "#     nE = mesh.n_edges\n",
    "#     nD = rx.nD\n",
    "#     nT = len(simulation_3d.time_steps)\n",
    "#     nM = mesh.n_cells\n",
    "#     dt_0 = 0.\n",
    "#     nC = mesh.n_cells\n",
    "#     yn = np.zeros((nE, nD), dtype=float, order='F')\n",
    "#     yn_1 = np.zeros((nE, nD), dtype=float, order='F')\n",
    "#     J_matrixT = np.zeros((nM, nD), dtype=float, order='F')    \n",
    "#     sol, _ = bdf2(sigma)    \n",
    "#     for tInd in reversed(range(n_steps)):\n",
    "#         dt = simulation_3d.time_steps[tInd]\n",
    "#         A = getAdiag(simulation_3d, tInd)\n",
    "        \n",
    "#         pn = (PsT * PtT[tInd, :])\n",
    "#         if abs(dt_0-dt) > eps:\n",
    "#             # print (tInd)\n",
    "#             Ainv = simulation_3d.solver(A)\n",
    "#         if tInd==n_steps-1:\n",
    "#             yn = Ainv * pn\n",
    "#         else:\n",
    "#             B = getAsubdiag(simulation_3d, tInd+1)\n",
    "#             yn = Ainv * (pn-B@yn_1)   \n",
    "#         dAT_dm = getAdiagDeriv(simulation_3d, tInd, sol[:,tInd], v=None, adjoint=True) @ yn\n",
    "#         dAsubdiagT_dm = getAsubdiagDeriv(simulation_3d, tInd, sol[:,tInd-1], v=None, adjoint=True) @ yn\n",
    "#         J_matrixT = J_matrixT + -dAT_dm - dAsubdiagT_dm\n",
    "#         yn_1 = yn\n",
    "#         dt_0 = dt\n",
    "#     return J_matrixT.T"
   ]
  },
  {
   "cell_type": "markdown",
   "metadata": {},
   "source": [
    "g1^T @ yn\n",
    "[MxnE][nExnD]"
   ]
  },
  {
   "cell_type": "markdown",
   "metadata": {},
   "source": [
    "J^T = G^T y = [g1^T, g2^T, g3^T] @  [y1, y2, y3]\n",
    " = g1^T @ y1 + g2^T @ y2 + ... + gn^T @ yn"
   ]
  },
  {
   "cell_type": "code",
   "execution_count": 46,
   "metadata": {},
   "outputs": [
    {
     "name": "stdout",
     "output_type": "stream",
     "text": [
      "CPU times: user 4.74 s, sys: 1.51 s, total: 6.25 s\n",
      "Wall time: 611 ms\n"
     ]
    }
   ],
   "source": [
    "%%time\n",
    "J_sigma = get_J_sigma_bdf1(sigma)"
   ]
  },
  {
   "cell_type": "code",
   "execution_count": 47,
   "metadata": {},
   "outputs": [],
   "source": [
    "v = np.random.randn(rx.nD)"
   ]
  },
  {
   "cell_type": "code",
   "execution_count": 48,
   "metadata": {},
   "outputs": [],
   "source": [
    "Jtv = simulation_3d_test.Jtvec(sigma, v)"
   ]
  },
  {
   "cell_type": "code",
   "execution_count": 49,
   "metadata": {},
   "outputs": [
    {
     "data": {
      "text/plain": [
       "[<matplotlib.lines.Line2D at 0x7fa899273070>]"
      ]
     },
     "execution_count": 49,
     "metadata": {},
     "output_type": "execute_result"
    },
    {
     "data": {
      "image/png": "[encoded data removed]",
      "text/plain": [
       "<Figure size 640x480 with 1 Axes>"
      ]
     },
     "metadata": {},
     "output_type": "display_data"
    }
   ],
   "source": [
    "plt.plot(J_sigma.T @ v)\n",
    "plt.plot(Jtv, '.', ms=5)"
   ]
  },
  {
   "cell_type": "code",
   "execution_count": 50,
   "metadata": {},
   "outputs": [],
   "source": [
    "def dpred(m):\n",
    "    sigma = mapping * m    \n",
    "    _, dpred = bdf1(sigma)\n",
    "    return dpred\n",
    "\n",
    "def dpred_dm(m, obs):\n",
    "    sigma = mapping * m\n",
    "    uncert = abs(obs) * 0.03\n",
    "    return utils.sdiag(1./uncert) @ get_J_sigma_bdf1(sigma) * mapping.deriv(m)\n",
    "\n",
    "def data_misfit(m, obs):\n",
    "    pred = dpred(m)\n",
    "    uncert = abs(obs) * 0.03\n",
    "    r = (pred-obs) / uncert\n",
    "    return np.linalg.norm(r)**2\n",
    "\n",
    "def data_misfit_dm(m, obs):\n",
    "    pred = dpred(m)\n",
    "    uncert = abs(obs) * 0.03\n",
    "    r = (pred-obs) / uncert\n",
    "    J = dpred_dm(m, obs)\n",
    "    return 2*J.T@r"
   ]
  },
  {
   "cell_type": "code",
   "execution_count": 51,
   "metadata": {},
   "outputs": [],
   "source": [
    "m_true = np.ones(active.sum()) * np.log(1./20.)\n",
    "m_0 = m_true * 2"
   ]
  },
  {
   "cell_type": "code",
   "execution_count": 52,
   "metadata": {},
   "outputs": [
    {
     "name": "stdout",
     "output_type": "stream",
     "text": [
      ">> 1.0e-01, 2.0e+07, 1.3e+06, nan\n",
      ">> 1.0e-02, 3.1e+05, 1.7e+02, 2.1\n",
      ">> 1.0e-03, 3.2e+03, 1.8e-02, 2.0\n",
      ">> 1.0e-04, 3.2e+01, 2.7e-06, 1.8\n"
     ]
    }
   ],
   "source": [
    "# Order test for BDF1 \n",
    "factors = [0.1, 0.01, 0.001, 0.0001]\n",
    "m_true = np.ones(active.sum()) * np.log(1./20.)\n",
    "m_0 = m_true * 2\n",
    "\n",
    "obs = dpred(m_true)\n",
    "dm0 = m_0*2\n",
    "\n",
    "order_1 = np.zeros(len(factors))\n",
    "order_2 = np.zeros(len(factors))\n",
    "\n",
    "for ii, factor in enumerate(factors):\n",
    "    dm = dm0 * factor\n",
    "    order_1[ii] = np.linalg.norm(\n",
    "        data_misfit(m_0+dm, obs)-data_misfit(m_0, obs)\n",
    "    )**2\n",
    "    order_2[ii] = np.linalg.norm(\n",
    "        data_misfit(m_0+dm, obs)-data_misfit(m_0, obs)-data_misfit_dm(m_0, obs).dot(dm.T)\n",
    "    )**2\n",
    "#     print (\">> {:.1e}, {:.1e}, {:.1e}\".format(factor, order_1[ii], order_2[ii]))\n",
    "    if ii > 0:\n",
    "        ratio_1 = order_1[ii]/order_1[ii-1]\n",
    "        ratio_2 = order_2[ii]/order_2[ii-1]\n",
    "        \n",
    "        print (\">> {:.1e}, {:.1e}, {:.1e}, {:.1f}\".format(factor, order_1[ii], order_2[ii], np.log10(ratio_1/ratio_2)))\n",
    "    else:\n",
    "        print (\">> {:.1e}, {:.1e}, {:.1e}, {:.1f}\".format(factor, order_1[ii], order_2[ii], np.nan))"
   ]
  },
  {
   "cell_type": "markdown",
   "metadata": {},
   "source": [
    "## Notes: \n",
    "\n",
    "- Using a combination of bdf2 - fwd and bdf1 - sensitivity does not provide the second order. \n",
    "- It seems the curruent SimPEG TDEM code has some errors. \n",
    "\n",
    "## TODOS: \n",
    "- Rederive equations for sensitivity-bdf1\n",
    "- Derive equations for sensitivity-bdf2\n",
    "- Implement sensitivity for bdf2\n",
    "- Extension for a general waveform\n",
    "- Extension for handling multiple sources\n",
    "- Put together as a simiulation class\n",
    "- Implementing a global simulation for inversion "
   ]
  },
  {
   "cell_type": "code",
   "execution_count": 59,
   "metadata": {},
   "outputs": [],
   "source": [
    "# def dpred(m):\n",
    "#     return m**2 \n",
    "\n",
    "# def dpred_dm(m):\n",
    "#     return np.diag(2*m)\n",
    "\n",
    "# def data_misfit(m, obs):\n",
    "#     pred = dpred(m)\n",
    "#     r = pred-obs \n",
    "#     return np.linalg.norm(r)**2\n",
    "\n",
    "# def data_misfit_dm(m, obs):\n",
    "#     pred = dpred(m)\n",
    "#     r = pred-obs\n",
    "#     J = dpred_dm(m)\n",
    "#     return 2*J.T@r"
   ]
  },
  {
   "cell_type": "code",
   "execution_count": 60,
   "metadata": {},
   "outputs": [],
   "source": [
    "# plt.plot(J_matrix.flatten())\n",
    "# plt.plot(-JT.flatten())"
   ]
  }
 ],
 "metadata": {
  "kernelspec": {
   "display_name": "Python 3 (ipykernel)",
   "language": "python",
   "name": "python3"
  },
  "language_info": {
   "codemirror_mode": {
    "name": "ipython",
    "version": 3
   },
   "file_extension": ".py",
   "mimetype": "text/x-python",
   "name": "python",
   "nbconvert_exporter": "python",
   "pygments_lexer": "ipython3",
   "version": "3.10.9"
  }
 },
 "nbformat": 4,
 "nbformat_minor": 4
}
