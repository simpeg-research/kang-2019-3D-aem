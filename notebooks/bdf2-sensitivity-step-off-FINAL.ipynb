{
 "cells": [
  {
   "cell_type": "code",
   "execution_count": 1,
   "metadata": {
    "iooxa": {
     "id": {
      "block": "0flmBDPd42Qpu8S09C8o",
      "project": "jUfOExvamwk5Li9VLPqd",
      "version": 1
     },
     "outputId": null
    }
   },
   "outputs": [],
   "source": [
    "# import os\n",
    "# os.getcwd()\n",
    "# import sys\n",
    "# sys.path.append('C:\\\\Users\\\\kim\\\\Python\\\\kang-3DAEM\\\\conda_3Daem\\\\kang-2019-3D-aem\\\\codes')"
   ]
  },
  {
   "cell_type": "code",
   "execution_count": 2,
   "metadata": {
    "iooxa": {
     "id": {
      "block": "NeaxlqvNbIRaafwG7a3Z",
      "project": "jUfOExvamwk5Li9VLPqd",
      "version": 1
     },
     "outputId": null
    }
   },
   "outputs": [],
   "source": [
    "from discretize import TensorMesh, CylMesh\n",
    "from scipy.constants import mu_0\n",
    "import numpy as np\n",
    "import matplotlib.pyplot as plt\n",
    "from simpegaem import SimulationAEM\n",
    "%matplotlib inline"
   ]
  },
  {
   "cell_type": "code",
   "execution_count": 3,
   "metadata": {
    "iooxa": {
     "id": {
      "block": "Li1E4rwiWh8sPk4cao5C",
      "project": "jUfOExvamwk5Li9VLPqd",
      "version": 1
     },
     "outputId": {
      "block": "l6Qo9NqXjKBOr1TZdi8D",
      "project": "jUfOExvamwk5Li9VLPqd",
      "version": 1
     }
    }
   },
   "outputs": [
    {
     "name": "stderr",
     "output_type": "stream",
     "text": [
      "/Users/sgkang09/anaconda3/lib/python3.10/site-packages/discretize/utils/code_utils.py:148: FutureWarning: CylMesh has been deprecated, please use CylindricalMesh. It will be removed in version 1.0.0 of discretize.\n",
      "  warnings.warn(message, warn)\n"
     ]
    }
   ],
   "source": [
    "# cell size, number of cells in the x-direction, \n",
    "# number of cells in the z-direction and number of padding cells\n",
    "mesh_type = '2d_cyl'\n",
    "\n",
    "if mesh_type== '2d_cyl':\n",
    "    ncx = 10\n",
    "    csx = 10.\n",
    "    npadx = 20.\n",
    "    ncz = 10.\n",
    "    csz = 5.\n",
    "    npadz = 18.\n",
    "    hx = [(csx, ncx), (csx, npadx, 1.3)]\n",
    "    hz = [(csz, npadz, -1.3), (csz, ncx), (csz, npadz, 1.3)]    \n",
    "    mesh = CylMesh([hx, 1, hz], x0='00C')\n",
    "elif mesh_type == '3d_tensor':\n",
    "    cs, ncx, npad = 10., 9, 8    \n",
    "    ncy = 1\n",
    "    ncz = 6\n",
    "    hx = [(cs, npad, -1.3), (cs, ncx), (cs, npad, 1.3)]\n",
    "    hy = [(cs, npad, -1.3), (cs, ncy), (cs, npad, 1.3)]    \n",
    "    hz = [(cs, npad, -1.3), (cs, ncz), (cs, npad, 1.3)]\n",
    "    mesh = TensorMesh([hx, hy, hz], 'CCC')\n",
    "active = mesh.cell_centers[:,2] < 0.\n",
    "sigma_background = 1./20.\n",
    "sigma_layer = 1./20.\n",
    "sigma = np.ones(mesh.n_cells)*1e-8\n",
    "sigma[active] = sigma_background\n",
    "ind_layer = np.logical_and(mesh.cell_centers[:,2]<-100., mesh.cell_centers[:,2]>-200.)\n",
    "sigma[ind_layer] = sigma_layer\n",
    "rho = 1./sigma"
   ]
  },
  {
   "cell_type": "code",
   "execution_count": 4,
   "metadata": {
    "iooxa": {
     "id": {
      "block": "fbbQCpqawoJ0JPch1OwB",
      "project": "jUfOExvamwk5Li9VLPqd",
      "version": 1
     },
     "outputId": null
    }
   },
   "outputs": [],
   "source": [
    "from matplotlib.colors import LogNorm\n",
    "import matplotlib as mpl\n",
    "mpl.rcParams['font.size'] = 16"
   ]
  },
  {
   "cell_type": "code",
   "execution_count": 5,
   "metadata": {
    "iooxa": {
     "id": {
      "block": "3BPRFcg6NqBo4DNimQFo",
      "project": "jUfOExvamwk5Li9VLPqd",
      "version": 1
     },
     "outputId": {
      "block": "HWgYaELZ8BLzKYyzCJbg",
      "project": "jUfOExvamwk5Li9VLPqd",
      "version": 1
     }
    }
   },
   "outputs": [
    {
     "data": {
      "image/png": "[encoded data removed]",
      "text/plain": [
       "<Figure size 500x300 with 2 Axes>"
      ]
     },
     "metadata": {},
     "output_type": "display_data"
    }
   ],
   "source": [
    "fig, ax = plt.subplots(figsize=(5, 3))\n",
    "# vmin = np.log10(1e-4); vmax = np.log10(1e-0)\n",
    "vmin = 1e-8; vmax = 1e-2\n",
    "out = mesh.plot_image(sigma, ax=ax, pcolor_opts={'norm':LogNorm(vmin=vmin, vmax=vmax)})\n",
    "ax.set_ylim([-1000, 1000])\n",
    "\n",
    "cbar = plt.colorbar(out[0])\n",
    "cbar.set_label('Resistivity [ohm-m]')"
   ]
  },
  {
   "cell_type": "code",
   "execution_count": 6,
   "metadata": {
    "iooxa": {
     "id": {
      "block": "DMLPsFCpGdBmdScvaSf5",
      "project": "jUfOExvamwk5Li9VLPqd",
      "version": 1
     },
     "outputId": null
    }
   },
   "outputs": [],
   "source": [
    "from SimPEG import utils\n",
    "import SimPEG.electromagnetics.time_domain as tdem\n",
    "from SimPEG import maps\n",
    "from pymatsolver import PardisoSolver\n",
    "# from pymatsolver import Solver"
   ]
  },
  {
   "cell_type": "code",
   "execution_count": 71,
   "metadata": {
    "iooxa": {
     "id": {
      "block": "tYHtNuKPWb1uQk7yr9K6",
      "project": "jUfOExvamwk5Li9VLPqd",
      "version": 1
     },
     "outputId": {
      "block": "LtdJlfAcDIOvLnOKzGzG",
      "project": "jUfOExvamwk5Li9VLPqd",
      "version": 1
     }
    }
   },
   "outputs": [
    {
     "name": "stdout",
     "output_type": "stream",
     "text": [
      "t_min:1.0e-07, t_max:1.6e-02\n"
     ]
    }
   ],
   "source": [
    "receiver_orientation = \"z\"                    # \"x\", \"y\" or \"z\"\n",
    "z_src = 30\n",
    "x_rx = 10.\n",
    "z_offset = 0.\n",
    "receiver_location = np.array([x_rx, 0., z_src+z_offset])\n",
    "source_location = np.array([0., 0., z_src])\n",
    "times = np.logspace(np.log10(1e-6), np.log10(1e-2), 31)\n",
    "rx = tdem.receivers.PointMagneticFluxTimeDerivative(\n",
    "    receiver_location, times, orientation=receiver_orientation\n",
    ")\n",
    "receiver_list = [rx]\n",
    "src = tdem.sources.MagDipole(\n",
    "    receiver_list=receiver_list, location=source_location,\n",
    "    waveform=tdem.sources.StepOffWaveform(), orientation='z'\n",
    ")\n",
    "\n",
    "# Survey\n",
    "source_list = [src]\n",
    "survey = tdem.Survey(source_list)\n",
    "# dts = np.diff(np.logspace(-7, -1, 60))\n",
    "# time_steps = []\n",
    "# for dt in dts:\n",
    "#     time_steps.append((dt, 1))\n",
    "\n",
    "def generate_time_steps(\n",
    "    n_constant_steps=15, increase_rate=3, start_time_step=5e-7, n_per_step=5\n",
    "):\n",
    "    time_steps = []\n",
    "    for i_step in range(n_constant_steps):\n",
    "        ht = np.ones(n_per_step) * start_time_step*increase_rate**i_step\n",
    "        time_steps.append(ht)\n",
    "    print(\"t_min:{:.1e}, t_max:{:.1e}\".format(start_time_step, np.sum(time_steps)))\n",
    "    return np.hstack(time_steps)\n",
    "\n",
    "time_steps = generate_time_steps(n_constant_steps=15, increase_rate=2, start_time_step=1e-7, n_per_step=5)\n",
    "\n",
    "simulation_3d = SimulationAEM(\n",
    "    mesh=mesh,\n",
    "    survey=survey,\n",
    "    sigmaMap=maps.IdentityMap(mesh),\n",
    "    solver=PardisoSolver,\n",
    "    time_steps=time_steps\n",
    ")    \n",
    "simulation_3d_test = tdem.Simulation3DMagneticFluxDensity(\n",
    "    mesh=mesh,\n",
    "    survey=survey,\n",
    "    sigmaMap=maps.IdentityMap(mesh),\n",
    "    solver=PardisoSolver,\n",
    "    time_steps=time_steps    \n",
    ")"
   ]
  },
  {
   "cell_type": "code",
   "execution_count": 72,
   "metadata": {
    "iooxa": {
     "id": {
      "block": "Y7FHWa0Rmt83DqyFHip2",
      "project": "jUfOExvamwk5Li9VLPqd",
      "version": 1
     },
     "outputId": {
      "block": "WWbrkTjkQqrOMKSJYhrr",
      "project": "jUfOExvamwk5Li9VLPqd",
      "version": 1
     }
    }
   },
   "outputs": [
    {
     "name": "stdout",
     "output_type": "stream",
     "text": [
      "CPU times: user 442 ms, sys: 165 ms, total: 607 ms\n",
      "Wall time: 92 ms\n"
     ]
    }
   ],
   "source": [
    "%%time\n",
    "data = simulation_3d.dpred(sigma)"
   ]
  },
  {
   "cell_type": "code",
   "execution_count": 73,
   "metadata": {
    "iooxa": {
     "id": {
      "block": "nwDGiEMaKNE3pchQBdQq",
      "project": "jUfOExvamwk5Li9VLPqd",
      "version": 1
     },
     "outputId": {
      "block": "qIhJdz6z5jjFMajAqQXe",
      "project": "jUfOExvamwk5Li9VLPqd",
      "version": 1
     }
    }
   },
   "outputs": [],
   "source": [
    "# %%time\n",
    "# JT = np.zeros((mesh.n_cells, rx.nD), dtype=float)\n",
    "# data_simpeg = simulation_3d_test.dpred(sigma)\n",
    "# for ii in range(rx.nD):\n",
    "#     v = np.zeros(rx.nD)\n",
    "#     v[ii] = 1\n",
    "#     JT[:,ii] = simulation_3d_test.Jtvec(sigma, v)"
   ]
  },
  {
   "cell_type": "code",
   "execution_count": 74,
   "metadata": {
    "iooxa": {
     "id": {
      "block": "rCWiS35PvoUb4x2AEszL",
      "project": "jUfOExvamwk5Li9VLPqd",
      "version": 1
     },
     "outputId": null
    }
   },
   "outputs": [],
   "source": [
    "# A^-1 I[:,ii]"
   ]
  },
  {
   "cell_type": "code",
   "execution_count": 75,
   "metadata": {
    "iooxa": {
     "id": {
      "block": "vlA18bOg4uES0lBSoyKJ",
      "project": "jUfOExvamwk5Li9VLPqd",
      "version": 1
     },
     "outputId": null
    }
   },
   "outputs": [],
   "source": [
    "# A^-1 I"
   ]
  },
  {
   "cell_type": "code",
   "execution_count": 76,
   "metadata": {
    "iooxa": {
     "id": {
      "block": "2u351QeS1TGXMfghYWwo",
      "project": "jUfOExvamwk5Li9VLPqd",
      "version": 1
     },
     "outputId": null
    }
   },
   "outputs": [],
   "source": [
    "# O^-1 I"
   ]
  },
  {
   "cell_type": "code",
   "execution_count": 77,
   "metadata": {
    "iooxa": {
     "id": {
      "block": "Tf54qPLtlA42jGPbCcz0",
      "project": "jUfOExvamwk5Li9VLPqd",
      "version": 1
     },
     "outputId": null
    }
   },
   "outputs": [],
   "source": [
    "# M = 5e6\n",
    "# N = 1000\n",
    "# 1e9"
   ]
  },
  {
   "cell_type": "markdown",
   "metadata": {
    "iooxa": {
     "id": {
      "block": "om3SFipPXMXO4K5og8pd",
      "project": "jUfOExvamwk5Li9VLPqd",
      "version": 1
     }
    },
    "user_expressions": []
   },
   "source": [
    "- sigma_local = Mapping(global_model)\n",
    "- global_model: (Mx1); M > 1e6\n",
    "- sigma_local; (M_local x 1); ~4e3\n",
    "\n",
    "P_mappping @ global_model = sigma_local\n",
    "\n",
    "[M_localxM; sparse matrix]\n",
    "\n",
    "J_local (n_local x M_local)\n",
    "\n",
    "\n",
    "J_local @ P_mapping = J\n",
    "\n",
    "(J_local @ P_mapping) @ vec\n",
    "\n",
    "(J_local @ P_mapping)^T @ vec"
   ]
  },
  {
   "cell_type": "code",
   "execution_count": 78,
   "metadata": {
    "iooxa": {
     "id": {
      "block": "VPldXzIV3Qt82EK94ODu",
      "project": "jUfOExvamwk5Li9VLPqd",
      "version": 1
     },
     "outputId": null
    }
   },
   "outputs": [],
   "source": [
    "# %%time\n",
    "# JT @ v"
   ]
  },
  {
   "cell_type": "code",
   "execution_count": 79,
   "metadata": {
    "iooxa": {
     "id": {
      "block": "73guHAlnL3xAW2yFXkcd",
      "project": "jUfOExvamwk5Li9VLPqd",
      "version": 1
     },
     "outputId": null
    }
   },
   "outputs": [],
   "source": [
    "# %%time\n",
    "# jtvec = simulation_3d_test.Jtvec(sigma, v)"
   ]
  },
  {
   "cell_type": "code",
   "execution_count": 80,
   "metadata": {
    "iooxa": {
     "id": {
      "block": "Fzc2WDyZFYfTbmNxGer9",
      "project": "jUfOExvamwk5Li9VLPqd",
      "version": 1
     },
     "outputId": null
    }
   },
   "outputs": [],
   "source": [
    "# %%time\n",
    "# data_simpeg = simulation_3d_test.dpred(sigma)"
   ]
  },
  {
   "cell_type": "code",
   "execution_count": 81,
   "metadata": {
    "iooxa": {
     "id": {
      "block": "wA71sqVw6RXh2royMcKW",
      "project": "jUfOExvamwk5Li9VLPqd",
      "version": 1
     },
     "outputId": null
    }
   },
   "outputs": [],
   "source": [
    "# x = np.linspace(10, 100, 10)\n",
    "# y = np.zeros_like(x)\n",
    "# z = np.ones_like(x) * 30.\n",
    "# Fz = mesh.getInterpolationMat(np.c_[x, y, z], locType='Fz')\n",
    "# b0 = src.bInitial(prb)\n",
    "# bz = Fz*b0\n",
    "# bza = -1./(4*np.pi*x**3) * mu_0\n",
    "# plt.semilogy(x, -bz/(np.pi/2), 'k-', )\n",
    "# plt.semilogy(x, -bz, 'k--', )\n",
    "# plt.semilogy(x, -bza, 'kx')"
   ]
  },
  {
   "cell_type": "code",
   "execution_count": 82,
   "metadata": {
    "iooxa": {
     "id": {
      "block": "p42w4xknf467o1MY6vGE",
      "project": "jUfOExvamwk5Li9VLPqd",
      "version": 1
     },
     "outputId": {
      "block": "85w78xX8IOd7CWCSktqq",
      "project": "jUfOExvamwk5Li9VLPqd",
      "version": 1
     }
    }
   },
   "outputs": [
    {
     "data": {
      "image/png": "[encoded data removed]",
      "text/plain": [
       "<Figure size 600x500 with 1 Axes>"
      ]
     },
     "metadata": {},
     "output_type": "display_data"
    }
   ],
   "source": [
    "from SimPEG.utils import plot_1d_layer_model\n",
    "\n",
    "# Layer thicknesses\n",
    "thicknesses = np.array([100.0, 100.0])\n",
    "n_layer = len(thicknesses) + 1\n",
    "\n",
    "# physical property model (conductivity model)\n",
    "model = sigma_background * np.ones(n_layer)\n",
    "model[1] = sigma_layer\n",
    "\n",
    "# Define a mapping from model parameters to conductivities\n",
    "model_mapping = maps.IdentityMap(nP=n_layer)\n",
    "\n",
    "# Plot conductivity model\n",
    "thicknesses_for_plotting = np.r_[thicknesses, 40.0]\n",
    "mesh_for_plotting = TensorMesh([thicknesses_for_plotting])\n",
    "\n",
    "fig = plt.figure(figsize=(6, 5))\n",
    "ax = fig.add_axes([0.15, 0.15, 0.8, 0.75])\n",
    "plot_1d_layer_model(thicknesses_for_plotting, model, ax=ax, show_layers=False)\n",
    "plt.gca().invert_yaxis()"
   ]
  },
  {
   "cell_type": "code",
   "execution_count": 83,
   "metadata": {
    "iooxa": {
     "id": {
      "block": "q0QCvcBqLUOquxythCLJ",
      "project": "jUfOExvamwk5Li9VLPqd",
      "version": 1
     },
     "outputId": {
      "block": "0uhV90AkxNFpWvsLUyUj",
      "project": "jUfOExvamwk5Li9VLPqd",
      "version": 1
     }
    }
   },
   "outputs": [
    {
     "data": {
      "text/plain": [
       "array([-1.15176058e-07, -9.14426202e-08, -7.16634707e-08, -5.53298009e-08,\n",
       "       -4.19969438e-08, -3.12695659e-08, -2.27888489e-08, -1.62226780e-08,\n",
       "       -1.12598681e-08, -7.60897670e-09, -5.00122180e-09, -3.19584757e-09,\n",
       "       -1.98560441e-09, -1.20019596e-09, -7.06497186e-10, -4.05569261e-10,\n",
       "       -2.27416944e-10, -1.24784075e-10, -6.71246532e-11, -3.54651316e-11,\n",
       "       -1.84377432e-11, -9.44828804e-12, -4.78014589e-12, -2.39123816e-12,\n",
       "       -1.18437411e-12, -5.81530722e-13, -2.83371883e-13, -1.37171045e-13,\n",
       "       -6.60179969e-14, -3.16165378e-14, -1.50753717e-14])"
      ]
     },
     "execution_count": 83,
     "metadata": {},
     "output_type": "execute_result"
    }
   ],
   "source": [
    "# Define the simulation\n",
    "simulation = tdem.Simulation1DLayered(\n",
    "    survey=survey,\n",
    "    thicknesses=thicknesses,\n",
    "    sigmaMap=model_mapping,\n",
    ")\n",
    "\n",
    "# Predict data for a given model\n",
    "sigma_1d =  model\n",
    "data_analytic = simulation.dpred(sigma_1d)\n",
    "data_analytic"
   ]
  },
  {
   "cell_type": "code",
   "execution_count": 84,
   "metadata": {
    "iooxa": {
     "id": {
      "block": "NnqpWldxK1mOpNlColCG",
      "project": "jUfOExvamwk5Li9VLPqd",
      "version": 1
     },
     "outputId": {
      "block": "cQir2EmkQ5VDuY7bLNY5",
      "project": "jUfOExvamwk5Li9VLPqd",
      "version": 1
     }
    }
   },
   "outputs": [
    {
     "data": {
      "text/plain": [
       "array([-1.15176058e-07, -9.14426202e-08, -7.16634707e-08, -5.53298009e-08,\n",
       "       -4.19969438e-08, -3.12695659e-08, -2.27888489e-08, -1.62226780e-08,\n",
       "       -1.12598681e-08, -7.60897670e-09, -5.00122180e-09, -3.19584757e-09,\n",
       "       -1.98560441e-09, -1.20019596e-09, -7.06497186e-10, -4.05569261e-10,\n",
       "       -2.27416944e-10, -1.24784075e-10, -6.71246532e-11, -3.54651316e-11,\n",
       "       -1.84377432e-11, -9.44828804e-12, -4.78014589e-12, -2.39123816e-12,\n",
       "       -1.18437411e-12, -5.81530722e-13, -2.83371883e-13, -1.37171045e-13,\n",
       "       -6.60179969e-14, -3.16165378e-14, -1.50753717e-14])"
      ]
     },
     "execution_count": 84,
     "metadata": {},
     "output_type": "execute_result"
    }
   ],
   "source": [
    "# Define the simulation\n",
    "simulation = tdem.Simulation1DLayered(\n",
    "    survey=survey,\n",
    "    sigmaMap=maps.IdentityMap(nP=1),\n",
    ")\n",
    "\n",
    "# Predict data for a given model\n",
    "sigma_1d =  np.ones(1) * sigma_background\n",
    "data_analytic = simulation.dpred(sigma_1d)\n",
    "data_analytic"
   ]
  },
  {
   "cell_type": "code",
   "execution_count": 85,
   "metadata": {
    "iooxa": {
     "id": {
      "block": "Jmcg0obnFCEDNqPF54tj",
      "project": "jUfOExvamwk5Li9VLPqd",
      "version": 1
     },
     "outputId": null
    }
   },
   "outputs": [],
   "source": [
    "# plt.loglog(times, -data_analytic)\n",
    "# plt.loglog(times, -data, '.')\n",
    "# plt.loglog(times, -data_tmp, '--')"
   ]
  },
  {
   "cell_type": "code",
   "execution_count": 86,
   "metadata": {
    "iooxa": {
     "id": {
      "block": "LcSxiUIPOyHJqJeiPnnm",
      "project": "jUfOExvamwk5Li9VLPqd",
      "version": 1
     },
     "outputId": null
    }
   },
   "outputs": [],
   "source": [
    "# %%time\n",
    "# data_analytic, _, _ = aem_simulation(1./sigma_background, 1./sigma_background, 10, 10)"
   ]
  },
  {
   "cell_type": "code",
   "execution_count": 87,
   "metadata": {
    "iooxa": {
     "id": {
      "block": "6mLVRxOtScwlPHhVjbBh",
      "project": "jUfOExvamwk5Li9VLPqd",
      "version": 1
     },
     "outputId": null
    }
   },
   "outputs": [],
   "source": [
    "# plt.loglog(rx.times, -data/(np.pi/2.), 'kx')\n",
    "# plt.loglog(rx.times, -data_analytic, 'k')\n",
    "# plt.loglog(prb.times, np.ones(prb.times.size)*1e-11, 'k|')"
   ]
  },
  {
   "cell_type": "code",
   "execution_count": 88,
   "metadata": {
    "iooxa": {
     "id": {
      "block": "QcSYgTgsQIxG9H9wNfVb",
      "project": "jUfOExvamwk5Li9VLPqd",
      "version": 1
     },
     "outputId": null
    }
   },
   "outputs": [],
   "source": [
    "b0 = src.bInitial(simulation_3d)"
   ]
  },
  {
   "cell_type": "code",
   "execution_count": 89,
   "metadata": {
    "iooxa": {
     "id": {
      "block": "481QhTy4X1kSnNswmX08",
      "project": "jUfOExvamwk5Li9VLPqd",
      "version": 1
     },
     "outputId": null
    }
   },
   "outputs": [],
   "source": [
    "from scipy.interpolate import interp1d"
   ]
  },
  {
   "cell_type": "code",
   "execution_count": 90,
   "metadata": {
    "iooxa": {
     "id": {
      "block": "0QSdrX4DKgNHZ5Iyp9jn",
      "project": "jUfOExvamwk5Li9VLPqd",
      "version": 1
     },
     "outputId": null
    }
   },
   "outputs": [],
   "source": [
    "def bdf2(sigma):\n",
    "    simulation_3d.model = sigma\n",
    "    # Operators\n",
    "    C = mesh.edgeCurl\n",
    "    MfMui = simulation_3d.MfMui\n",
    "    MeSigma = simulation_3d.MeSigma\n",
    "    n_steps = simulation_3d.time_steps.size\n",
    "    Fz = mesh.getInterpolationMat(rx.locations, locType='Fz')\n",
    "    eps = 1e-10\n",
    "    def getA(dt, factor=1.):\n",
    "        return C.T*MfMui*C + factor/dt * MeSigma\n",
    "    dt_0 = 0.\n",
    "    sol = np.zeros((mesh.n_edges, simulation_3d.time_steps.size), order='F', dtype=float)\n",
    "    data_test = np.zeros(simulation_3d.time_steps.size)\n",
    "    # sol_n0 = np.zeros(mesh.nE)\n",
    "    # sol_n1 = np.zeros(mesh.nE)\n",
    "    # sol_n2 = np.zeros(mesh.nE)\n",
    "    for tInd in range(n_steps):\n",
    "        dt = simulation_3d.time_steps[tInd]\n",
    "        #Factor for BDF2\n",
    "        factor=3/2.            \n",
    "        if abs(dt_0-dt) > eps:\n",
    "            # print (tInd, factor)\n",
    "            A = getA(dt, factor=factor)            \n",
    "            Ainv = simulation_3d.solver(A)\n",
    "        if tInd==0:        \n",
    "            b0 = src.bInitial(simulation_3d)\n",
    "            s_e = C.T*MfMui*b0\n",
    "            rhs = factor/dt*s_e\n",
    "        elif tInd==1:\n",
    "            rhs = -factor/dt*(MeSigma*(-4/3.*sol[:,tInd-1]+1/3.*sol[:,tInd-2]) + 1./3.*s_e)\n",
    "        else:\n",
    "            rhs = -factor/dt*(MeSigma*(-4/3.*sol[:,tInd-1]+1/3.*sol[:,tInd-2]))\n",
    "        sol[:,tInd] = Ainv*rhs\n",
    "        data_test[tInd] = Fz*(-C*sol[:,tInd])\n",
    "        dt_0 = dt\n",
    "    data_test = (Fz@(-C@sol)).flatten()\n",
    "    log10_time = np.log10(simulation_3d.time_mesh.cell_centers)\n",
    "    ht = np.diff(log10_time)\n",
    "    log10_time_mesh = TensorMesh([ht], x0=[log10_time[0]])\n",
    "    Pt = log10_time_mesh.get_interpolation_matrix(np.log10(rx.times), location_type='N')        \n",
    "    # step_func = interp1d(\n",
    "    #     np.log10(simulation_3d.time_mesh.gridCC[:]), data_test\n",
    "    # )\n",
    "    # return step_func(np.log10(rx.times))\n",
    "    data_bdf2 = Pt @ data_test\n",
    "    return sol, data_bdf2"
   ]
  },
  {
   "cell_type": "code",
   "execution_count": 91,
   "metadata": {
    "iooxa": {
     "id": {
      "block": "aaiHB19b8BmS3pSADGqx",
      "project": "jUfOExvamwk5Li9VLPqd",
      "version": 1
     },
     "outputId": null
    }
   },
   "outputs": [],
   "source": [
    "# def bdf1(sigma):\n",
    "#     simulation_3d.model = sigma\n",
    "#     # Operators\n",
    "#     C = simulation_3d.mesh.edge_curl\n",
    "#     # Mfmui = mesh.get_face_inner_product(1./mu_0)\n",
    "#     # MeSigma = mesh.get_edge_inner_product(sigma)\n",
    "#     n_steps = simulation_3d.time_steps.size\n",
    "#     Fz = mesh.get_interpolation_matrix(rx.locations, locType='Fz')\n",
    "#     eps = 1e-10\n",
    "\n",
    "#     def getAdiag(tInd):\n",
    "#         \"\"\"\n",
    "#         Diagonal of the system matrix at a given time index\n",
    "#         \"\"\"\n",
    "#         assert tInd >= 0 and tInd < simulation_3d.nT\n",
    "\n",
    "#         dt = simulation_3d.time_steps[tInd]\n",
    "#         C = simulation_3d.mesh.edge_curl\n",
    "#         MfMui = simulation_3d.MfMui\n",
    "#         MeSigma = simulation_3d.MeSigma\n",
    "#         return C.T.tocsr() * (MfMui * C) + 1.0 / dt * MeSigma \n",
    "\n",
    "#     dt_0 = 0.\n",
    "#     sol = np.zeros((mesh.n_edges, simulation_3d.time_steps.size), order='F', dtype=float)\n",
    "#     for tInd in range(n_steps):\n",
    "#         dt = simulation_3d.time_steps[tInd]\n",
    "#         A = getAdiag(tInd)\n",
    "#         if abs(dt_0-dt) > eps:\n",
    "#             Ainv = simulation_3d.solver(A)\n",
    "#         if tInd==0:        \n",
    "#             b0 = src.bInitial(simulation_3d)\n",
    "#             s_e = C.T*simulation_3d.MfMui*b0\n",
    "#             rhs = s_e/dt\n",
    "#         else:\n",
    "#             rhs = simulation_3d.MeSigma*sol[:,tInd-1]/dt\n",
    "#         sol[:,tInd] = Ainv*rhs\n",
    "#         dt_0 = dt\n",
    "#     data_test = (Fz@(-C@sol)).flatten()\n",
    "#     # Interpolation in logarithmic space\n",
    "#     log10_time = np.log10(simulation_3d.time_mesh.cell_centers)\n",
    "#     ht = np.diff(log10_time)\n",
    "#     log10_time_mesh = TensorMesh([ht], x0=[log10_time[0]])\n",
    "#     Pt = log10_time_mesh.get_interpolation_matrix(np.log10(rx.times), location_type='N')\n",
    "#     # Pt = simulation_3d.time_mesh.get_interpolation_matrix(rx.times, location_type='CC')\n",
    "#     data_bdf1 = Pt @ data_test  \n",
    "    \n",
    "#     # Substituted this with a sparse matrix.\n",
    "#     # step_func = interp1d(\n",
    "#     #     np.log10(simulation_3d.time_mesh.cell_centers), data_test\n",
    "#     # )\n",
    "#     # return sol, step_func(np.log10(rx.times))\n",
    "#     return sol, data_bdf1"
   ]
  },
  {
   "cell_type": "code",
   "execution_count": 92,
   "metadata": {
    "iooxa": {
     "id": {
      "block": "KLc3lvXj6NuPY86QR1zR",
      "project": "jUfOExvamwk5Li9VLPqd",
      "version": 1
     },
     "outputId": null
    }
   },
   "outputs": [],
   "source": [
    "# data_bdf1 = bdf1()"
   ]
  },
  {
   "cell_type": "code",
   "execution_count": 93,
   "metadata": {
    "iooxa": {
     "id": {
      "block": "sQ0DEcLYPC1SDIyOmO3L",
      "project": "jUfOExvamwk5Li9VLPqd",
      "version": 1
     },
     "outputId": null
    }
   },
   "outputs": [],
   "source": [
    "sol_bdf2, data_bdf2 = bdf2(sigma)"
   ]
  },
  {
   "cell_type": "code",
   "execution_count": 94,
   "metadata": {
    "iooxa": {
     "id": {
      "block": "zwLPgA8wvqTEqMlOSPqa",
      "project": "jUfOExvamwk5Li9VLPqd",
      "version": 1
     },
     "outputId": null
    }
   },
   "outputs": [],
   "source": [
    "nD = rx.nD"
   ]
  },
  {
   "cell_type": "code",
   "execution_count": 95,
   "metadata": {
    "iooxa": {
     "id": {
      "block": "V7YiyTBgjJJVr5NnTlAf",
      "project": "jUfOExvamwk5Li9VLPqd",
      "version": 1
     },
     "outputId": null
    }
   },
   "outputs": [],
   "source": [
    "# for src in source_list:\n",
    "#     rx_list = src.receiver_list:\n",
    "#     for rx in rx_list:\n",
    "#         nD += rx.nD"
   ]
  },
  {
   "cell_type": "code",
   "execution_count": 96,
   "metadata": {
    "iooxa": {
     "id": {
      "block": "TLLufi1uWVMBDv1Evzlw",
      "project": "jUfOExvamwk5Li9VLPqd",
      "version": 1
     },
     "outputId": {
      "block": "lJHogPlQXSG0IMo14ZV4",
      "project": "jUfOExvamwk5Li9VLPqd",
      "version": 1
     }
    }
   },
   "outputs": [
    {
     "data": {
      "text/plain": [
       "(1e-15, 1e-06)"
      ]
     },
     "execution_count": 96,
     "metadata": {},
     "output_type": "execute_result"
    },
    {
     "data": {
      "image/png": "[encoded data removed]",
      "text/plain": [
       "<Figure size 600x600 with 1 Axes>"
      ]
     },
     "metadata": {},
     "output_type": "display_data"
    }
   ],
   "source": [
    "mpl.rcParams['font.size'] = 16\n",
    "fig, ax = plt.subplots(figsize = (6, 6))\n",
    "plt.loglog(rx.times, -data_analytic, 'k')\n",
    "# plt.loglog(rx.times, -data_simpeg, 'r')\n",
    "# plt.loglog(rx.times, -data_bdf1, 'b--')\n",
    "plt.loglog(rx.times, -data_bdf2, 'g--')\n",
    "# plt.legend((\"Analytic\", \"SimPEG\", \"BDF1\", \"BDF2\"))\n",
    "# plt.legend((\"Analytic\", \"BDF1\", \"BDF2\"))\n",
    "ax.set_ylim([1e-15, 1e-6])"
   ]
  },
  {
   "cell_type": "code",
   "execution_count": 97,
   "metadata": {
    "iooxa": {
     "id": {
      "block": "IZFHpaQrV5BhM4Gnfs94",
      "project": "jUfOExvamwk5Li9VLPqd",
      "version": 1
     },
     "outputId": null
    }
   },
   "outputs": [],
   "source": [
    "C = mesh.edge_curl\n",
    "log10_time = np.log10(simulation_3d.time_mesh.cell_centers)\n",
    "ht = np.diff(log10_time)\n",
    "log10_time_mesh = TensorMesh([ht], x0=[log10_time[0]])\n",
    "Fz = mesh.get_interpolation_matrix(rx.locations, locType='Fz')\n",
    "PtT = log10_time_mesh.get_interpolation_matrix(np.log10(rx.times), location_type='N').T.toarray()\n",
    "# PtT = simulation_3d.time_mesh.get_interpolation_matrix(rx.times, location_type='CC').T.toarray()\n",
    "PsT = -(Fz@C).T.toarray()"
   ]
  },
  {
   "cell_type": "code",
   "execution_count": 98,
   "metadata": {
    "iooxa": {
     "id": {
      "block": "G09fY0gTBXrNe3mFhlBn",
      "project": "jUfOExvamwk5Li9VLPqd",
      "version": 1
     },
     "outputId": null
    }
   },
   "outputs": [],
   "source": [
    "# n_time_steps x n_time_channels"
   ]
  },
  {
   "cell_type": "code",
   "execution_count": 99,
   "metadata": {
    "iooxa": {
     "id": {
      "block": "AKQYAmZZpqkPGVPB3xG2",
      "project": "jUfOExvamwk5Li9VLPqd",
      "version": 1
     },
     "outputId": null
    }
   },
   "outputs": [],
   "source": [
    "from SimPEG import maps\n",
    "active_map = maps.InjectActiveCells(mesh, indActive=active, valInactive=np.log(1e-8))\n",
    "exp_map = maps.ExpMap(mesh)\n",
    "mapping = exp_map * active_map"
   ]
  },
  {
   "cell_type": "code",
   "execution_count": 100,
   "metadata": {
    "iooxa": {
     "id": {
      "block": "pB1oIN8TP7HM2ruPHNye",
      "project": "jUfOExvamwk5Li9VLPqd",
      "version": 1
     },
     "outputId": null
    }
   },
   "outputs": [],
   "source": [
    "m = np.ones(active.sum()) * np.log(1./20.)\n",
    "sigma = mapping * m"
   ]
  },
  {
   "cell_type": "code",
   "execution_count": 101,
   "metadata": {
    "iooxa": {
     "id": {
      "block": "pgAPrRUJAgFqfGD0WzFt",
      "project": "jUfOExvamwk5Li9VLPqd",
      "version": 1
     },
     "outputId": null
    }
   },
   "outputs": [],
   "source": [
    "# %%time\n",
    "# Let's rewrite derivation for BDF2, and check.          ! BIT_061523\n",
    "def getAdiag(self, tInd):\n",
    "    \"\"\"\n",
    "    Diagonal of the system matrix at a given time index\n",
    "    \"\"\"\n",
    "    assert tInd >= 0 and tInd < self.nT\n",
    "\n",
    "    dt = self.time_steps[tInd]\n",
    "    C = self.mesh.edge_curl\n",
    "    MfMui = self.MfMui\n",
    "    MeSigma = self.MeSigma\n",
    "    return C.T.tocsr() * (MfMui * C) + (3./2.) / dt * MeSigma\n",
    "\n",
    "def getAdiagDeriv(self, tInd, u, v, adjoint=False):\n",
    "    \"\"\"\n",
    "    Deriv of ADiag with respect to electrical conductivity\n",
    "    \"\"\"\n",
    "    assert tInd >= 0 and tInd < self.nT\n",
    "\n",
    "    dt = self.time_steps[tInd]\n",
    "    # MeSigmaDeriv = self.MeSigmaDeriv(u)\n",
    "\n",
    "    if adjoint:\n",
    "        return (3./2.) / dt * self.MeSigmaDeriv(u, v, adjoint)\n",
    "\n",
    "    return (3./2.) / dt * self.MeSigmaDeriv(u, v, adjoint)\n",
    "\n",
    "def getAsubdiag(self, tInd):\n",
    "    \"\"\"\n",
    "    Matrix below the diagonal\n",
    "    \"\"\"\n",
    "    assert tInd >= 0 and tInd < self.nT\n",
    "\n",
    "    dt = self.time_steps[tInd]\n",
    "    if tInd == 0:\n",
    "        factor = -3./2.\n",
    "    else:\n",
    "        factor = -2.\n",
    "    return factor / dt * self.MeSigma\n",
    "\n",
    "def getAsubdiagDeriv(self, tInd, u, v, adjoint=False):\n",
    "    \"\"\"\n",
    "    Derivative of the matrix below the diagonal with respect to electrical\n",
    "    conductivity\n",
    "    \"\"\"\n",
    "    dt = self.time_steps[tInd]\n",
    "    if tInd == 0:\n",
    "        factor = -3./2.\n",
    "    else:\n",
    "        factor = -2.\n",
    "    if adjoint:\n",
    "        return factor / dt * self.MeSigmaDeriv(u, v, adjoint)\n",
    "\n",
    "    return factor / dt * self.MeSigmaDeriv(u, v, adjoint)\n",
    "\n",
    "def getAsubsubdiag(self, tInd):\n",
    "    \"\"\"\n",
    "    Matrix below the diagonal\n",
    "    \"\"\"\n",
    "    assert tInd >= 0 and tInd < self.nT\n",
    "\n",
    "    dt = self.time_steps[tInd]\n",
    "\n",
    "    return 0.5 / dt * self.MeSigma\n",
    "\n",
    "def getAsubsubdiagDeriv(self, tInd, u, v, adjoint=False):\n",
    "    \"\"\"\n",
    "    Derivative of the matrix below the diagonal with respect to electrical\n",
    "    conductivity\n",
    "    \"\"\"\n",
    "    dt = self.time_steps[tInd]\n",
    "\n",
    "    if adjoint:\n",
    "        return 0.5 / dt * self.MeSigmaDeriv(u, v, adjoint)\n",
    "\n",
    "    return 0.5 / dt * self.MeSigmaDeriv(u, v, adjoint)\n",
    "\n",
    "def get_J_sigma_bdf2(sigma):\n",
    "    simulation_3d.model = sigma\n",
    "    C = mesh.edgeCurl\n",
    "    n_steps = simulation_3d.time_steps.size\n",
    "    eps = 1e-10\n",
    "    nE = mesh.n_edges\n",
    "    nD = rx.nD\n",
    "    nT = len(simulation_3d.time_steps)\n",
    "    nM = mesh.n_cells\n",
    "    dt_0 = 0.\n",
    "    nC = mesh.n_cells\n",
    "    yn = np.zeros((nE, nD), dtype=float, order='F')\n",
    "    yn_1 = np.zeros((nE, nD), dtype=float, order='F')\n",
    "    yn_2 = np.zeros((nE, nD), dtype=float, order='F')\n",
    "    J_matrixT = np.zeros((nM, nD), dtype=float, order='F')    \n",
    "    sol, _ = bdf2(sigma)    \n",
    "    for tInd in reversed(range(n_steps)):\n",
    "        # print (tInd, tInd-1, tInd-2)\n",
    "        dt = simulation_3d.time_steps[tInd]\n",
    "        A = getAdiag(simulation_3d, tInd)\n",
    "        pn = (PsT * PtT[tInd, :])\n",
    "        if abs(dt_0-dt) > eps:\n",
    "            # print (tInd)\n",
    "            Ainv = simulation_3d.solver(A)\n",
    "        if tInd==n_steps-1:\n",
    "            yn = Ainv * pn\n",
    "        elif tInd==n_steps-2: \n",
    "            BB = getAsubdiag(simulation_3d, tInd+1)\n",
    "            yn = Ainv * (pn-BB@yn_1)   \n",
    "        else:\n",
    "            BB = getAsubdiag(simulation_3d, tInd+1)\n",
    "            CC = getAsubsubdiag(simulation_3d, tInd+2)\n",
    "            yn = Ainv * (pn-BB@yn_1 -CC@yn_2)   \n",
    "        dAT_dm = getAdiagDeriv(simulation_3d, tInd, sol[:,tInd], v=None, adjoint=True) @ yn\n",
    "        if tInd == 0:\n",
    "            dAsubdiagT_dm = utils.Zero()\n",
    "            dAsubsubdiagT_dm = utils.Zero()\n",
    "        elif tInd == 1:\n",
    "            dAsubdiagT_dm = getAsubdiagDeriv(simulation_3d, tInd, sol[:,tInd-1], v=None, adjoint=True) @ yn\n",
    "            dAsubsubdiagT_dm = utils.Zero()\n",
    "        else:\n",
    "            dAsubdiagT_dm = getAsubdiagDeriv(simulation_3d, tInd, sol[:,tInd-1], v=None, adjoint=True) @ yn\n",
    "            dAsubsubdiagT_dm = getAsubsubdiagDeriv(simulation_3d, tInd, sol[:,tInd-2], v=None, adjoint=True) @ yn\n",
    "        J_matrixT = J_matrixT + -dAT_dm - dAsubdiagT_dm - dAsubsubdiagT_dm\n",
    "        yn_2 = yn_1\n",
    "        yn_1 = yn\n",
    "        dt_0 = dt\n",
    "    return J_matrixT.T"
   ]
  },
  {
   "cell_type": "code",
   "execution_count": 102,
   "metadata": {
    "iooxa": {
     "id": {
      "block": "mm1HOdpqYnggi0tHCNV1",
      "project": "jUfOExvamwk5Li9VLPqd",
      "version": 1
     },
     "outputId": null
    }
   },
   "outputs": [],
   "source": [
    "simulation_3d.model = sigma\n",
    "C = mesh.edgeCurl\n",
    "n_steps = simulation_3d.time_steps.size\n",
    "eps = 1e-10\n",
    "nE = mesh.n_edges\n",
    "nD = rx.nD\n",
    "nT = len(simulation_3d.time_steps)\n",
    "nM = mesh.n_cells\n",
    "dt_0 = 0.\n",
    "nC = mesh.n_cells\n",
    "yn = np.zeros((nE, nD), dtype=float, order='F')"
   ]
  },
  {
   "cell_type": "code",
   "execution_count": 103,
   "metadata": {
    "iooxa": {
     "id": {
      "block": "wnC8OE7TiYS6yHqZrDMy",
      "project": "jUfOExvamwk5Li9VLPqd",
      "version": 1
     },
     "outputId": {
      "block": "YT0TK5GKX1fGR1toWU0Y",
      "project": "jUfOExvamwk5Li9VLPqd",
      "version": 1
     }
    }
   },
   "outputs": [
    {
     "data": {
      "text/plain": [
       "(1410, 31)"
      ]
     },
     "execution_count": 103,
     "metadata": {},
     "output_type": "execute_result"
    }
   ],
   "source": [
    "yn.shape"
   ]
  },
  {
   "cell_type": "markdown",
   "metadata": {
    "iooxa": {
     "id": {
      "block": "n54r1Xk7pGH6p3e5QGI2",
      "project": "jUfOExvamwk5Li9VLPqd",
      "version": 1
     }
    },
    "user_expressions": []
   },
   "source": [
    "g1^T @ yn\n",
    "[MxnE][nExnD]"
   ]
  },
  {
   "cell_type": "markdown",
   "metadata": {
    "iooxa": {
     "id": {
      "block": "Bpa2WQ13C2B40AlPF1pT",
      "project": "jUfOExvamwk5Li9VLPqd",
      "version": 1
     }
    },
    "user_expressions": []
   },
   "source": [
    "J^T = G^T y = [g1^T, g2^T, g3^T] @  [y1, y2, y3]\n",
    " = g1^T @ y1 + g2^T @ y2 + ... + gn^T @ yn"
   ]
  },
  {
   "cell_type": "code",
   "execution_count": 104,
   "metadata": {
    "iooxa": {
     "id": {
      "block": "9Bpn4dwVAgQy6Lp2AeRF",
      "project": "jUfOExvamwk5Li9VLPqd",
      "version": 1
     },
     "outputId": {
      "block": "Rt6lJsWEUanfEDtROUC8",
      "project": "jUfOExvamwk5Li9VLPqd",
      "version": 1
     }
    }
   },
   "outputs": [
    {
     "name": "stdout",
     "output_type": "stream",
     "text": [
      "CPU times: user 3.9 s, sys: 1.13 s, total: 5.03 s\n",
      "Wall time: 504 ms\n"
     ]
    }
   ],
   "source": [
    "%%time\n",
    "# J_sigma = get_J_sigma_bdf1(sigma)\n",
    "J_sigma = get_J_sigma_bdf2(sigma)"
   ]
  },
  {
   "cell_type": "code",
   "execution_count": 105,
   "metadata": {
    "iooxa": {
     "id": {
      "block": "udBvmO5LZlm6r6x9vrGO",
      "project": "jUfOExvamwk5Li9VLPqd",
      "version": 1
     },
     "outputId": null
    }
   },
   "outputs": [],
   "source": [
    "v = np.random.randn(rx.nD)"
   ]
  },
  {
   "cell_type": "code",
   "execution_count": 106,
   "metadata": {
    "iooxa": {
     "id": {
      "block": "jfAXAEV7DPhiEdOgf1cE",
      "project": "jUfOExvamwk5Li9VLPqd",
      "version": 1
     },
     "outputId": null
    }
   },
   "outputs": [],
   "source": [
    "Jtv = simulation_3d_test.Jtvec(sigma, v)"
   ]
  },
  {
   "cell_type": "code",
   "execution_count": 107,
   "metadata": {
    "iooxa": {
     "id": {
      "block": "gtBl2bMfj7OpWCNsOYb5",
      "project": "jUfOExvamwk5Li9VLPqd",
      "version": 1
     },
     "outputId": {
      "block": "GS7l7jt3hH6OuxnHZh6K",
      "project": "jUfOExvamwk5Li9VLPqd",
      "version": 1
     }
    }
   },
   "outputs": [],
   "source": [
    "# fig, ax = plt.subplots(figsize = (5,4))\n",
    "# plt.plot(J_sigma.T @ v,)\n",
    "# plt.plot(Jtv, '.', ms=5,)"
   ]
  },
  {
   "cell_type": "code",
   "execution_count": 108,
   "metadata": {
    "iooxa": {
     "id": {
      "block": "t6v2hyR5sRYSPuEDpopB",
      "project": "jUfOExvamwk5Li9VLPqd",
      "version": 1
     }
    },
    "user_expressions": []
   },
   "outputs": [],
   "source": [
    "# def dpred(m):\n",
    "#     sigma = mapping * m    \n",
    "#     _, dpred = bdf1(sigma)\n",
    "#     return dpred\n",
    "\n",
    "# def dpred_dm(m, obs):\n",
    "#     sigma = mapping * m\n",
    "#     uncert = abs(obs) * 0.03\n",
    "#     return utils.sdiag(1./uncert) @ get_J_sigma_bdf1(sigma) * mapping.deriv(m)\n",
    "\n",
    "# def data_misfit(m, obs):\n",
    "#     pred = dpred(m)\n",
    "#     uncert = abs(obs) * 0.03\n",
    "#     r = (pred-obs) / uncert\n",
    "#     return np.linalg.norm(r)**2\n",
    "\n",
    "# def data_misfit_dm(m, obs):\n",
    "#     pred = dpred(m)\n",
    "#     uncert = abs(obs) * 0.03\n",
    "#     r = (pred-obs) / uncert\n",
    "#     J = dpred_dm(m, obs)\n",
    "#     return 2*J.T@r"
   ]
  },
  {
   "cell_type": "code",
   "execution_count": 109,
   "metadata": {
    "iooxa": {
     "id": {
      "block": "cJF6mX087JaKPVmzOke2",
      "project": "jUfOExvamwk5Li9VLPqd",
      "version": 1
     },
     "outputId": null
    }
   },
   "outputs": [],
   "source": [
    "def dpred(m):\n",
    "    sigma = mapping * m    \n",
    "    _, dpred = bdf2(sigma)\n",
    "    return dpred\n",
    "\n",
    "def dpred_dm(m, obs):\n",
    "    sigma = mapping * m\n",
    "    uncert = abs(obs) * 0.03\n",
    "    return utils.sdiag(1./uncert) @ get_J_sigma_bdf2(sigma) * mapping.deriv(m)\n",
    "\n",
    "def data_misfit(m, obs):\n",
    "    pred = dpred(m)\n",
    "    uncert = abs(obs) * 0.03\n",
    "    r = (pred-obs) / uncert\n",
    "    return np.linalg.norm(r)**2\n",
    "\n",
    "def data_misfit_dm(m, obs):\n",
    "    pred = dpred(m)\n",
    "    uncert = abs(obs) * 0.03\n",
    "    r = (pred-obs) / uncert\n",
    "    J = dpred_dm(m, obs)\n",
    "    return 2*J.T@r"
   ]
  },
  {
   "cell_type": "code",
   "execution_count": 110,
   "metadata": {
    "iooxa": {
     "id": {
      "block": "qoJbVGTIb4h1JhTjzGku",
      "project": "jUfOExvamwk5Li9VLPqd",
      "version": 1
     },
     "outputId": null
    }
   },
   "outputs": [],
   "source": [
    "m_true = np.ones(active.sum()) * np.log(1./20.)\n",
    "m_0 = m_true * 2"
   ]
  },
  {
   "cell_type": "code",
   "execution_count": 111,
   "metadata": {
    "iooxa": {
     "id": {
      "block": "37QZr4FnTbsAvJQBfcPr",
      "project": "jUfOExvamwk5Li9VLPqd",
      "version": 1
     },
     "outputId": {
      "block": "zxxVTM6Y9ew9amlWlKcE",
      "project": "jUfOExvamwk5Li9VLPqd",
      "version": 1
     }
    }
   },
   "outputs": [
    {
     "name": "stdout",
     "output_type": "stream",
     "text": [
      ">> 1.0e-01, 2.0e+07, 1.5e+06, nan\n",
      ">> 1.0e-02, 3.0e+05, 1.8e+02, 2.1\n",
      ">> 1.0e-03, 3.2e+03, 1.8e-02, 2.0\n",
      ">> 1.0e-04, 3.2e+01, 1.8e-06, 2.0\n"
     ]
    }
   ],
   "source": [
    "# Order test for BDF1 \n",
    "factors = [0.1, 0.01, 0.001, 0.0001]\n",
    "m_true = np.ones(active.sum()) * np.log(1./20.)\n",
    "m_0 = m_true * 2\n",
    "\n",
    "obs = dpred(m_true)\n",
    "dm0 = m_0*2\n",
    "\n",
    "order_1 = np.zeros(len(factors))\n",
    "order_2 = np.zeros(len(factors))\n",
    "\n",
    "for ii, factor in enumerate(factors):\n",
    "    dm = dm0 * factor\n",
    "    order_1[ii] = np.linalg.norm(\n",
    "        data_misfit(m_0+dm, obs)-data_misfit(m_0, obs)\n",
    "    )**2\n",
    "    order_2[ii] = np.linalg.norm(\n",
    "        data_misfit(m_0+dm, obs)-data_misfit(m_0, obs)-data_misfit_dm(m_0, obs).dot(dm.T)\n",
    "    )**2\n",
    "#     print (\">> {:.1e}, {:.1e}, {:.1e}\".format(factor, order_1[ii], order_2[ii]))\n",
    "    if ii > 0:\n",
    "        ratio_1 = order_1[ii]/order_1[ii-1]\n",
    "        ratio_2 = order_2[ii]/order_2[ii-1]\n",
    "        \n",
    "        print (\">> {:.1e}, {:.1e}, {:.1e}, {:.1f}\".format(factor, order_1[ii], order_2[ii], np.log10(ratio_1/ratio_2)))\n",
    "    else:\n",
    "        print (\">> {:.1e}, {:.1e}, {:.1e}, {:.1f}\".format(factor, order_1[ii], order_2[ii], np.nan))"
   ]
  },
  {
   "cell_type": "markdown",
   "metadata": {
    "iooxa": {
     "id": {
      "block": "woZUc7XEHSSrzKsXphNI",
      "project": "jUfOExvamwk5Li9VLPqd",
      "version": 1
     }
    },
    "user_expressions": []
   },
   "source": [
    "## Notes: \n",
    "\n",
    "- Using a combination of bdf2 - fwd and bdf1 - sensitivity does not provide the second order. \n",
    "- It seems the curruent SimPEG TDEM code has some errors. \n",
    "\n",
    "## TODOS: \n",
    "- Rederive equations for sensitivity-bdf1\n",
    "- Derive equations for sensitivity-bdf2\n",
    "- Implement sensitivity for bdf2\n",
    "- Extension for a general waveform\n",
    "- Extension for handling multiple sources\n",
    "- Put together as a simiulation class\n",
    "- Implementing a global simulation for inversion "
   ]
  },
  {
   "cell_type": "code",
   "execution_count": 112,
   "metadata": {
    "iooxa": {
     "id": {
      "block": "FYDQFtVdu7etWbf9Nfey",
      "project": "jUfOExvamwk5Li9VLPqd",
      "version": 1
     },
     "outputId": null
    }
   },
   "outputs": [],
   "source": [
    "# def dpred(m):\n",
    "#     return m**2 \n",
    "\n",
    "# def dpred_dm(m):\n",
    "#     return np.diag(2*m)\n",
    "\n",
    "# def data_misfit(m, obs):\n",
    "#     pred = dpred(m)\n",
    "#     r = pred-obs \n",
    "#     return np.linalg.norm(r)**2\n",
    "\n",
    "# def data_misfit_dm(m, obs):\n",
    "#     pred = dpred(m)\n",
    "#     r = pred-obs\n",
    "#     J = dpred_dm(m)\n",
    "#     return 2*J.T@r"
   ]
  },
  {
   "cell_type": "code",
   "execution_count": 113,
   "metadata": {
    "iooxa": {
     "id": {
      "block": "3FQB6Dab0horGVdFrUOr",
      "project": "jUfOExvamwk5Li9VLPqd",
      "version": 1
     },
     "outputId": null
    }
   },
   "outputs": [],
   "source": [
    "# plt.plot(J_matrix.flatten())\n",
    "# plt.plot(-JT.flatten())"
   ]
  },
  {
   "cell_type": "code",
   "execution_count": null,
   "metadata": {},
   "outputs": [],
   "source": []
  }
 ],
 "metadata": {
  "iooxa": {
   "id": {
    "block": "ZvYhbvwD5vaiofJEPFJr",
    "project": "jUfOExvamwk5Li9VLPqd",
    "version": 1
   }
  },
  "kernelspec": {
   "display_name": "Python 3 (ipykernel)",
   "language": "python",
   "name": "python3"
  },
  "language_info": {
   "codemirror_mode": {
    "name": "ipython",
    "version": 3
   },
   "file_extension": ".py",
   "mimetype": "text/x-python",
   "name": "python",
   "nbconvert_exporter": "python",
   "pygments_lexer": "ipython3",
   "version": "3.10.9"
  }
 },
 "nbformat": 4,
 "nbformat_minor": 4
}
