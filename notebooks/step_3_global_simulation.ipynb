{
 "cells": [
  {
   "cell_type": "code",
   "execution_count": 39,
   "id": "7eabcc94",
   "metadata": {},
   "outputs": [],
   "source": [
    "from discretize import TensorMesh, TreeMesh\n",
    "from SimPEG import utils\n",
    "import numpy as np\n",
    "import discretize\n",
    "from pymatsolver import PardisoSolver\n",
    "from simpegaem import create_local_mesh, SimulationAEM, run_simulation_time_domain\n",
    "from matplotlib import pyplot as plt\n",
    "from SimPEG import maps, utils\n",
    "import SimPEG.electromagnetics.time_domain as tdem\n",
    "\n",
    "def custom_waveform(t, tmax):\n",
    "    out = np.cos(0.5*np.pi*(t-tmax)/(tmax+0.02))\n",
    "    out[t>=tmax] = 1 + (t[t>=tmax] - tmax)/tmax\n",
    "    return out\n",
    "\n",
    "waveform_times = np.r_[np.linspace(-0.02, -0.011, 10), -np.logspace(-2, -6, 61), 0.]\n",
    "waveform_current = custom_waveform(waveform_times, -0.0055)\n",
    "general_waveform = tdem.sources.PiecewiseLinearWaveform(\n",
    "        times=waveform_times, currents=waveform_current, \n",
    "        has_initial_fields=True\n",
    ")\n",
    "\n",
    "receiver_location = np.array([0., 0., 30.])\n",
    "receiver_orientation = \"z\"                    # \"x\", \"y\" or \"z\"\n",
    "times_ch1 = np.logspace(-5.5, -2, 41)               # time channels\n",
    "times_ch2 = np.logspace(-5.5, -2, 31) \n",
    "\n",
    "receiver_list_ch1 = [\n",
    "    tdem.receivers.PointMagneticFluxTimeDerivative(\n",
    "        receiver_location, times_ch1, orientation=receiver_orientation\n",
    "    )\n",
    "]\n",
    "\n",
    "receiver_list_ch2 = [\n",
    "    tdem.receivers.PointMagneticFluxTimeDerivative(\n",
    "        receiver_location, times_ch2, orientation=receiver_orientation\n",
    "    )\n",
    "]\n",
    "\n",
    "source_location = np.array([0., 0., 30.])  \n",
    "source_radius = 10.\n",
    "current_amplitude = 1.\n",
    "\n",
    "source_list = []\n",
    "\n",
    "    \n",
    "# General Waveform\n",
    "source_list.append(\n",
    "    tdem.sources.CircularLoop(\n",
    "        receiver_list=receiver_list_ch1, location=source_location,\n",
    "        waveform=general_waveform, radius=source_radius, current=current_amplitude\n",
    "    ),\n",
    ")\n",
    "source_list.append(    \n",
    "    tdem.sources.CircularLoop(\n",
    "        receiver_list=receiver_list_ch2, location=source_location,\n",
    "        waveform=general_waveform, radius=source_radius, current=current_amplitude\n",
    "    )\n",
    "\n",
    ")\n",
    "\n",
    "# Survey\n",
    "survey = tdem.Survey(source_list)"
   ]
  },
  {
   "cell_type": "code",
   "execution_count": 40,
   "id": "59b064c2",
   "metadata": {},
   "outputs": [],
   "source": [
    "rx = receiver_list_ch1[0]"
   ]
  },
  {
   "cell_type": "code",
   "execution_count": 41,
   "id": "7da00ab2",
   "metadata": {},
   "outputs": [],
   "source": [
    "dx = 100\n",
    "dy = 100\n",
    "dz = 5\n",
    "hx = np.ones(100) * dx\n",
    "hy = np.ones(100) * dx\n",
    "hz = np.ones(60) * dz\n",
    "mesh =TensorMesh([hx, hy, hz], x0=[-hx.sum()/2, -hy.sum()/2, -hz.sum() + 30.])\n",
    "ind_active = mesh.gridCC[:,2]<0.\n",
    "sigma_aquifer = 1./50.\n",
    "sigma_aquitard = 1./15.\n",
    "\n",
    "sigma_global = np.ones(mesh.n_cells) * 1./1e8\n",
    "sigma_global[ind_active] = sigma_aquitard\n",
    "layer_salinas_aquitard_ind = np.logical_and(mesh.gridCC[:,2]<0., mesh.gridCC[:,2]>-30)\n",
    "layer_180_ft_aquifer = np.logical_and(mesh.gridCC[:,2]<-30., mesh.gridCC[:,2]>-80)\n",
    "layer_180_400_ft_aquitard = np.logical_and(mesh.gridCC[:,2]<-80., mesh.gridCC[:,2]>-100)\n",
    "layer_400_ft_aquifer = np.logical_and(mesh.gridCC[:,2]<-100., mesh.gridCC[:,2]>-160)\n",
    "sigma_global[layer_180_ft_aquifer] = sigma_aquifer\n",
    "sigma_global[layer_400_ft_aquifer] = sigma_aquifer"
   ]
  },
  {
   "cell_type": "code",
   "execution_count": 42,
   "id": "a775c82c",
   "metadata": {},
   "outputs": [],
   "source": [
    "from matplotlib.colors import LogNorm\n",
    "rho_global = 1./sigma_global\n",
    "rho_global[~ind_active] = np.nan"
   ]
  },
  {
   "cell_type": "code",
   "execution_count": 43,
   "id": "f51ada3c",
   "metadata": {},
   "outputs": [
    {
     "data": {
      "image/png": "[encoded data removed]",
      "text/plain": [
       "<Figure size 432x288 with 1 Axes>"
      ]
     },
     "metadata": {
      "needs_background": "light"
     },
     "output_type": "display_data"
    }
   ],
   "source": [
    "mesh.plotSlice(rho_global, normal='X', pcolor_opts={'norm':LogNorm(), 'cmap':'turbo'})\n",
    "plt.gca().set_aspect(10)"
   ]
  },
  {
   "cell_type": "code",
   "execution_count": 44,
   "id": "0b37bee5",
   "metadata": {},
   "outputs": [
    {
     "data": {
      "image/png": "[encoded data removed]",
      "text/plain": [
       "<Figure size 432x288 with 1 Axes>"
      ]
     },
     "metadata": {
      "needs_background": "light"
     },
     "output_type": "display_data"
    }
   ],
   "source": [
    "mesh.plotSlice(rho_global, normal='Z', pcolor_opts={'norm':LogNorm(), 'cmap':'turbo'})\n",
    "plt.gca().set_aspect(1)"
   ]
  },
  {
   "cell_type": "code",
   "execution_count": 45,
   "id": "75e05a6b",
   "metadata": {},
   "outputs": [],
   "source": [
    "topo_location = np.array([0, 0, 0])\n",
    "x = np.linspace(-4000, 4000)\n",
    "y = np.linspace(-4000, 4000)\n",
    "z = np.array([0.])\n",
    "topo = utils.ndgrid(x,y,z)\n",
    "mesh_tree = create_local_mesh(\n",
    "    source_location, receiver_location, topo_location,\n",
    "    padding_distance=[[4000., 4000.], [4000., 4000.], [4000., 4000.]]\n",
    ")"
   ]
  },
  {
   "cell_type": "code",
   "execution_count": 46,
   "id": "26df7b62",
   "metadata": {},
   "outputs": [
    {
     "data": {
      "text/plain": [
       "array([ 0.,  0., 30.])"
      ]
     },
     "execution_count": 46,
     "metadata": {},
     "output_type": "execute_result"
    }
   ],
   "source": [
    "receiver_location"
   ]
  },
  {
   "cell_type": "code",
   "execution_count": 47,
   "id": "a0d1b817",
   "metadata": {},
   "outputs": [],
   "source": [
    "def generate_time_steps(\n",
    "    n_constant_steps=15, increase_rate=3, start_time_step=5e-7, n_per_step=5\n",
    "):\n",
    "    time_steps = []\n",
    "    for i_step in range(n_constant_steps):\n",
    "        ht = np.ones(n_per_step) * start_time_step*increase_rate**i_step\n",
    "        time_steps.append(ht)\n",
    "    print(\"t_min:{:.1e}, t_max:{:.1e}\".format(start_time_step, np.sum(time_steps)))\n",
    "    return np.hstack(time_steps)"
   ]
  },
  {
   "cell_type": "code",
   "execution_count": 48,
   "id": "ca580f55",
   "metadata": {},
   "outputs": [],
   "source": [
    "P_global_to_local = discretize.utils.volume_average(mesh, mesh_tree)"
   ]
  },
  {
   "cell_type": "code",
   "execution_count": 49,
   "id": "2b57f53b",
   "metadata": {},
   "outputs": [],
   "source": [
    "sigma_local = P_global_to_local * sigma_global"
   ]
  },
  {
   "cell_type": "code",
   "execution_count": 50,
   "id": "3d7d7ebc",
   "metadata": {},
   "outputs": [
    {
     "data": {
      "text/plain": [
       "(-300.0, 300.0)"
      ]
     },
     "execution_count": 50,
     "metadata": {},
     "output_type": "execute_result"
    },
    {
     "data": {
      "image/png": "[encoded data removed]",
      "text/plain": [
       "<Figure size 432x288 with 1 Axes>"
      ]
     },
     "metadata": {
      "needs_background": "light"
     },
     "output_type": "display_data"
    }
   ],
   "source": [
    "mesh_tree.plot_slice(sigma_local, grid=True, normal='Y', pcolor_opts={'norm':LogNorm()})\n",
    "plt.xlim(-300, 300)\n",
    "plt.ylim(-300, 300)"
   ]
  },
  {
   "cell_type": "code",
   "execution_count": 51,
   "id": "c8dc2a48",
   "metadata": {},
   "outputs": [
    {
     "data": {
      "text/plain": [
       "[<SimPEG.electromagnetics.time_domain.sources.CircularLoop at 0x23f5e49dd30>,\n",
       " <SimPEG.electromagnetics.time_domain.sources.CircularLoop at 0x23f5e49dd90>]"
      ]
     },
     "execution_count": 51,
     "metadata": {},
     "output_type": "execute_result"
    }
   ],
   "source": [
    "survey.source_list"
   ]
  },
  {
   "cell_type": "code",
   "execution_count": 52,
   "id": "dd827bab",
   "metadata": {},
   "outputs": [
    {
     "name": "stdout",
     "output_type": "stream",
     "text": [
      "t_min:5.0e-07, t_max:4.1e-02\n"
     ]
    }
   ],
   "source": [
    "simulation_3d = SimulationAEM(\n",
    "    mesh=mesh_tree, survey=survey, sigmaMap=maps.IdentityMap(mesh_tree),\n",
    "    solver=PardisoSolver\n",
    ")\n",
    "time_steps = generate_time_steps(n_constant_steps=14, increase_rate=2, start_time_step=5e-7, n_per_step=5)\n",
    "simulation_3d.time_steps = time_steps"
   ]
  },
  {
   "cell_type": "code",
   "execution_count": 53,
   "id": "a1ff360e",
   "metadata": {},
   "outputs": [
    {
     "data": {
      "text/plain": [
       "(3796,)"
      ]
     },
     "execution_count": 53,
     "metadata": {},
     "output_type": "execute_result"
    }
   ],
   "source": [
    "sigma_local.shape"
   ]
  },
  {
   "cell_type": "code",
   "execution_count": 54,
   "id": "9781da71",
   "metadata": {},
   "outputs": [
    {
     "data": {
      "text/plain": [
       "3796"
      ]
     },
     "execution_count": 54,
     "metadata": {},
     "output_type": "execute_result"
    }
   ],
   "source": [
    "mesh_tree.n_cells"
   ]
  },
  {
   "cell_type": "code",
   "execution_count": 55,
   "id": "8fede2aa",
   "metadata": {},
   "outputs": [],
   "source": [
    "# %%time\n",
    "# d_off = simulation_3d.dpred(sigma_local)"
   ]
  },
  {
   "cell_type": "code",
   "execution_count": 56,
   "id": "2066fb24",
   "metadata": {},
   "outputs": [],
   "source": [
    "# def run_simulation_time_domain(args):\n",
    "#     source_list, mesh_local, sigma_local, time_steps = args  \n",
    "#     survey = tdem.Survey(source_list)\n",
    "#     simulation_3d = SimulationAEM(\n",
    "#         mesh=mesh_local, \n",
    "#         survey=survey, \n",
    "#         sigmaMap=maps.IdentityMap(mesh_local),\n",
    "#         solver=PardisoSolver,\n",
    "#         time_steps=time_steps\n",
    "#     )\n",
    "#     dpred = simulation_3d.dpred(sigma_local)\n",
    "#     return dpred"
   ]
  },
  {
   "cell_type": "code",
   "execution_count": 57,
   "id": "c6ea80da",
   "metadata": {},
   "outputs": [],
   "source": [
    "args = (source_list[0], sigma_local, mesh_tree, time_steps)\n",
    "dpred = run_simulation_time_domain(args)"
   ]
  },
  {
   "cell_type": "code",
   "execution_count": 58,
   "id": "95b6928f",
   "metadata": {},
   "outputs": [
    {
     "data": {
      "text/plain": [
       "[<matplotlib.lines.Line2D at 0x23f6c9ea7c0>]"
      ]
     },
     "execution_count": 58,
     "metadata": {},
     "output_type": "execute_result"
    },
    {
     "data": {
      "image/png": "[encoded data removed]",
      "text/plain": [
       "<Figure size 432x288 with 1 Axes>"
      ]
     },
     "metadata": {
      "needs_background": "light"
     },
     "output_type": "display_data"
    }
   ],
   "source": [
    "plt.loglog(times_ch1, -dpred[:times_ch1.size])"
   ]
  },
  {
   "cell_type": "code",
   "execution_count": null,
   "id": "0ee499fa",
   "metadata": {},
   "outputs": [],
   "source": []
  },
  {
   "cell_type": "code",
   "execution_count": 59,
   "id": "cad5179c",
   "metadata": {},
   "outputs": [],
   "source": [
    "x = np.linspace(-4000, 4000, 11)\n",
    "y = np.linspace(-4000, 4000, 3)\n",
    "z = np.array([0.])\n",
    "topo = utils.ndgrid(x, y, z)"
   ]
  },
  {
   "cell_type": "code",
   "execution_count": 60,
   "id": "a36e2e9d",
   "metadata": {},
   "outputs": [],
   "source": [
    "receiver_orientation = \"z\"                    # \"x\", \"y\" or \"z\"\n",
    "times = np.logspace(-5.5, -2, 41)               # time channels\n",
    "source_radius = 10.\n",
    "current_amplitude = 1.\n",
    "source_list = []\n",
    "n_src = topo.shape[0]\n",
    "\n",
    "for i_src in range(n_src):\n",
    "    source_location = np.array([topo[i_src,0], topo[i_src,1], topo[i_src,2]+30.])\n",
    "    receiver_location = np.array([topo[i_src,0], topo[i_src,1], topo[i_src,2]+30.])\n",
    "\n",
    "    receiver_list = [\n",
    "        tdem.receivers.PointMagneticFluxTimeDerivative(\n",
    "            receiver_location, times, orientation=receiver_orientation\n",
    "        )\n",
    "    ]\n",
    "\n",
    "    # General Waveform\n",
    "    source_list.append(\n",
    "        tdem.sources.CircularLoop(\n",
    "            receiver_list=receiver_list, location=source_location,\n",
    "            waveform=general_waveform, radius=source_radius, current=current_amplitude\n",
    "        ),\n",
    "    )\n",
    "\n",
    "# Survey\n",
    "survey = tdem.Survey(source_list)"
   ]
  },
  {
   "cell_type": "code",
   "execution_count": 61,
   "id": "9860d59a",
   "metadata": {},
   "outputs": [],
   "source": [
    "from simpegaem import GlobalSimulationAEM\n",
    "sim = GlobalSimulationAEM(\n",
    "    mesh=mesh, \n",
    "    topo=topo, \n",
    "    sigmaMap=maps.IdentityMap(mesh), \n",
    "    survey=survey, \n",
    "    time_steps=time_steps, \n",
    "    parallel=False,\n",
    "    n_cpu=4\n",
    ")"
   ]
  },
  {
   "cell_type": "code",
   "execution_count": 69,
   "id": "a05b6578",
   "metadata": {},
   "outputs": [
    {
     "name": "stdout",
     "output_type": "stream",
     "text": [
      ">> Serial version is used\n"
     ]
    }
   ],
   "source": []
  },
  {
   "cell_type": "code",
   "execution_count": 70,
   "id": "f5e2b449",
   "metadata": {},
   "outputs": [],
   "source": [
    "# %%time\n",
    "# sim._get_P_global_to_locals()"
   ]
  },
  {
   "cell_type": "code",
   "execution_count": 71,
   "id": "2fb6b650",
   "metadata": {},
   "outputs": [
    {
     "name": "stdout",
     "output_type": "stream",
     "text": [
      "Wall time: 1min 10s\n"
     ]
    }
   ],
   "source": [
    "%%time\n",
    "dpred = sim.dpred(sigma_global)"
   ]
  },
  {
   "cell_type": "code",
   "execution_count": 68,
   "id": "84afb121",
   "metadata": {},
   "outputs": [
    {
     "data": {
      "text/plain": [
       "array([[-2.77784955e-08, -2.59122801e-08, -2.40124403e-08, ...,\n",
       "        -6.60487461e-11, -5.01958450e-11, -3.76927546e-11],\n",
       "       [-2.80148557e-11, -2.05118863e-11, -1.45949142e-11, ...,\n",
       "        -6.50219437e-10, -4.87839145e-10, -3.65157181e-10],\n",
       "       [-2.71613027e-10, -2.03026562e-10, -1.52882590e-10, ...,\n",
       "        -4.97448022e-09, -4.02329749e-09, -3.21184283e-09],\n",
       "       ...,\n",
       "       [-3.65157181e-10, -2.71613027e-10, -2.03026562e-10, ...,\n",
       "        -6.05166218e-09, -4.97448022e-09, -4.02329749e-09],\n",
       "       [-3.21184283e-09, -2.53080189e-09, -1.96160290e-09, ...,\n",
       "        -1.83887841e-08, -1.65721583e-08, -1.47976665e-08],\n",
       "       [-1.30997065e-08, -1.14949023e-08, -9.97717866e-09, ...,\n",
       "        -4.70787336e-12, -3.11449364e-12, -2.06861500e-12]])"
      ]
     },
     "execution_count": 68,
     "metadata": {},
     "output_type": "execute_result"
    }
   ],
   "source": [
    "dpred.reshape((times.size, n_src))"
   ]
  },
  {
   "cell_type": "code",
   "execution_count": null,
   "id": "36da89e7",
   "metadata": {},
   "outputs": [],
   "source": []
  }
 ],
 "metadata": {
  "kernelspec": {
   "display_name": "Python 3",
   "language": "python",
   "name": "python3"
  },
  "language_info": {
   "codemirror_mode": {
    "name": "ipython",
    "version": 3
   },
   "file_extension": ".py",
   "mimetype": "text/x-python",
   "name": "python",
   "nbconvert_exporter": "python",
   "pygments_lexer": "ipython3",
   "version": "3.8.8"
  }
 },
 "nbformat": 4,
 "nbformat_minor": 5
}
