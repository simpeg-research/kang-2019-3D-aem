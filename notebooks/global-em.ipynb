{
 "cells": [
  {
   "cell_type": "code",
   "execution_count": 1,
   "metadata": {},
   "outputs": [],
   "source": [
    "from SimPEG import Mesh, Utils, EM, Maps\n",
    "from pymatsolver import Pardiso\n",
    "from scipy.constants import mu_0\n",
    "import numpy as np\n",
    "import matplotlib.pyplot as plt\n",
    "%matplotlib inline\n",
    "from pyMKL import mkl_set_num_threads\n",
    "from multiprocessing import Pool\n",
    "from SimPEG import Mesh\n",
    "from simpegskytem import (\n",
    "    ProblemSkyTEM, GlobalAEMSurveyTD, \n",
    "    GlobalSkyTEM, get_skytem_survey\n",
    ")"
   ]
  },
  {
   "cell_type": "code",
   "execution_count": 2,
   "metadata": {},
   "outputs": [],
   "source": [
    "data_dir = \"/Users/sgkang/Dropbox/Stanford/Resolution/aarhusinv/em1dinv_examples/notebooks/\""
   ]
  },
  {
   "cell_type": "code",
   "execution_count": 3,
   "metadata": {},
   "outputs": [],
   "source": [
    "# generate mesh\n",
    "hx = np.ones(200) * 50\n",
    "hy = np.ones(40) * 250\n",
    "hz = np.ones(100) * 5\n",
    "mesh_global = Mesh.TensorMesh([hx, hy, hz], x0=[-hx.sum()/2., -hy.sum()/2., -hz.sum() + 50.])\n",
    "\n",
    "# generate survey\n",
    "x_inds = np.argwhere(np.logical_and(mesh_global.vectorCCx > -4000, mesh_global.vectorCCx < 4000))[::20]\n",
    "y_inds = np.argwhere(np.logical_and(mesh_global.vectorCCy > -4000, mesh_global.vectorCCy < 4000))[::20]\n",
    "x = mesh_global.vectorCCx[x_inds]\n",
    "y = mesh_global.vectorCCy[y_inds]\n",
    "src_locations = Utils.ndgrid(x, y, np.r_[30.])\n",
    "rx_locations = Utils.ndgrid(x+13.25, y, np.r_[30.+2.])\n",
    "topo = Utils.ndgrid(x, y, np.r_[0.])\n",
    "source_area = 536.36\n",
    "waveform_hm = np.loadtxt(data_dir+\"HM_butte_304.txt\")\n",
    "time_gates_hm = np.loadtxt(data_dir+\"HM_butte_304_gates\")[7:,:] * 1e-6\n",
    "waveform_lm = np.loadtxt(data_dir+\"LM_butte_304.txt\")\n",
    "time_gates_lm = np.loadtxt(data_dir+\"LM_butte_304_gates\")[8:,:] * 1e-6\n",
    "\n",
    "time_input_currents_HM = waveform_hm[:,0]\n",
    "input_currents_HM = waveform_hm[:,1]\n",
    "time_input_currents_LM = waveform_lm[:,0]\n",
    "input_currents_LM = waveform_lm[:,1]\n",
    "    \n",
    "time_LM = time_gates_lm[:,3] - waveform_lm[:,0].max()\n",
    "time_HM = time_gates_hm[:,3] - waveform_hm[:,0].max()\n",
    "n_sounding = src_locations.shape[0]"
   ]
  },
  {
   "cell_type": "code",
   "execution_count": 74,
   "metadata": {},
   "outputs": [],
   "source": [
    "actv = mesh_global.gridCC[:,2] < 0.\n",
    "sigma = np.ones(mesh_global.nC) * 1e-8\n",
    "sigma_background = 1./20.\n",
    "sigma_target = 1./5.\n",
    "thickness = np.array([50, 10], dtype=float)\n",
    "depth = -np.cumsum(thickness)\n",
    "inds = np.logical_and(mesh_global.gridCC[:,2]<depth[0], mesh_global.gridCC[:,2]>depth[1])\n",
    "sigma[actv] = sigma_background\n",
    "sigma[inds] = sigma_target\n",
    "sigma[(mesh_global.gridCC[:,0]<0.) & actv] = sigma_background"
   ]
  },
  {
   "cell_type": "code",
   "execution_count": 75,
   "metadata": {},
   "outputs": [
    {
     "data": {
      "text/plain": [
       "(<matplotlib.collections.QuadMesh at 0x1a24921278>,)"
      ]
     },
     "execution_count": 75,
     "metadata": {},
     "output_type": "execute_result"
    },
    {
     "data": {
      "image/png": "[encoded data removed]",
      "text/plain": [
       "<Figure size 432x288 with 1 Axes>"
      ]
     },
     "metadata": {
      "needs_background": "light"
     },
     "output_type": "display_data"
    }
   ],
   "source": [
    "mesh_global.plotSlice(sigma, normal='Y')"
   ]
  },
  {
   "cell_type": "code",
   "execution_count": 76,
   "metadata": {},
   "outputs": [],
   "source": [
    "def get_skytem_survey(\n",
    "    topo,\n",
    "    src_locations,\n",
    "    rx_locations,\n",
    "    time,\n",
    "    time_input_currents,\n",
    "    input_currents,\n",
    "    base_frequency=25,\n",
    "    src_type=\"VMD\",\n",
    "    rx_type=\"dBzdt\",    \n",
    "    moment_type=\"dual\",        \n",
    "    time_dual_moment=None,\n",
    "    time_input_currents_dual_moment=None,\n",
    "    input_currents_dual_moment=None,\n",
    "    base_frequency_dual_moment=210,\n",
    "    wave_type=\"general\",    \n",
    "    field_type=\"secondary\",\n",
    "    \n",
    "):\n",
    "    \n",
    "    n_sounding = src_locations.shape[0]    \n",
    "    time_list = [time for i in range(n_sounding)]\n",
    "    time_dual_moment_list = [time_dual_moment for i in range(n_sounding)]\n",
    "    src_type_array = np.array([src_type], dtype=str).repeat(n_sounding)\n",
    "    rx_type_array = np.array([rx_type], dtype=str).repeat(n_sounding)\n",
    "    wave_type_array = np.array([wave_type], dtype=str).repeat(n_sounding)    \n",
    "    field_type_array = np.array([field_type], dtype=str).repeat(n_sounding)  \n",
    "    input_currents_list=[input_currents_HM for i in range(n_sounding)]\n",
    "    time_input_currents_list=[time_input_currents_HM for i in range(n_sounding)]\n",
    "    base_frequency_array = np.array([base_frequency]).repeat(n_sounding)\n",
    "    input_currents_dual_moment_list =[input_currents_LM for i in range(n_sounding)]\n",
    "    time_input_currents_dual_moment_list =[time_input_currents_LM for i in range(n_sounding)]\n",
    "    base_frequency_dual_moment_list = np.array([base_frequency_dual_moment]).repeat(n_sounding)\n",
    "    moment_type_array = np.array([moment_type], dtype=str).repeat(n_sounding)    \n",
    "    \n",
    "    survey = GlobalAEMSurveyTD(\n",
    "        topo = topo,\n",
    "        src_locations = src_locations,\n",
    "        rx_locations = rx_locations,\n",
    "        src_type = src_type_array,\n",
    "        rx_type = rx_type_array,\n",
    "        field_type = field_type,\n",
    "        time = time_list,\n",
    "        wave_type = wave_type_array,\n",
    "        moment_type = moment_type_array,\n",
    "        time_input_currents = time_input_currents_list,\n",
    "        input_currents = input_currents_list,\n",
    "        base_frequency = base_frequency_array,\n",
    "        time_dual_moment = time_dual_moment_list,\n",
    "        time_input_currents_dual_moment = time_input_currents_dual_moment_list,\n",
    "        input_currents_dual_moment = input_currents_dual_moment_list,\n",
    "        base_frequency_dual_moment = base_frequency_dual_moment_list,\n",
    "    )    \n",
    "    \n",
    "    return survey"
   ]
  },
  {
   "cell_type": "code",
   "execution_count": 77,
   "metadata": {},
   "outputs": [],
   "source": [
    "from SimPEG import Maps"
   ]
  },
  {
   "cell_type": "code",
   "execution_count": 78,
   "metadata": {},
   "outputs": [
    {
     "name": "stdout",
     "output_type": "stream",
     "text": [
      ">> Set parameters\n"
     ]
    }
   ],
   "source": [
    "survey = get_skytem_survey(\n",
    "    topo,\n",
    "    src_locations,\n",
    "    rx_locations,\n",
    "    time_HM,\n",
    "    time_input_currents_HM,\n",
    "    input_currents_HM,\n",
    "    25.,\n",
    "    src_type=\"VMD\",\n",
    "    rx_type=\"dBzdt\",    \n",
    "    moment_type=\"dual\",        \n",
    "    time_dual_moment=time_LM,\n",
    "    time_input_currents_dual_moment=time_input_currents_LM,\n",
    "    input_currents_dual_moment=input_currents_LM,\n",
    "    base_frequency_dual_moment=210.,\n",
    "    wave_type=\"general\",    \n",
    "    field_type=\"secondary\",    \n",
    ")\n",
    "\n",
    "simulation = GlobalSkyTEM(mesh_global, sigma=sigma, actv=actv)\n",
    "simulation.pair(survey)"
   ]
  },
  {
   "cell_type": "code",
   "execution_count": 79,
   "metadata": {},
   "outputs": [],
   "source": [
    "# write inputs to the disk\n",
    "simulation.write_inputs_on_disk_pool()"
   ]
  },
  {
   "cell_type": "code",
   "execution_count": 80,
   "metadata": {},
   "outputs": [],
   "source": [
    "# run \n",
    "data = simulation.forward(sigma)"
   ]
  },
  {
   "cell_type": "code",
   "execution_count": 81,
   "metadata": {},
   "outputs": [],
   "source": [
    "simulation.clean_work_dir()"
   ]
  },
  {
   "cell_type": "code",
   "execution_count": 82,
   "metadata": {},
   "outputs": [],
   "source": [
    "DATA = data.reshape((time_HM.size + time_LM.size, survey.n_sounding), order='F')"
   ]
  },
  {
   "cell_type": "code",
   "execution_count": 83,
   "metadata": {},
   "outputs": [],
   "source": [
    "from simpegEM1D import EM1D, EM1DSurveyTD, Utils1D, get_vertical_discretization_time, set_mesh_1d, piecewise_pulse\n",
    "from SimPEG import Maps\n",
    "def simulation(src_type, n_pulse=1, use_lowpass_filter=False):\n",
    "    hz = np.r_[thickness.copy(), 1e3]\n",
    "    mesh1D = set_mesh_1d(hz)\n",
    "    depth = -mesh1D.gridN[:-1]\n",
    "\n",
    "    if src_type == \"CircularLoop\":\n",
    "        # Effective radius\n",
    "        radius = np.sqrt(source_area/np.pi)        \n",
    "        TDsurvey = EM1DSurveyTD(\n",
    "            rx_location = np.array([0., 0., 100.+30.]),\n",
    "            src_location = np.array([0., 0., 100.+30.]),\n",
    "            topo = np.r_[0., 0., 100.],\n",
    "            depth = depth,\n",
    "            rx_type = 'dBzdt',\n",
    "            wave_type = 'general',\n",
    "            src_type = 'CircularLoop',    \n",
    "            I = 1,    \n",
    "            a = radius,\n",
    "            time = time_HM,\n",
    "            time_input_currents=time_input_currents_HM,\n",
    "            input_currents=input_currents_HM,\n",
    "            n_pulse = n_pulse,\n",
    "            base_frequency = 25.,\n",
    "            use_lowpass_filter=use_lowpass_filter,\n",
    "            high_cut_frequency=210*1e3,\n",
    "            moment_type='dual',\n",
    "            time_dual_moment = time_LM,    \n",
    "            time_input_currents_dual_moment=time_input_currents_LM,\n",
    "            input_currents_dual_moment=input_currents_LM,\n",
    "            base_frequency_dual_moment=210,    \n",
    "        )\n",
    "    elif src_type == \"VMD\":\n",
    "        TDsurvey = EM1DSurveyTD(\n",
    "            rx_location = np.array([0., 0., 100.+30.+2.]),\n",
    "            src_location = np.array([0., 0., 100.+30.]),\n",
    "            topo = np.r_[0., 0., 100.],\n",
    "            depth = depth,\n",
    "            rx_type = 'dBzdt',\n",
    "            wave_type = 'general',\n",
    "            src_type = 'VMD',    \n",
    "            offset=np.array([13.25]),\n",
    "            I = 1.,\n",
    "            time = time_HM,\n",
    "            time_input_currents=time_input_currents_HM,\n",
    "            input_currents=input_currents_HM,\n",
    "            n_pulse = n_pulse,\n",
    "            base_frequency = 25.,\n",
    "            use_lowpass_filter=use_lowpass_filter,\n",
    "            high_cut_frequency=210*1e3,\n",
    "            moment_type='dual',\n",
    "            time_dual_moment = time_LM,    \n",
    "            time_input_currents_dual_moment=time_input_currents_LM,\n",
    "            input_currents_dual_moment=input_currents_LM,\n",
    "            base_frequency_dual_moment=210,    \n",
    "        )\n",
    "    chi_half = 0.\n",
    "    expmap = Maps.ExpMap(mesh1D)\n",
    "    prob = EM1D(mesh1D, sigmaMap=expmap, verbose=False)\n",
    "    m_true = np.log(1./resistivity)\n",
    "    if prob.ispaired:\n",
    "        prob.unpair()\n",
    "    if TDsurvey.ispaired:\n",
    "        TDsurvey.unpair()\n",
    "    prob.pair(TDsurvey)\n",
    "    prob.chi = np.zeros(TDsurvey.n_layer)\n",
    "    d_true = -TDsurvey.dpred(m_true)\n",
    "    return d_true"
   ]
  },
  {
   "cell_type": "code",
   "execution_count": 84,
   "metadata": {},
   "outputs": [],
   "source": [
    "resistivity_background = 1./sigma_background\n",
    "resistivity_target = 1./sigma_target\n",
    "resistivity = np.array([resistivity_background, resistivity_target, resistivity_background], dtype=float)\n",
    "source_area = 536.36"
   ]
  },
  {
   "cell_type": "code",
   "execution_count": 85,
   "metadata": {},
   "outputs": [],
   "source": [
    "temp = simulation('VMD')"
   ]
  },
  {
   "cell_type": "code",
   "execution_count": 86,
   "metadata": {},
   "outputs": [],
   "source": [
    "from ipywidgets import interact, IntSlider"
   ]
  },
  {
   "cell_type": "code",
   "execution_count": 87,
   "metadata": {},
   "outputs": [],
   "source": [
    "def foo (i_sounding):\n",
    "    data_hm = DATA[:time_HM.size,i_sounding]\n",
    "    data_lm = DATA[time_HM.size:,i_sounding]\n",
    "\n",
    "    plt.loglog(time_HM, temp[:time_HM.size], 'k')\n",
    "    plt.loglog(time_LM, temp[time_HM.size:], 'r')\n",
    "    plt.loglog(time_HM, -data_hm, 'k.')\n",
    "    plt.loglog(time_LM, -data_lm, 'r.')"
   ]
  },
  {
   "cell_type": "code",
   "execution_count": 88,
   "metadata": {},
   "outputs": [
    {
     "data": {
      "application/vnd.jupyter.widget-view+json": {
       "model_id": "ba28b255e4d24383a585002dbaa4c55a",
       "version_major": 2,
       "version_minor": 0
      },
      "text/plain": [
       "interactive(children=(IntSlider(value=0, description='i_sounding', max=15), Output()), _dom_classes=('widget-i…"
      ]
     },
     "metadata": {},
     "output_type": "display_data"
    },
    {
     "data": {
      "text/plain": [
       "<function __main__.foo(i_sounding)>"
      ]
     },
     "execution_count": 88,
     "metadata": {},
     "output_type": "execute_result"
    }
   ],
   "source": [
    "interact(foo, i_sounding=IntSlider(min=0, max=survey.n_sounding-1, value=0))"
   ]
  }
 ],
 "metadata": {
  "kernelspec": {
   "display_name": "Python 3",
   "language": "python",
   "name": "python3"
  },
  "language_info": {
   "codemirror_mode": {
    "name": "ipython",
    "version": 3
   },
   "file_extension": ".py",
   "mimetype": "text/x-python",
   "name": "python",
   "nbconvert_exporter": "python",
   "pygments_lexer": "ipython3",
   "version": "3.7.3"
  }
 },
 "nbformat": 4,
 "nbformat_minor": 2
}
