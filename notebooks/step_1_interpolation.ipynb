{
 "cells": [
  {
   "cell_type": "code",
   "execution_count": 162,
   "id": "292df973",
   "metadata": {},
   "outputs": [],
   "source": [
    "from discretize import TensorMesh, TreeMesh\n",
    "from SimPEG import utils\n",
    "import matplotlib.pyplot as plt\n",
    "import numpy as np\n",
    "import discretize\n",
    "def create_local_mesh(\n",
    "    src_location,\n",
    "    rx_location,\n",
    "    topo_location,\n",
    "    topo,\n",
    "    h = [10., 10., 5.],\n",
    "    x_core_lim = (-100., 100.),\n",
    "    y_core_lim = (-20., 20.),\n",
    "    ):\n",
    "\n",
    "    # TODO: All parameters used for generating this mesh should be input parameters\n",
    "    # Currently fixed for a specific case\n",
    "\n",
    "    xyz = np.vstack((rx_location, src_location))\n",
    "    x = np.linspace(x_core_lim[0], x_core_lim[1]) + src_location[0]\n",
    "    y = np.linspace(y_core_lim[0], y_core_lim[1]) + src_location[1]\n",
    "    dem = utils.ndgrid(x, y, np.r_[topo_location[2]])\n",
    "\n",
    "    mesh_local = discretize.utils.mesh_builder_xyz(\n",
    "        dem,\n",
    "        h,\n",
    "        padding_distance=[[2000., 2000.], [2000., 2000.], [2000., 2000.]],\n",
    "        base_mesh=None,\n",
    "        depth_core=None,\n",
    "        expansion_factor=1.3,\n",
    "        mesh_type='tree'\n",
    "    )\n",
    "\n",
    "    mesh_local = discretize.utils.refine_tree_xyz(\n",
    "        mesh_local,\n",
    "        dem,\n",
    "        method='surface',\n",
    "        octree_levels=[5, 10, 10],\n",
    "        octree_levels_padding=None,\n",
    "        finalize=False,\n",
    "        min_level=0,\n",
    "        max_distance=np.inf,\n",
    "    )\n",
    "\n",
    "\n",
    "    mesh_local = discretize.utils.refine_tree_xyz(\n",
    "        mesh_local,\n",
    "        xyz,\n",
    "        method='radial',\n",
    "        octree_levels=[2, 0, 0],\n",
    "        octree_levels_padding=None,\n",
    "        finalize=True,\n",
    "        min_level=1,\n",
    "        max_distance=np.inf,\n",
    "    )\n",
    "\n",
    "    actv_local = utils.surface2ind_topo(mesh_local, topo)\n",
    "\n",
    "    return mesh_local, actv_local"
   ]
  },
  {
   "cell_type": "code",
   "execution_count": 163,
   "id": "4f741f93",
   "metadata": {},
   "outputs": [],
   "source": []
  },
  {
   "cell_type": "code",
   "execution_count": 164,
   "id": "38fddd2a",
   "metadata": {},
   "outputs": [],
   "source": [
    "src_location = np.array([0, 0, 30])\n",
    "rx_location = np.array([0, 0, 30])\n",
    "topo_location = np.array([0, 0, 0])\n",
    "x = np.linspace(-50, 50)\n",
    "y = np.linspace(-50, 50)\n",
    "z = np.array([0.])\n",
    "topo = utils.ndgrid(x,y,z)\n",
    "mesh_tree, ind_active_tree = create_local_mesh(src_location, rx_location, topo_location, topo)"
   ]
  },
  {
   "cell_type": "code",
   "execution_count": 194,
   "id": "6aa8c81a",
   "metadata": {},
   "outputs": [],
   "source": [
    "dx = 100\n",
    "dy = 100\n",
    "dz = 5\n",
    "hx = np.ones(100) * dx\n",
    "hy = np.ones(100) * dx\n",
    "hz = np.ones(60) * dz\n",
    "mesh =TensorMesh([hx, hy, hz], x0=[-hx.sum()/2, -hy.sum()/2, -hz.sum() + 30.])\n",
    "ind_active = mesh.gridCC[:,2]<0.\n",
    "sigma = np.ones(mesh.n_cells) * 1./1e8\n",
    "sigma[ind_active] = 1./100."
   ]
  },
  {
   "cell_type": "code",
   "execution_count": 195,
   "id": "ac12cf61",
   "metadata": {},
   "outputs": [],
   "source": [
    "Pmesh = discretize.utils.volume_average(mesh, mesh_tree)"
   ]
  },
  {
   "cell_type": "code",
   "execution_count": 196,
   "id": "d75a2a66",
   "metadata": {},
   "outputs": [
    {
     "data": {
      "text/plain": [
       "(<matplotlib.collections.QuadMesh at 0x15c09415a30>,)"
      ]
     },
     "execution_count": 196,
     "metadata": {},
     "output_type": "execute_result"
    },
    {
     "data": {
      "image/png": "[encoded data removed]",
      "text/plain": [
       "<Figure size 432x288 with 1 Axes>"
      ]
     },
     "metadata": {
      "needs_background": "light"
     },
     "output_type": "display_data"
    }
   ],
   "source": [
    "mesh.plot_slice(sigma, grid=True, normal='Y', pcolor_opts={'norm':LogNorm()})"
   ]
  },
  {
   "cell_type": "code",
   "execution_count": 197,
   "id": "a39fc7ce",
   "metadata": {},
   "outputs": [],
   "source": [
    "import scipy.sparse as sp"
   ]
  },
  {
   "cell_type": "code",
   "execution_count": 198,
   "id": "e4e8daa2",
   "metadata": {},
   "outputs": [],
   "source": [
    "n = ind_active_tree.sum()\n",
    "m = ind_active_tree.size\n",
    "J = np.argwhere(ind_active_tree).flatten()\n",
    "I = np.arange(n)\n",
    "data = np.ones(n)\n",
    "Pactive = sp.coo_matrix((data,(I, J)), shape=(n,m))"
   ]
  },
  {
   "cell_type": "code",
   "execution_count": 199,
   "id": "c294d9ad",
   "metadata": {},
   "outputs": [],
   "source": [
    "test = Pmesh @ (sigma)"
   ]
  },
  {
   "cell_type": "code",
   "execution_count": 200,
   "id": "80d07232",
   "metadata": {},
   "outputs": [],
   "source": [
    "from matplotlib.colors import LogNorm"
   ]
  },
  {
   "cell_type": "code",
   "execution_count": 201,
   "id": "6b5a33cb",
   "metadata": {},
   "outputs": [
    {
     "data": {
      "text/plain": [
       "(<matplotlib.collections.PolyCollection at 0x15c09a9aa60>,)"
      ]
     },
     "execution_count": 201,
     "metadata": {},
     "output_type": "execute_result"
    },
    {
     "data": {
      "image/png": "[encoded data removed]",
      "text/plain": [
       "<Figure size 432x288 with 1 Axes>"
      ]
     },
     "metadata": {
      "needs_background": "light"
     },
     "output_type": "display_data"
    }
   ],
   "source": [
    "mesh_tree.plot_slice((test), grid=True, normal='Y', pcolor_opts={'norm':LogNorm()})\n",
    "# plt.xlim(-100, 100)\n",
    "# plt.ylim(-100, 100)"
   ]
  },
  {
   "cell_type": "code",
   "execution_count": 202,
   "id": "0f1d77fa",
   "metadata": {},
   "outputs": [],
   "source": [
    "from SimPEG import maps"
   ]
  },
  {
   "cell_type": "code",
   "execution_count": 205,
   "id": "d860a990",
   "metadata": {},
   "outputs": [],
   "source": [
    "import numpy as np\n",
    "import scipy.sparse as sp\n",
    "import numpy as np\n",
    "from scipy.special import roots_legendre\n",
    "from scipy.interpolate import InterpolatedUnivariateSpline as iuSpline\n",
    "\n",
    "from SimPEG.electromagnetics.time_domain import Simulation3DElectricField\n",
    "\n",
    "\n",
    "class SimulationAEM(Simulation3DElectricField):\n",
    "    \"\"\"docstring for SimulationAEM\"\"\"\n",
    "\n",
    "    def simulate(\n",
    "        self,\n",
    "        m,\n",
    "        time_ch1,\n",
    "        time_input_currents_ch1,\n",
    "        input_currents_ch1,\n",
    "        time_ch2=None,\n",
    "        time_input_currents_ch2=None,\n",
    "        input_currents_ch2=None,\n",
    "        eps=1e-10,\n",
    "    ):\n",
    "        if self.verbose:\n",
    "            print('{}\\nSimulating SkyTEM data\\n{}'.format('*'*50, '*'*50))\n",
    "\n",
    "        self.model = m\n",
    "        n_steps = self.timeSteps.size\n",
    "        factor = 3/2.\n",
    "        nSrc = self.survey.nSrc\n",
    "        data_stepoff = np.zeros(\n",
    "            (self.timeSteps.size, nSrc), dtype=float, order='C'\n",
    "        )\n",
    "\n",
    "        sol_n0 = np.zeros((self.mesh.nE, nSrc), dtype=float, order='F')\n",
    "        sol_n1 = np.zeros((self.mesh.nE, nSrc), dtype=float, order='F')\n",
    "        sol_n2 = np.zeros((self.mesh.nE, nSrc), dtype=float, order='F')\n",
    "        s_e = np.zeros((self.mesh.nE, nSrc), order='F')\n",
    "\n",
    "        locs = np.zeros((nSrc, 3), order='F')\n",
    "\n",
    "        # Generate initial conditions\n",
    "        C = self.mesh.edgeCurl\n",
    "        for i_src, src in enumerate(self.survey.srcList):\n",
    "            b0 = src.bInitial(self)\n",
    "            s_e[:, i_src] = C.T*self.MfMui*b0\n",
    "            locs[i_src, :] = src.rxList[0].locs\n",
    "\n",
    "        # Assume only z-component\n",
    "        # TODO: need to be generalized\n",
    "        Fz = self.mesh.getInterpolationMat(locs, locType='Fz')\n",
    "\n",
    "        #  Time steps\n",
    "        dt_0 = 0.\n",
    "        for ii in range(n_steps):\n",
    "            dt = self.timeSteps[ii]\n",
    "            # Factor for BDF2\n",
    "            if abs(dt_0-dt) > eps:\n",
    "                if ii != 0:\n",
    "                    Ainv.clean()\n",
    "                A = self.getAdiag(dt, factor=factor)\n",
    "                if self.verbose:\n",
    "                    print('Factoring...   (dt = {:e})'.format(dt))\n",
    "                Ainv = self.Solver(A, **self.solverOpts)\n",
    "                if self.verbose:\n",
    "                    print('Done')\n",
    "\n",
    "            # Need to integrate in to RHS and getAsubdiag\n",
    "            if ii == 0:\n",
    "                rhs = factor/dt*s_e\n",
    "            elif ii == 1:\n",
    "                rhs = -factor/dt*(\n",
    "                    self.MeSigma*(-4/3.*sol_n1+1/3.*sol_n0) + 1./3.*s_e\n",
    "                )\n",
    "            else:\n",
    "                rhs = -factor/dt*(\n",
    "                    self.MeSigma*(-4/3.*sol_n1+1/3.*sol_n0)\n",
    "                )\n",
    "            if self.verbose:\n",
    "                print('    Solving...   (tInd = {:d})'.format(ii+1))\n",
    "\n",
    "            sol_n2 = Ainv*rhs\n",
    "\n",
    "            if self.verbose:\n",
    "                print('    Done...')\n",
    "\n",
    "            # Need data matrix\n",
    "            if nSrc > 1:\n",
    "                data_stepoff[ii, :] = (Fz*(-C*sol_n2)).diagonal()\n",
    "            else:\n",
    "                sol_n2 = sol_n2.reshape([-1, 1])\n",
    "                data_stepoff[ii] = (Fz*(-C*sol_n2))\n",
    "            dt_0 = dt\n",
    "            sol_n0 = sol_n1.copy()\n",
    "            sol_n1 = sol_n2.copy()\n",
    "\n",
    "        # clean factors and return\n",
    "        Ainv.clean()\n",
    "        data = np.zeros((nSrc, time.size), float, 'C')\n",
    "        data_dual_moment = np.zeros((nSrc, time_dual_moment.size), float, 'C')\n",
    "\n",
    "        for ii in range(nSrc):\n",
    "            step_func = interp1d(\n",
    "                np.log10(self.timeMesh.gridCC), data_stepoff[:, ii]\n",
    "            )\n",
    "\n",
    "            data_temp = piecewise_pulse_fast(\n",
    "                                step_func, time,\n",
    "                                time_input_currents, input_currents,\n",
    "                                period, n_pulse=1\n",
    "            )\n",
    "            data_dual_moment_temp = piecewise_pulse_fast(\n",
    "                                step_func, time_dual_moment,\n",
    "                                time_input_currents_dual_moment, input_currents_dual_moment,\n",
    "                                period_dual_moment, n_pulse=1\n",
    "            )\n",
    "            data[ii, :] = data_temp\n",
    "            data_dual_moment[ii, :] = data_dual_moment_temp\n",
    "\n",
    "        return np.r_[data.flatten(), data_dual_moment.flatten()]\n",
    "\n",
    "    def getAdiag(self, dt, factor=1.):\n",
    "        \"\"\"\n",
    "        Diagonal of the system matrix at a given time index\n",
    "        \"\"\"\n",
    "        C = self.mesh.edgeCurl\n",
    "        MfMui = self.MfMui\n",
    "        MeSigma = self.MeSigma\n",
    "\n",
    "        return C.T * (MfMui * C) + factor/dt * MeSigma"
   ]
  },
  {
   "cell_type": "code",
   "execution_count": 175,
   "id": "85858418",
   "metadata": {},
   "outputs": [
    {
     "data": {
      "text/plain": [
       "array([0.01, 0.01, 0.01, 0.01, 0.01, 0.01, 0.01, 0.01, 0.01, 0.01, 0.01,\n",
       "       0.01, 0.01, 0.01, 0.01, 0.01, 0.01, 0.01, 0.01, 0.01, 0.01, 0.01,\n",
       "       0.01, 0.01, 0.01, 0.01, 0.01, 0.01, 0.01, 0.01, 0.01, 0.01, 0.01,\n",
       "       0.01, 0.01, 0.01, 0.01, 0.01])"
      ]
     },
     "execution_count": 175,
     "metadata": {},
     "output_type": "execute_result"
    }
   ],
   "source": [
    "np.unique(test)"
   ]
  }
 ],
 "metadata": {
  "kernelspec": {
   "display_name": "Python 3",
   "language": "python",
   "name": "python3"
  },
  "language_info": {
   "codemirror_mode": {
    "name": "ipython",
    "version": 3
   },
   "file_extension": ".py",
   "mimetype": "text/x-python",
   "name": "python",
   "nbconvert_exporter": "python",
   "pygments_lexer": "ipython3",
   "version": "3.8.8"
  }
 },
 "nbformat": 4,
 "nbformat_minor": 5
}
