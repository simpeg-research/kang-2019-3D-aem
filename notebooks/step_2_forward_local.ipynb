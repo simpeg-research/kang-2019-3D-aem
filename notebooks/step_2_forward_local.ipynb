{
 "cells": [
  {
   "cell_type": "code",
   "execution_count": 72,
   "id": "7d7bd44f",
   "metadata": {},
   "outputs": [],
   "source": [
    "\"\"\"\n",
    "1D Forward Simulation with User-Defined Waveforms\n",
    "=================================================\n",
    "\n",
    "For time-domain electromagnetic problems, the response depends strongly on the\n",
    "souce waveforms. In this tutorial, we construct a set of waveforms of different\n",
    "types and simulate the response for a halfspace. Many types of waveforms can\n",
    "be constructed within *SimPEG.electromagnetics.time_domain_1d*. These include:\n",
    "    \n",
    "    - the unit step off waveform\n",
    "    - a set of basic waveforms: rectangular, triangular, quarter sine, etc...\n",
    "    - a set of system-specific waveforms: SkyTEM, VTEM, GeoTEM, etc...\n",
    "    - fully customized waveforms\n",
    "\n",
    "\n",
    "\"\"\"\n",
    "\n",
    "#####################################################\n",
    "# Import Modules\n",
    "# --------------\n",
    "#\n",
    "\n",
    "import numpy as np\n",
    "import matplotlib as mpl\n",
    "from matplotlib import pyplot as plt\n",
    "mpl.rcParams.update({'font.size':16})\n",
    "\n",
    "from SimPEG import maps\n",
    "import SimPEG.electromagnetics.time_domain as tdem\n",
    "\n",
    "\n",
    "#####################################################################\n",
    "# Define Waveforms\n",
    "# ----------------\n",
    "# \n",
    "# Here, we define the set of waveforms that will be used to simulated the\n",
    "# TEM response.\n",
    "# \n",
    "\n",
    "# General waveform. This is a fully general way to define the waveform.\n",
    "# The use simply provides times and the current.\n",
    "def custom_waveform(t, tmax):\n",
    "    out = np.cos(0.5*np.pi*(t-tmax)/(tmax+0.02))\n",
    "    out[t>=tmax] = 1 + (t[t>=tmax] - tmax)/tmax\n",
    "    return out\n",
    "\n",
    "waveform_times = np.r_[np.linspace(-0.02, -0.011, 10), -np.logspace(-2, -6, 61), 0.]\n",
    "waveform_current = custom_waveform(waveform_times, -0.0055)\n",
    "general_waveform = tdem.sources.PiecewiseLinearWaveform(\n",
    "        times=waveform_times, currents=waveform_current, \n",
    "        has_initial_fields=True\n",
    ")\n",
    "step_off_waveform = tdem.sources.StepOffWaveform()\n",
    "#####################################################################\n",
    "# Create Survey\n",
    "# -------------\n",
    "# \n",
    "# The waveform is a property of the source. So for each waveform, we will need\n",
    "# to define a separate source object. For simplicity, all sources will be\n",
    "# horizontal loops with a radius of 10 m.\n",
    "# \n",
    "\n",
    "# Define a receiver list. In this case, we measure the vertical component of\n",
    "# db/dt. Thus we only have a single receiver in the list.\n",
    "receiver_location = np.array([0., 0., 30.])\n",
    "receiver_orientation = \"z\"                    # \"x\", \"y\" or \"z\"\n",
    "times_ch1 = np.logspace(-5.5, -2, 41)               # time channels\n",
    "times_ch2 = np.logspace(-5.5, -2, 31) \n",
    "\n",
    "receiver_list_ch1 = [\n",
    "    tdem.receivers.PointMagneticFluxTimeDerivative(\n",
    "        receiver_location, times_ch1, orientation=receiver_orientation\n",
    "    )\n",
    "]\n",
    "\n",
    "receiver_list_ch2 = [\n",
    "    tdem.receivers.PointMagneticFluxTimeDerivative(\n",
    "        receiver_location, times_ch2, orientation=receiver_orientation\n",
    "    )\n",
    "]\n",
    "\n",
    "\n",
    "# Source properties. If you defined the true waveform (not normalized), the current amplitude\n",
    "# should be set to 1. Otherwise you will be accounting for the maximum current\n",
    "# amplitude twice!!! \n",
    "source_location = np.array([0., 0., 30.])  \n",
    "source_radius = 10.\n",
    "current_amplitude = 1.\n",
    "\n",
    "source_list = []\n",
    "\n",
    "    \n",
    "# General Waveform\n",
    "source_list.append(\n",
    "    tdem.sources.CircularLoop(\n",
    "        receiver_list=receiver_list_ch1, location=source_location,\n",
    "        waveform=general_waveform, radius=source_radius, current=current_amplitude\n",
    "    ),\n",
    ")\n",
    "source_list.append(    \n",
    "    tdem.sources.CircularLoop(\n",
    "        receiver_list=receiver_list_ch2, location=source_location,\n",
    "        waveform=general_waveform, radius=source_radius, current=current_amplitude\n",
    "    )\n",
    "\n",
    ")\n",
    "\n",
    "# Survey\n",
    "survey = tdem.Survey(source_list)\n",
    "\n",
    "###############################################\n",
    "# Defining a 1D Layered Earth Model\n",
    "# ---------------------------------\n",
    "#\n",
    "# Here, we define the layer thicknesses and electrical conductivities for our\n",
    "# 1D simulation. If we have N layers, we define N electrical conductivity\n",
    "# values and N-1 layer thicknesses. The lowest layer is assumed to extend to\n",
    "# infinity.\n",
    "#\n",
    "\n",
    "# Layer thicknesses\n",
    "thicknesses = np.array([40., 40.])\n",
    "n_layer = len(thicknesses) + 1\n",
    "\n",
    "# half-space physical properties\n",
    "sigma_background = 1./100.\n",
    "# physical property models\n",
    "sigma_model = sigma_background * np.ones(n_layer)\n",
    "# Define a mapping for conductivities\n",
    "model_mapping = maps.IdentityMap(nP=n_layer)\n",
    "\n",
    "#######################################################################\n",
    "# Define the Forward Simulation and Predict Data\n",
    "# ----------------------------------------------\n",
    "#\n",
    "\n",
    "# Define the simulation\n",
    "simulation_1d = tdem.Simulation1DLayered(\n",
    "    survey=survey, thicknesses=thicknesses, sigmaMap=model_mapping,\n",
    ")\n",
    "\n",
    "# Predict data for a given model\n",
    "dpred_1d = simulation_1d.dpred(sigma_model)"
   ]
  },
  {
   "cell_type": "code",
   "execution_count": 73,
   "id": "e867b030",
   "metadata": {},
   "outputs": [],
   "source": [
    "from discretize import TreeMesh\n",
    "from SimPEG import utils\n",
    "import matplotlib.pyplot as plt\n",
    "# import numpy as np\n",
    "# import discretize\n",
    "# def create_local_mesh(\n",
    "#     src_location,\n",
    "#     rx_location,\n",
    "#     topo_location,\n",
    "#     topo,\n",
    "#     h = [10., 10., 5.],\n",
    "#     x_core_lim = (-100., 100.),\n",
    "#     y_core_lim = (-20., 20.),\n",
    "#     padding_distance = [[2000., 2000.], [2000., 2000.], [2000., 2000.]]\n",
    "#     ):\n",
    "\n",
    "#     # TODO: All parameters used for generating this mesh should be input parameters\n",
    "#     # Currently fixed for a specific case\n",
    "\n",
    "#     xyz = np.vstack((rx_location, src_location))\n",
    "#     x = np.linspace(x_core_lim[0], x_core_lim[1]) + src_location[0]\n",
    "#     y = np.linspace(y_core_lim[0], y_core_lim[1]) + src_location[1]\n",
    "#     dem = utils.ndgrid(x, y, np.r_[topo_location[2]])\n",
    "\n",
    "#     mesh_local = discretize.utils.mesh_builder_xyz(\n",
    "#         dem,\n",
    "#         h,\n",
    "#         padding_distance=padding_distance,\n",
    "#         base_mesh=None,\n",
    "#         depth_core=None,\n",
    "#         expansion_factor=1.3,\n",
    "#         mesh_type='tree'\n",
    "#     )\n",
    "\n",
    "#     mesh_local = discretize.utils.refine_tree_xyz(\n",
    "#         mesh_local,\n",
    "#         dem,\n",
    "#         method='surface',\n",
    "#         octree_levels=[5, 10, 10],\n",
    "#         octree_levels_padding=None,\n",
    "#         finalize=False,\n",
    "#         min_level=0,\n",
    "#         max_distance=np.inf,\n",
    "#     )\n",
    "\n",
    "\n",
    "#     mesh_local = discretize.utils.refine_tree_xyz(\n",
    "#         mesh_local,\n",
    "#         xyz,\n",
    "#         method='radial',\n",
    "#         octree_levels=[2, 0, 0],\n",
    "#         octree_levels_padding=None,\n",
    "#         finalize=True,\n",
    "#         min_level=1,\n",
    "#         max_distance=np.inf,\n",
    "#     )\n",
    "\n",
    "#     actv_local = utils.surface2ind_topo(mesh_local, topo)\n",
    "\n",
    "#     return mesh_local, actv_local"
   ]
  },
  {
   "cell_type": "code",
   "execution_count": 74,
   "id": "45b7d87f",
   "metadata": {},
   "outputs": [],
   "source": [
    "from simpegaem import SimulationAEM, create_local_mesh"
   ]
  },
  {
   "cell_type": "code",
   "execution_count": 75,
   "id": "d43bd562",
   "metadata": {},
   "outputs": [],
   "source": [
    "from SimPEG import utils\n",
    "src_location = np.array([0, 0, 30])\n",
    "rx_location = np.array([0, 0, 30])\n",
    "topo_location = np.array([0, 0, 0])\n",
    "x = np.linspace(-50, 50)\n",
    "y = np.linspace(-50, 50)\n",
    "z = np.array([0.])\n",
    "topo = utils.ndgrid(x,y,z)\n",
    "mesh_tree, ind_active_tree = create_local_mesh(\n",
    "    src_location, rx_location, topo_location, topo,\n",
    "    padding_distance=[[2000., 2000.], [2000., 2000.], [2000., 2000.]]\n",
    ")"
   ]
  },
  {
   "cell_type": "code",
   "execution_count": 76,
   "id": "c979f2cc",
   "metadata": {},
   "outputs": [
    {
     "data": {
      "text/plain": [
       "3600"
      ]
     },
     "execution_count": 76,
     "metadata": {},
     "output_type": "execute_result"
    }
   ],
   "source": [
    "mesh_tree.n_cells"
   ]
  },
  {
   "cell_type": "code",
   "execution_count": 77,
   "id": "096e2dca",
   "metadata": {},
   "outputs": [],
   "source": [
    "from pymatsolver import PardisoSolver"
   ]
  },
  {
   "cell_type": "code",
   "execution_count": 78,
   "id": "877d1a2b",
   "metadata": {},
   "outputs": [],
   "source": [
    "def generate_time_steps(\n",
    "    n_constant_steps=15, increase_rate=3, start_time_step=5e-7, n_per_step=5\n",
    "):\n",
    "    time_steps = []\n",
    "    for i_step in range(n_constant_steps):\n",
    "        ht = np.ones(n_per_step) * start_time_step*increase_rate**i_step\n",
    "        time_steps.append(ht)\n",
    "    print(\"t_min:{:.1e}, t_max:{:.1e}\".format(start_time_step, np.sum(time_steps)))\n",
    "    return np.hstack(time_steps)"
   ]
  },
  {
   "cell_type": "code",
   "execution_count": null,
   "id": "114df6be",
   "metadata": {},
   "outputs": [],
   "source": []
  },
  {
   "cell_type": "code",
   "execution_count": 79,
   "id": "72dd48a9",
   "metadata": {},
   "outputs": [
    {
     "name": "stdout",
     "output_type": "stream",
     "text": [
      "t_min:5.0e-07, t_max:4.1e-02\n"
     ]
    }
   ],
   "source": [
    "simulation_3d = SimulationAEM(\n",
    "    mesh=mesh_tree, survey=survey, sigmaMap=maps.IdentityMap(mesh_tree),\n",
    "    solver=PardisoSolver\n",
    ")\n",
    "# dts = np.diff(np.logspace(-6, -1, 50))\n",
    "# simulation_3d.time_steps = dts\n",
    "simulation_3d.time_steps = generate_time_steps(n_constant_steps=14, increase_rate=2, start_time_step=5e-7, n_per_step=5)"
   ]
  },
  {
   "cell_type": "code",
   "execution_count": 80,
   "id": "4ffedbca",
   "metadata": {},
   "outputs": [
    {
     "data": {
      "text/plain": [
       "0.03"
      ]
     },
     "execution_count": 80,
     "metadata": {},
     "output_type": "execute_result"
    }
   ],
   "source": [
    "times_ch1.max() + general_waveform.times.max() - general_waveform.times.min()"
   ]
  },
  {
   "cell_type": "code",
   "execution_count": 81,
   "id": "0442d458",
   "metadata": {},
   "outputs": [],
   "source": [
    "src = survey.source_list[0]"
   ]
  },
  {
   "cell_type": "code",
   "execution_count": 82,
   "id": "ae1c3ad0",
   "metadata": {},
   "outputs": [],
   "source": [
    "sigma = np.ones(mesh_tree.n_cells) * 1e-8\n",
    "sigma[ind_active_tree] = sigma_background"
   ]
  },
  {
   "cell_type": "code",
   "execution_count": 83,
   "id": "c4de5b40",
   "metadata": {},
   "outputs": [
    {
     "name": "stdout",
     "output_type": "stream",
     "text": [
      "Wall time: 1.56 s\n"
     ]
    }
   ],
   "source": [
    "%%time\n",
    "d_off = simulation_3d.dpred(sigma)"
   ]
  },
  {
   "cell_type": "code",
   "execution_count": 84,
   "id": "d387ac9f",
   "metadata": {},
   "outputs": [
    {
     "data": {
      "text/plain": [
       "[<matplotlib.lines.Line2D at 0x14d7b58f9d0>]"
      ]
     },
     "execution_count": 84,
     "metadata": {},
     "output_type": "execute_result"
    },
    {
     "data": {
      "image/png": "[encoded data removed]",
      "text/plain": [
       "<Figure size 432x288 with 1 Axes>"
      ]
     },
     "metadata": {
      "needs_background": "light"
     },
     "output_type": "display_data"
    }
   ],
   "source": [
    "plt.loglog(times_ch1, -d_off[:times_ch1.size], '--')\n",
    "plt.loglog(times_ch1, -dpred_1d[:times_ch1.size])"
   ]
  },
  {
   "cell_type": "code",
   "execution_count": 85,
   "id": "7bf569e7",
   "metadata": {},
   "outputs": [
    {
     "data": {
      "text/plain": [
       "[<matplotlib.lines.Line2D at 0x14d7b724a90>]"
      ]
     },
     "execution_count": 85,
     "metadata": {},
     "output_type": "execute_result"
    },
    {
     "data": {
      "image/png": "[encoded data removed]",
      "text/plain": [
       "<Figure size 432x288 with 1 Axes>"
      ]
     },
     "metadata": {
      "needs_background": "light"
     },
     "output_type": "display_data"
    }
   ],
   "source": [
    "plt.loglog(times_ch2, -d_off[times_ch1.size:], '--')\n",
    "plt.loglog(times_ch2, -dpred_1d[times_ch1.size:])"
   ]
  },
  {
   "cell_type": "code",
   "execution_count": 86,
   "id": "9f89e7e8",
   "metadata": {},
   "outputs": [
    {
     "name": "stdout",
     "output_type": "stream",
     "text": [
      "rmse = 2.85e-02\n"
     ]
    }
   ],
   "source": [
    "print ('rmse = {:.2e}'.format(np.sqrt((((d_off-dpred_1d)/d_off)**2).sum()/ d_off.size))) "
   ]
  },
  {
   "cell_type": "code",
   "execution_count": null,
   "id": "bc1a8aa5",
   "metadata": {},
   "outputs": [],
   "source": []
  }
 ],
 "metadata": {
  "kernelspec": {
   "display_name": "Python 3",
   "language": "python",
   "name": "python3"
  },
  "language_info": {
   "codemirror_mode": {
    "name": "ipython",
    "version": 3
   },
   "file_extension": ".py",
   "mimetype": "text/x-python",
   "name": "python",
   "nbconvert_exporter": "python",
   "pygments_lexer": "ipython3",
   "version": "3.8.8"
  }
 },
 "nbformat": 4,
 "nbformat_minor": 5
}
